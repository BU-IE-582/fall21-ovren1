{
 "cells": [
  {
   "cell_type": "markdown",
   "metadata": {
    "id": "BvfVLZ2NBW0_"
   },
   "source": [
    "# Introduction"
   ]
  },
  {
   "cell_type": "markdown",
   "metadata": {
    "id": "CDy7blFUBZeL"
   },
   "source": [
    "In this Project, We are expected to calculate "
   ]
  },
  {
   "cell_type": "code",
   "execution_count": null,
   "metadata": {
    "id": "wQD-etvxBWoN"
   },
   "outputs": [],
   "source": []
  },
  {
   "cell_type": "code",
   "execution_count": null,
   "metadata": {
    "id": "v_rur0ztj8tZ"
   },
   "outputs": [],
   "source": [
    "# numpy and pandas for data manipulation\n",
    "import numpy as np\n",
    "import pandas as pd \n",
    "\n",
    "# sklearn preprocessing for dealing with categorical variables\n",
    "from sklearn.preprocessing import LabelEncoder\n",
    "\n",
    "# File system manangement\n",
    "import os\n",
    "\n",
    "# Suppress warnings \n",
    "import warnings\n",
    "warnings.filterwarnings('ignore')\n",
    "\n",
    "# matplotlib and seaborn for plotting\n",
    "import matplotlib.pyplot as plt\n",
    "import seaborn as sns"
   ]
  },
  {
   "cell_type": "code",
   "execution_count": null,
   "metadata": {
    "colab": {
     "base_uri": "https://localhost:8080/"
    },
    "id": "02LlMTzo3hju",
    "outputId": "43571f5d-1679-4700-ca9a-5861667b0adc"
   },
   "outputs": [
    {
     "name": "stdout",
     "output_type": "stream",
     "text": [
      "Mounted at /content/drive\n"
     ]
    }
   ],
   "source": [
    "from google.colab import drive\n",
    "drive.mount('/content/drive')"
   ]
  },
  {
   "cell_type": "code",
   "execution_count": null,
   "metadata": {
    "id": "6JXABr5YQHS6"
   },
   "outputs": [],
   "source": [
    "test_id=pd.read_csv('/content/drive/MyDrive/IE582-PROJECT/IE582_Fall21_test_data/test_ids_in_prediction (3).csv')"
   ]
  },
  {
   "cell_type": "code",
   "execution_count": null,
   "metadata": {
    "id": "M6Rhe63CmvTB"
   },
   "outputs": [],
   "source": [
    "data = pd.read_csv('/content/drive/MyDrive/IE582-PROJECT/IE582_Fall21_train_data/train.csv')\n",
    "df = data.copy()\n"
   ]
  },
  {
   "cell_type": "code",
   "execution_count": null,
   "metadata": {
    "colab": {
     "base_uri": "https://localhost:8080/",
     "height": 444
    },
    "id": "g1Ja7ktOOG9i",
    "outputId": "1e4e2eb0-0df6-4f2d-a9ee-b7387d6f8b91"
   },
   "outputs": [
    {
     "data": {
      "text/html": [
       "\n",
       "  <div id=\"df-3426323e-7130-4a4a-905f-0b87d90055c4\">\n",
       "    <div class=\"colab-df-container\">\n",
       "      <div>\n",
       "<style scoped>\n",
       "    .dataframe tbody tr th:only-of-type {\n",
       "        vertical-align: middle;\n",
       "    }\n",
       "\n",
       "    .dataframe tbody tr th {\n",
       "        vertical-align: top;\n",
       "    }\n",
       "\n",
       "    .dataframe thead th {\n",
       "        text-align: right;\n",
       "    }\n",
       "</style>\n",
       "<table border=\"1\" class=\"dataframe\">\n",
       "  <thead>\n",
       "    <tr style=\"text-align: right;\">\n",
       "      <th></th>\n",
       "      <th>time_stamp</th>\n",
       "      <th>contentid</th>\n",
       "      <th>user_action</th>\n",
       "      <th>sellingprice</th>\n",
       "      <th>product_name</th>\n",
       "      <th>brand_id</th>\n",
       "      <th>brand_name</th>\n",
       "      <th>businessunit</th>\n",
       "      <th>product_gender</th>\n",
       "      <th>category_id</th>\n",
       "      <th>Level1_Category_Id</th>\n",
       "      <th>Level1_Category_Name</th>\n",
       "      <th>Level2_Category_Id</th>\n",
       "      <th>Level2_Category_Name</th>\n",
       "      <th>Level3_Category_Id</th>\n",
       "      <th>Level3_Category_Name</th>\n",
       "      <th>gender</th>\n",
       "      <th>unique_id</th>\n",
       "      <th>type</th>\n",
       "    </tr>\n",
       "  </thead>\n",
       "  <tbody>\n",
       "    <tr>\n",
       "      <th>0</th>\n",
       "      <td>2020-12-02T22:26:14.023Z</td>\n",
       "      <td>39918893.0</td>\n",
       "      <td>favorite</td>\n",
       "      <td>3099.00</td>\n",
       "      <td>PerfectCare 600 EW6F449ST A+++ 9 KG 1400 Devir...</td>\n",
       "      <td>8511.0</td>\n",
       "      <td>Electrolux</td>\n",
       "      <td>Beyaz Eşya</td>\n",
       "      <td>Unisex</td>\n",
       "      <td>1272.0</td>\n",
       "      <td>1071.0</td>\n",
       "      <td>Elektronik</td>\n",
       "      <td>1212.0</td>\n",
       "      <td>Beyaz Eşya</td>\n",
       "      <td>1272.0</td>\n",
       "      <td>Çamaşır Makinesi</td>\n",
       "      <td>1</td>\n",
       "      <td>425</td>\n",
       "      <td>train</td>\n",
       "    </tr>\n",
       "    <tr>\n",
       "      <th>2</th>\n",
       "      <td>2020-12-05T16:19:01.157Z</td>\n",
       "      <td>31292729.0</td>\n",
       "      <td>favorite</td>\n",
       "      <td>3999.00</td>\n",
       "      <td>KM 9711 A++ 9 kg Çamaşır Kurutma Makinesi</td>\n",
       "      <td>10989.0</td>\n",
       "      <td>Vestel</td>\n",
       "      <td>Beyaz Eşya</td>\n",
       "      <td>Unisex</td>\n",
       "      <td>1276.0</td>\n",
       "      <td>1071.0</td>\n",
       "      <td>Elektronik</td>\n",
       "      <td>1212.0</td>\n",
       "      <td>Beyaz Eşya</td>\n",
       "      <td>1276.0</td>\n",
       "      <td>Kurutma Makinesi</td>\n",
       "      <td>1</td>\n",
       "      <td>425</td>\n",
       "      <td>train</td>\n",
       "    </tr>\n",
       "    <tr>\n",
       "      <th>4</th>\n",
       "      <td>2020-12-02T22:26:59Z</td>\n",
       "      <td>39918893.0</td>\n",
       "      <td>visit</td>\n",
       "      <td>3099.00</td>\n",
       "      <td>PerfectCare 600 EW6F449ST A+++ 9 KG 1400 Devir...</td>\n",
       "      <td>8511.0</td>\n",
       "      <td>Electrolux</td>\n",
       "      <td>Beyaz Eşya</td>\n",
       "      <td>Unisex</td>\n",
       "      <td>1272.0</td>\n",
       "      <td>1071.0</td>\n",
       "      <td>Elektronik</td>\n",
       "      <td>1212.0</td>\n",
       "      <td>Beyaz Eşya</td>\n",
       "      <td>1272.0</td>\n",
       "      <td>Çamaşır Makinesi</td>\n",
       "      <td>1</td>\n",
       "      <td>425</td>\n",
       "      <td>train</td>\n",
       "    </tr>\n",
       "    <tr>\n",
       "      <th>5</th>\n",
       "      <td>2020-11-03T21:04:11Z</td>\n",
       "      <td>32593071.0</td>\n",
       "      <td>visit</td>\n",
       "      <td>266.65</td>\n",
       "      <td>Siyah Kadın Abiye Ayakkabı 01AYH158420A100</td>\n",
       "      <td>59.0</td>\n",
       "      <td>Hotiç</td>\n",
       "      <td>Branded Shoes A</td>\n",
       "      <td>Kadın</td>\n",
       "      <td>431.0</td>\n",
       "      <td>403.0</td>\n",
       "      <td>Ayakkabı</td>\n",
       "      <td>430.0</td>\n",
       "      <td>Topuklu Ayakkabı</td>\n",
       "      <td>431.0</td>\n",
       "      <td>Abiye Ayakkabı</td>\n",
       "      <td>1</td>\n",
       "      <td>425</td>\n",
       "      <td>train</td>\n",
       "    </tr>\n",
       "    <tr>\n",
       "      <th>6</th>\n",
       "      <td>2020-12-05T16:21:12Z</td>\n",
       "      <td>4946868.0</td>\n",
       "      <td>visit</td>\n",
       "      <td>0.00</td>\n",
       "      <td>Kadın Oval Güneş Gözlüğü OS 2589 03</td>\n",
       "      <td>1802.0</td>\n",
       "      <td>Osse</td>\n",
       "      <td>Gözlük A</td>\n",
       "      <td>Kadın</td>\n",
       "      <td>379.0</td>\n",
       "      <td>368.0</td>\n",
       "      <td>Aksesuar</td>\n",
       "      <td>2876.0</td>\n",
       "      <td>Gözlük</td>\n",
       "      <td>379.0</td>\n",
       "      <td>Güneş Gözlüğü</td>\n",
       "      <td>1</td>\n",
       "      <td>425</td>\n",
       "      <td>train</td>\n",
       "    </tr>\n",
       "  </tbody>\n",
       "</table>\n",
       "</div>\n",
       "      <button class=\"colab-df-convert\" onclick=\"convertToInteractive('df-3426323e-7130-4a4a-905f-0b87d90055c4')\"\n",
       "              title=\"Convert this dataframe to an interactive table.\"\n",
       "              style=\"display:none;\">\n",
       "        \n",
       "  <svg xmlns=\"http://www.w3.org/2000/svg\" height=\"24px\"viewBox=\"0 0 24 24\"\n",
       "       width=\"24px\">\n",
       "    <path d=\"M0 0h24v24H0V0z\" fill=\"none\"/>\n",
       "    <path d=\"M18.56 5.44l.94 2.06.94-2.06 2.06-.94-2.06-.94-.94-2.06-.94 2.06-2.06.94zm-11 1L8.5 8.5l.94-2.06 2.06-.94-2.06-.94L8.5 2.5l-.94 2.06-2.06.94zm10 10l.94 2.06.94-2.06 2.06-.94-2.06-.94-.94-2.06-.94 2.06-2.06.94z\"/><path d=\"M17.41 7.96l-1.37-1.37c-.4-.4-.92-.59-1.43-.59-.52 0-1.04.2-1.43.59L10.3 9.45l-7.72 7.72c-.78.78-.78 2.05 0 2.83L4 21.41c.39.39.9.59 1.41.59.51 0 1.02-.2 1.41-.59l7.78-7.78 2.81-2.81c.8-.78.8-2.07 0-2.86zM5.41 20L4 18.59l7.72-7.72 1.47 1.35L5.41 20z\"/>\n",
       "  </svg>\n",
       "      </button>\n",
       "      \n",
       "  <style>\n",
       "    .colab-df-container {\n",
       "      display:flex;\n",
       "      flex-wrap:wrap;\n",
       "      gap: 12px;\n",
       "    }\n",
       "\n",
       "    .colab-df-convert {\n",
       "      background-color: #E8F0FE;\n",
       "      border: none;\n",
       "      border-radius: 50%;\n",
       "      cursor: pointer;\n",
       "      display: none;\n",
       "      fill: #1967D2;\n",
       "      height: 32px;\n",
       "      padding: 0 0 0 0;\n",
       "      width: 32px;\n",
       "    }\n",
       "\n",
       "    .colab-df-convert:hover {\n",
       "      background-color: #E2EBFA;\n",
       "      box-shadow: 0px 1px 2px rgba(60, 64, 67, 0.3), 0px 1px 3px 1px rgba(60, 64, 67, 0.15);\n",
       "      fill: #174EA6;\n",
       "    }\n",
       "\n",
       "    [theme=dark] .colab-df-convert {\n",
       "      background-color: #3B4455;\n",
       "      fill: #D2E3FC;\n",
       "    }\n",
       "\n",
       "    [theme=dark] .colab-df-convert:hover {\n",
       "      background-color: #434B5C;\n",
       "      box-shadow: 0px 1px 3px 1px rgba(0, 0, 0, 0.15);\n",
       "      filter: drop-shadow(0px 1px 2px rgba(0, 0, 0, 0.3));\n",
       "      fill: #FFFFFF;\n",
       "    }\n",
       "  </style>\n",
       "\n",
       "      <script>\n",
       "        const buttonEl =\n",
       "          document.querySelector('#df-3426323e-7130-4a4a-905f-0b87d90055c4 button.colab-df-convert');\n",
       "        buttonEl.style.display =\n",
       "          google.colab.kernel.accessAllowed ? 'block' : 'none';\n",
       "\n",
       "        async function convertToInteractive(key) {\n",
       "          const element = document.querySelector('#df-3426323e-7130-4a4a-905f-0b87d90055c4');\n",
       "          const dataTable =\n",
       "            await google.colab.kernel.invokeFunction('convertToInteractive',\n",
       "                                                     [key], {});\n",
       "          if (!dataTable) return;\n",
       "\n",
       "          const docLinkHtml = 'Like what you see? Visit the ' +\n",
       "            '<a target=\"_blank\" href=https://colab.research.google.com/notebooks/data_table.ipynb>data table notebook</a>'\n",
       "            + ' to learn more about interactive tables.';\n",
       "          element.innerHTML = '';\n",
       "          dataTable['output_type'] = 'display_data';\n",
       "          await google.colab.output.renderOutput(dataTable, element);\n",
       "          const docLink = document.createElement('div');\n",
       "          docLink.innerHTML = docLinkHtml;\n",
       "          element.appendChild(docLink);\n",
       "        }\n",
       "      </script>\n",
       "    </div>\n",
       "  </div>\n",
       "  "
      ],
      "text/plain": [
       "                 time_stamp   contentid user_action  ...  gender unique_id   type\n",
       "0  2020-12-02T22:26:14.023Z  39918893.0    favorite  ...       1       425  train\n",
       "2  2020-12-05T16:19:01.157Z  31292729.0    favorite  ...       1       425  train\n",
       "4      2020-12-02T22:26:59Z  39918893.0       visit  ...       1       425  train\n",
       "5      2020-11-03T21:04:11Z  32593071.0       visit  ...       1       425  train\n",
       "6      2020-12-05T16:21:12Z   4946868.0       visit  ...       1       425  train\n",
       "\n",
       "[5 rows x 19 columns]"
      ]
     },
     "execution_count": 39,
     "metadata": {},
     "output_type": "execute_result"
    }
   ],
   "source": [
    "df.head()"
   ]
  },
  {
   "cell_type": "code",
   "execution_count": null,
   "metadata": {
    "colab": {
     "base_uri": "https://localhost:8080/",
     "height": 957
    },
    "id": "jcM320CoHrsD",
    "outputId": "5fd9ddc2-9da1-45a0-a066-c53d50d95d67"
   },
   "outputs": [
    {
     "data": {
      "text/html": [
       "\n",
       "  <div id=\"df-dd000e53-c743-4c34-b6ff-0f5389034b55\">\n",
       "    <div class=\"colab-df-container\">\n",
       "      <div>\n",
       "<style scoped>\n",
       "    .dataframe tbody tr th:only-of-type {\n",
       "        vertical-align: middle;\n",
       "    }\n",
       "\n",
       "    .dataframe tbody tr th {\n",
       "        vertical-align: top;\n",
       "    }\n",
       "\n",
       "    .dataframe thead th {\n",
       "        text-align: right;\n",
       "    }\n",
       "</style>\n",
       "<table border=\"1\" class=\"dataframe\">\n",
       "  <thead>\n",
       "    <tr style=\"text-align: right;\">\n",
       "      <th></th>\n",
       "      <th>time_stamp</th>\n",
       "      <th>contentid</th>\n",
       "      <th>user_action</th>\n",
       "      <th>sellingprice</th>\n",
       "      <th>product_name</th>\n",
       "      <th>brand_id</th>\n",
       "      <th>brand_name</th>\n",
       "      <th>businessunit</th>\n",
       "      <th>product_gender</th>\n",
       "      <th>category_id</th>\n",
       "      <th>Level1_Category_Id</th>\n",
       "      <th>Level1_Category_Name</th>\n",
       "      <th>Level2_Category_Id</th>\n",
       "      <th>Level2_Category_Name</th>\n",
       "      <th>Level3_Category_Id</th>\n",
       "      <th>Level3_Category_Name</th>\n",
       "      <th>gender</th>\n",
       "      <th>unique_id</th>\n",
       "      <th>type</th>\n",
       "    </tr>\n",
       "  </thead>\n",
       "  <tbody>\n",
       "    <tr>\n",
       "      <th>0</th>\n",
       "      <td>2020-12-01T00:46:25Z</td>\n",
       "      <td>55075555.0</td>\n",
       "      <td>visit</td>\n",
       "      <td>89.99</td>\n",
       "      <td>Kadın Pembe Kareli Uçları Saçaklı Uzun Atkı 17...</td>\n",
       "      <td>1867.0</td>\n",
       "      <td>PIECES</td>\n",
       "      <td>Kadın A</td>\n",
       "      <td>Kadın</td>\n",
       "      <td>382.0</td>\n",
       "      <td>368.0</td>\n",
       "      <td>Aksesuar</td>\n",
       "      <td>1162.0</td>\n",
       "      <td>Atkı &amp; Bere &amp; Eldiven</td>\n",
       "      <td>382.0</td>\n",
       "      <td>Atkı</td>\n",
       "      <td>NaN</td>\n",
       "      <td>108</td>\n",
       "      <td>test</td>\n",
       "    </tr>\n",
       "    <tr>\n",
       "      <th>1</th>\n",
       "      <td>2020-12-03T19:26:19Z</td>\n",
       "      <td>32026013.0</td>\n",
       "      <td>visit</td>\n",
       "      <td>27.11</td>\n",
       "      <td>12835 Siyah Bere</td>\n",
       "      <td>33496.0</td>\n",
       "      <td>Axesoire</td>\n",
       "      <td>Diğer Aksesuarlar</td>\n",
       "      <td>Kadın</td>\n",
       "      <td>384.0</td>\n",
       "      <td>368.0</td>\n",
       "      <td>Aksesuar</td>\n",
       "      <td>1162.0</td>\n",
       "      <td>Atkı &amp; Bere &amp; Eldiven</td>\n",
       "      <td>384.0</td>\n",
       "      <td>Bere</td>\n",
       "      <td>NaN</td>\n",
       "      <td>108</td>\n",
       "      <td>test</td>\n",
       "    </tr>\n",
       "    <tr>\n",
       "      <th>2</th>\n",
       "      <td>2020-11-12T21:55:33Z</td>\n",
       "      <td>4237521.0</td>\n",
       "      <td>visit</td>\n",
       "      <td>169.90</td>\n",
       "      <td>K 909 Perfection Kırmızı Saç Düzleştirici Saç ...</td>\n",
       "      <td>11022.0</td>\n",
       "      <td>King</td>\n",
       "      <td>Kişisel Bakım Aletleri</td>\n",
       "      <td>Kadın</td>\n",
       "      <td>865.0</td>\n",
       "      <td>1071.0</td>\n",
       "      <td>Elektronik</td>\n",
       "      <td>2373.0</td>\n",
       "      <td>Kişisel Bakım Aletleri</td>\n",
       "      <td>865.0</td>\n",
       "      <td>Saç Düzleştirici</td>\n",
       "      <td>NaN</td>\n",
       "      <td>108</td>\n",
       "      <td>test</td>\n",
       "    </tr>\n",
       "    <tr>\n",
       "      <th>3</th>\n",
       "      <td>2020-11-02T02:07:38Z</td>\n",
       "      <td>33388105.0</td>\n",
       "      <td>visit</td>\n",
       "      <td>59.90</td>\n",
       "      <td>Pratik Isıtıcı + 1 Adet 200g Pudralı</td>\n",
       "      <td>25522.0</td>\n",
       "      <td>İnci Ağda</td>\n",
       "      <td>Kişisel Bakım</td>\n",
       "      <td>NaN</td>\n",
       "      <td>2431.0</td>\n",
       "      <td>1070.0</td>\n",
       "      <td>Kozmetik &amp; Kişisel Bakım</td>\n",
       "      <td>2430.0</td>\n",
       "      <td>Tıraş, Ağda ve Epilasyon</td>\n",
       "      <td>1542.0</td>\n",
       "      <td>Ağda &amp; Tüy Dökücü</td>\n",
       "      <td>NaN</td>\n",
       "      <td>108</td>\n",
       "      <td>test</td>\n",
       "    </tr>\n",
       "    <tr>\n",
       "      <th>4</th>\n",
       "      <td>2020-11-19T18:07:42Z</td>\n",
       "      <td>32433838.0</td>\n",
       "      <td>visit</td>\n",
       "      <td>38.99</td>\n",
       "      <td>Atkı</td>\n",
       "      <td>842.0</td>\n",
       "      <td>Koton</td>\n",
       "      <td>Kadın A</td>\n",
       "      <td>Kadın</td>\n",
       "      <td>382.0</td>\n",
       "      <td>368.0</td>\n",
       "      <td>Aksesuar</td>\n",
       "      <td>1162.0</td>\n",
       "      <td>Atkı &amp; Bere &amp; Eldiven</td>\n",
       "      <td>382.0</td>\n",
       "      <td>Atkı</td>\n",
       "      <td>NaN</td>\n",
       "      <td>108</td>\n",
       "      <td>test</td>\n",
       "    </tr>\n",
       "    <tr>\n",
       "      <th>...</th>\n",
       "      <td>...</td>\n",
       "      <td>...</td>\n",
       "      <td>...</td>\n",
       "      <td>...</td>\n",
       "      <td>...</td>\n",
       "      <td>...</td>\n",
       "      <td>...</td>\n",
       "      <td>...</td>\n",
       "      <td>...</td>\n",
       "      <td>...</td>\n",
       "      <td>...</td>\n",
       "      <td>...</td>\n",
       "      <td>...</td>\n",
       "      <td>...</td>\n",
       "      <td>...</td>\n",
       "      <td>...</td>\n",
       "      <td>...</td>\n",
       "      <td>...</td>\n",
       "      <td>...</td>\n",
       "    </tr>\n",
       "    <tr>\n",
       "      <th>2324809</th>\n",
       "      <td>2020-12-08T22:42:09Z</td>\n",
       "      <td>39832331.0</td>\n",
       "      <td>visit</td>\n",
       "      <td>0.00</td>\n",
       "      <td>3 Katlı Telli Cerrahi Maske 1 Kutu 50 Adet Kut...</td>\n",
       "      <td>972528.0</td>\n",
       "      <td>masktak</td>\n",
       "      <td>Sağlık</td>\n",
       "      <td>NaN</td>\n",
       "      <td>4025.0</td>\n",
       "      <td>1219.0</td>\n",
       "      <td>Süpermarket</td>\n",
       "      <td>2377.0</td>\n",
       "      <td>Sağlık</td>\n",
       "      <td>4025.0</td>\n",
       "      <td>Medikal Maske</td>\n",
       "      <td>NaN</td>\n",
       "      <td>7509</td>\n",
       "      <td>test</td>\n",
       "    </tr>\n",
       "    <tr>\n",
       "      <th>2324810</th>\n",
       "      <td>2020-12-08T22:42:14Z</td>\n",
       "      <td>46129448.0</td>\n",
       "      <td>basket</td>\n",
       "      <td>71.10</td>\n",
       "      <td>Yumuşak Elastik Kulaklı Maske 100 Adet</td>\n",
       "      <td>33938.0</td>\n",
       "      <td>Evony</td>\n",
       "      <td>Sağlık</td>\n",
       "      <td>NaN</td>\n",
       "      <td>4025.0</td>\n",
       "      <td>1219.0</td>\n",
       "      <td>Süpermarket</td>\n",
       "      <td>2377.0</td>\n",
       "      <td>Sağlık</td>\n",
       "      <td>4025.0</td>\n",
       "      <td>Medikal Maske</td>\n",
       "      <td>NaN</td>\n",
       "      <td>7509</td>\n",
       "      <td>test</td>\n",
       "    </tr>\n",
       "    <tr>\n",
       "      <th>2324811</th>\n",
       "      <td>2020-12-08T22:42:16Z</td>\n",
       "      <td>46881661.0</td>\n",
       "      <td>visit</td>\n",
       "      <td>39.29</td>\n",
       "      <td>Yumuşak Elastik Kulaklı 3 Katlı Cerrahi Maske ...</td>\n",
       "      <td>33938.0</td>\n",
       "      <td>Evony</td>\n",
       "      <td>Sağlık</td>\n",
       "      <td>NaN</td>\n",
       "      <td>4025.0</td>\n",
       "      <td>1219.0</td>\n",
       "      <td>Süpermarket</td>\n",
       "      <td>2377.0</td>\n",
       "      <td>Sağlık</td>\n",
       "      <td>4025.0</td>\n",
       "      <td>Medikal Maske</td>\n",
       "      <td>NaN</td>\n",
       "      <td>7509</td>\n",
       "      <td>test</td>\n",
       "    </tr>\n",
       "    <tr>\n",
       "      <th>2324812</th>\n",
       "      <td>2020-12-08T22:42:07Z</td>\n",
       "      <td>43524099.0</td>\n",
       "      <td>basket</td>\n",
       "      <td>0.00</td>\n",
       "      <td>50 Adet Siyah Tek Kullanımlık Lastikli Telli 3...</td>\n",
       "      <td>961001.0</td>\n",
       "      <td>Commando</td>\n",
       "      <td>Sağlık</td>\n",
       "      <td>NaN</td>\n",
       "      <td>4025.0</td>\n",
       "      <td>1219.0</td>\n",
       "      <td>Süpermarket</td>\n",
       "      <td>2377.0</td>\n",
       "      <td>Sağlık</td>\n",
       "      <td>4025.0</td>\n",
       "      <td>Medikal Maske</td>\n",
       "      <td>NaN</td>\n",
       "      <td>7509</td>\n",
       "      <td>test</td>\n",
       "    </tr>\n",
       "    <tr>\n",
       "      <th>2324813</th>\n",
       "      <td>2020-12-08T22:42:05Z</td>\n",
       "      <td>43524099.0</td>\n",
       "      <td>visit</td>\n",
       "      <td>0.00</td>\n",
       "      <td>50 Adet Siyah Tek Kullanımlık Lastikli Telli 3...</td>\n",
       "      <td>961001.0</td>\n",
       "      <td>Commando</td>\n",
       "      <td>Sağlık</td>\n",
       "      <td>NaN</td>\n",
       "      <td>4025.0</td>\n",
       "      <td>1219.0</td>\n",
       "      <td>Süpermarket</td>\n",
       "      <td>2377.0</td>\n",
       "      <td>Sağlık</td>\n",
       "      <td>4025.0</td>\n",
       "      <td>Medikal Maske</td>\n",
       "      <td>NaN</td>\n",
       "      <td>7509</td>\n",
       "      <td>test</td>\n",
       "    </tr>\n",
       "  </tbody>\n",
       "</table>\n",
       "<p>2324814 rows × 19 columns</p>\n",
       "</div>\n",
       "      <button class=\"colab-df-convert\" onclick=\"convertToInteractive('df-dd000e53-c743-4c34-b6ff-0f5389034b55')\"\n",
       "              title=\"Convert this dataframe to an interactive table.\"\n",
       "              style=\"display:none;\">\n",
       "        \n",
       "  <svg xmlns=\"http://www.w3.org/2000/svg\" height=\"24px\"viewBox=\"0 0 24 24\"\n",
       "       width=\"24px\">\n",
       "    <path d=\"M0 0h24v24H0V0z\" fill=\"none\"/>\n",
       "    <path d=\"M18.56 5.44l.94 2.06.94-2.06 2.06-.94-2.06-.94-.94-2.06-.94 2.06-2.06.94zm-11 1L8.5 8.5l.94-2.06 2.06-.94-2.06-.94L8.5 2.5l-.94 2.06-2.06.94zm10 10l.94 2.06.94-2.06 2.06-.94-2.06-.94-.94-2.06-.94 2.06-2.06.94z\"/><path d=\"M17.41 7.96l-1.37-1.37c-.4-.4-.92-.59-1.43-.59-.52 0-1.04.2-1.43.59L10.3 9.45l-7.72 7.72c-.78.78-.78 2.05 0 2.83L4 21.41c.39.39.9.59 1.41.59.51 0 1.02-.2 1.41-.59l7.78-7.78 2.81-2.81c.8-.78.8-2.07 0-2.86zM5.41 20L4 18.59l7.72-7.72 1.47 1.35L5.41 20z\"/>\n",
       "  </svg>\n",
       "      </button>\n",
       "      \n",
       "  <style>\n",
       "    .colab-df-container {\n",
       "      display:flex;\n",
       "      flex-wrap:wrap;\n",
       "      gap: 12px;\n",
       "    }\n",
       "\n",
       "    .colab-df-convert {\n",
       "      background-color: #E8F0FE;\n",
       "      border: none;\n",
       "      border-radius: 50%;\n",
       "      cursor: pointer;\n",
       "      display: none;\n",
       "      fill: #1967D2;\n",
       "      height: 32px;\n",
       "      padding: 0 0 0 0;\n",
       "      width: 32px;\n",
       "    }\n",
       "\n",
       "    .colab-df-convert:hover {\n",
       "      background-color: #E2EBFA;\n",
       "      box-shadow: 0px 1px 2px rgba(60, 64, 67, 0.3), 0px 1px 3px 1px rgba(60, 64, 67, 0.15);\n",
       "      fill: #174EA6;\n",
       "    }\n",
       "\n",
       "    [theme=dark] .colab-df-convert {\n",
       "      background-color: #3B4455;\n",
       "      fill: #D2E3FC;\n",
       "    }\n",
       "\n",
       "    [theme=dark] .colab-df-convert:hover {\n",
       "      background-color: #434B5C;\n",
       "      box-shadow: 0px 1px 3px 1px rgba(0, 0, 0, 0.15);\n",
       "      filter: drop-shadow(0px 1px 2px rgba(0, 0, 0, 0.3));\n",
       "      fill: #FFFFFF;\n",
       "    }\n",
       "  </style>\n",
       "\n",
       "      <script>\n",
       "        const buttonEl =\n",
       "          document.querySelector('#df-dd000e53-c743-4c34-b6ff-0f5389034b55 button.colab-df-convert');\n",
       "        buttonEl.style.display =\n",
       "          google.colab.kernel.accessAllowed ? 'block' : 'none';\n",
       "\n",
       "        async function convertToInteractive(key) {\n",
       "          const element = document.querySelector('#df-dd000e53-c743-4c34-b6ff-0f5389034b55');\n",
       "          const dataTable =\n",
       "            await google.colab.kernel.invokeFunction('convertToInteractive',\n",
       "                                                     [key], {});\n",
       "          if (!dataTable) return;\n",
       "\n",
       "          const docLinkHtml = 'Like what you see? Visit the ' +\n",
       "            '<a target=\"_blank\" href=https://colab.research.google.com/notebooks/data_table.ipynb>data table notebook</a>'\n",
       "            + ' to learn more about interactive tables.';\n",
       "          element.innerHTML = '';\n",
       "          dataTable['output_type'] = 'display_data';\n",
       "          await google.colab.output.renderOutput(dataTable, element);\n",
       "          const docLink = document.createElement('div');\n",
       "          docLink.innerHTML = docLinkHtml;\n",
       "          element.appendChild(docLink);\n",
       "        }\n",
       "      </script>\n",
       "    </div>\n",
       "  </div>\n",
       "  "
      ],
      "text/plain": [
       "                   time_stamp   contentid user_action  ...  gender unique_id  type\n",
       "0        2020-12-01T00:46:25Z  55075555.0       visit  ...     NaN       108  test\n",
       "1        2020-12-03T19:26:19Z  32026013.0       visit  ...     NaN       108  test\n",
       "2        2020-11-12T21:55:33Z   4237521.0       visit  ...     NaN       108  test\n",
       "3        2020-11-02T02:07:38Z  33388105.0       visit  ...     NaN       108  test\n",
       "4        2020-11-19T18:07:42Z  32433838.0       visit  ...     NaN       108  test\n",
       "...                       ...         ...         ...  ...     ...       ...   ...\n",
       "2324809  2020-12-08T22:42:09Z  39832331.0       visit  ...     NaN      7509  test\n",
       "2324810  2020-12-08T22:42:14Z  46129448.0      basket  ...     NaN      7509  test\n",
       "2324811  2020-12-08T22:42:16Z  46881661.0       visit  ...     NaN      7509  test\n",
       "2324812  2020-12-08T22:42:07Z  43524099.0      basket  ...     NaN      7509  test\n",
       "2324813  2020-12-08T22:42:05Z  43524099.0       visit  ...     NaN      7509  test\n",
       "\n",
       "[2324814 rows x 19 columns]"
      ]
     },
     "execution_count": 38,
     "metadata": {},
     "output_type": "execute_result"
    }
   ],
   "source": [
    "df2 = pd.read_csv('/content/drive/MyDrive/IE582-PROJECT/IE582_Fall21_test_data/test.csv')\n",
    "df2"
   ]
  },
  {
   "cell_type": "markdown",
   "metadata": {
    "id": "2Tc_JcPSCX1M"
   },
   "source": [
    "# Missin Value"
   ]
  },
  {
   "cell_type": "code",
   "execution_count": null,
   "metadata": {
    "colab": {
     "base_uri": "https://localhost:8080/",
     "height": 84
    },
    "id": "CoxrXtRvm8ye",
    "outputId": "394736ad-132b-4b64-c268-9a200f749542"
   },
   "outputs": [
    {
     "name": "stdout",
     "output_type": "stream",
     "text": [
      "Your selected dataframe has 19 columns.\n",
      "There are 0 columns that have missing values.\n"
     ]
    },
    {
     "data": {
      "text/html": [
       "\n",
       "  <div id=\"df-ee6c2d05-101e-49ef-88b1-eb6eb41770f6\">\n",
       "    <div class=\"colab-df-container\">\n",
       "      <div>\n",
       "<style scoped>\n",
       "    .dataframe tbody tr th:only-of-type {\n",
       "        vertical-align: middle;\n",
       "    }\n",
       "\n",
       "    .dataframe tbody tr th {\n",
       "        vertical-align: top;\n",
       "    }\n",
       "\n",
       "    .dataframe thead th {\n",
       "        text-align: right;\n",
       "    }\n",
       "</style>\n",
       "<table border=\"1\" class=\"dataframe\">\n",
       "  <thead>\n",
       "    <tr style=\"text-align: right;\">\n",
       "      <th></th>\n",
       "      <th>Missing Values</th>\n",
       "      <th>% of Total Values</th>\n",
       "    </tr>\n",
       "  </thead>\n",
       "  <tbody>\n",
       "  </tbody>\n",
       "</table>\n",
       "</div>\n",
       "      <button class=\"colab-df-convert\" onclick=\"convertToInteractive('df-ee6c2d05-101e-49ef-88b1-eb6eb41770f6')\"\n",
       "              title=\"Convert this dataframe to an interactive table.\"\n",
       "              style=\"display:none;\">\n",
       "        \n",
       "  <svg xmlns=\"http://www.w3.org/2000/svg\" height=\"24px\"viewBox=\"0 0 24 24\"\n",
       "       width=\"24px\">\n",
       "    <path d=\"M0 0h24v24H0V0z\" fill=\"none\"/>\n",
       "    <path d=\"M18.56 5.44l.94 2.06.94-2.06 2.06-.94-2.06-.94-.94-2.06-.94 2.06-2.06.94zm-11 1L8.5 8.5l.94-2.06 2.06-.94-2.06-.94L8.5 2.5l-.94 2.06-2.06.94zm10 10l.94 2.06.94-2.06 2.06-.94-2.06-.94-.94-2.06-.94 2.06-2.06.94z\"/><path d=\"M17.41 7.96l-1.37-1.37c-.4-.4-.92-.59-1.43-.59-.52 0-1.04.2-1.43.59L10.3 9.45l-7.72 7.72c-.78.78-.78 2.05 0 2.83L4 21.41c.39.39.9.59 1.41.59.51 0 1.02-.2 1.41-.59l7.78-7.78 2.81-2.81c.8-.78.8-2.07 0-2.86zM5.41 20L4 18.59l7.72-7.72 1.47 1.35L5.41 20z\"/>\n",
       "  </svg>\n",
       "      </button>\n",
       "      \n",
       "  <style>\n",
       "    .colab-df-container {\n",
       "      display:flex;\n",
       "      flex-wrap:wrap;\n",
       "      gap: 12px;\n",
       "    }\n",
       "\n",
       "    .colab-df-convert {\n",
       "      background-color: #E8F0FE;\n",
       "      border: none;\n",
       "      border-radius: 50%;\n",
       "      cursor: pointer;\n",
       "      display: none;\n",
       "      fill: #1967D2;\n",
       "      height: 32px;\n",
       "      padding: 0 0 0 0;\n",
       "      width: 32px;\n",
       "    }\n",
       "\n",
       "    .colab-df-convert:hover {\n",
       "      background-color: #E2EBFA;\n",
       "      box-shadow: 0px 1px 2px rgba(60, 64, 67, 0.3), 0px 1px 3px 1px rgba(60, 64, 67, 0.15);\n",
       "      fill: #174EA6;\n",
       "    }\n",
       "\n",
       "    [theme=dark] .colab-df-convert {\n",
       "      background-color: #3B4455;\n",
       "      fill: #D2E3FC;\n",
       "    }\n",
       "\n",
       "    [theme=dark] .colab-df-convert:hover {\n",
       "      background-color: #434B5C;\n",
       "      box-shadow: 0px 1px 3px 1px rgba(0, 0, 0, 0.15);\n",
       "      filter: drop-shadow(0px 1px 2px rgba(0, 0, 0, 0.3));\n",
       "      fill: #FFFFFF;\n",
       "    }\n",
       "  </style>\n",
       "\n",
       "      <script>\n",
       "        const buttonEl =\n",
       "          document.querySelector('#df-ee6c2d05-101e-49ef-88b1-eb6eb41770f6 button.colab-df-convert');\n",
       "        buttonEl.style.display =\n",
       "          google.colab.kernel.accessAllowed ? 'block' : 'none';\n",
       "\n",
       "        async function convertToInteractive(key) {\n",
       "          const element = document.querySelector('#df-ee6c2d05-101e-49ef-88b1-eb6eb41770f6');\n",
       "          const dataTable =\n",
       "            await google.colab.kernel.invokeFunction('convertToInteractive',\n",
       "                                                     [key], {});\n",
       "          if (!dataTable) return;\n",
       "\n",
       "          const docLinkHtml = 'Like what you see? Visit the ' +\n",
       "            '<a target=\"_blank\" href=https://colab.research.google.com/notebooks/data_table.ipynb>data table notebook</a>'\n",
       "            + ' to learn more about interactive tables.';\n",
       "          element.innerHTML = '';\n",
       "          dataTable['output_type'] = 'display_data';\n",
       "          await google.colab.output.renderOutput(dataTable, element);\n",
       "          const docLink = document.createElement('div');\n",
       "          docLink.innerHTML = docLinkHtml;\n",
       "          element.appendChild(docLink);\n",
       "        }\n",
       "      </script>\n",
       "    </div>\n",
       "  </div>\n",
       "  "
      ],
      "text/plain": [
       "Empty DataFrame\n",
       "Columns: [Missing Values, % of Total Values]\n",
       "Index: []"
      ]
     },
     "execution_count": 16,
     "metadata": {},
     "output_type": "execute_result"
    }
   ],
   "source": [
    "def missing_values_table(df):\n",
    "        # Total missing values\n",
    "        mis_val = df.isnull().sum()\n",
    "        \n",
    "        # Percentage of missing values\n",
    "        mis_val_percent = 100 * df.isnull().sum() / len(df)\n",
    "        \n",
    "        # Make a table with the results\n",
    "        mis_val_table = pd.concat([mis_val, mis_val_percent], axis=1)\n",
    "        \n",
    "        # Rename the columns\n",
    "        mis_val_table_ren_columns = mis_val_table.rename(\n",
    "        columns = {0 : 'Missing Values', 1 : '% of Total Values'})\n",
    "        \n",
    "        # Sort the table by percentage of missing descending\n",
    "        mis_val_table_ren_columns = mis_val_table_ren_columns[\n",
    "            mis_val_table_ren_columns.iloc[:,1] != 0].sort_values(\n",
    "        '% of Total Values', ascending=False).round(1)\n",
    "        \n",
    "        # Print some summary information\n",
    "        print (\"Your selected dataframe has \" + str(df.shape[1]) + \" columns.\\n\"      \n",
    "            \"There are \" + str(mis_val_table_ren_columns.shape[0]) +\n",
    "              \" columns that have missing values.\")\n",
    "        \n",
    "        # Return the dataframe with missing information\n",
    "        return mis_val_table_ren_columns\n",
    "\n",
    "missing_values = missing_values_table(df)\n",
    "missing_values.head(20)"
   ]
  },
  {
   "cell_type": "code",
   "execution_count": null,
   "metadata": {
    "id": "Kob_JNbTEkco"
   },
   "outputs": [],
   "source": []
  },
  {
   "cell_type": "markdown",
   "metadata": {
    "id": "FHuxHe9p-27a"
   },
   "source": [
    "product gender Nan'ları Unisex ile değiştirebiliriz."
   ]
  },
  {
   "cell_type": "code",
   "execution_count": null,
   "metadata": {
    "id": "Ttq1v0UZ3iVn"
   },
   "outputs": [],
   "source": []
  },
  {
   "cell_type": "code",
   "execution_count": null,
   "metadata": {
    "colab": {
     "base_uri": "https://localhost:8080/"
    },
    "id": "cllsQcOz5fHy",
    "outputId": "e248c9de-7bc6-48de-e815-decc9893dbda"
   },
   "outputs": [
    {
     "name": "stdout",
     "output_type": "stream",
     "text": [
      "Your selected dataframe has 19 columns.\n",
      "There are 14 columns that have missing values.\n",
      "(5493268, 19)\n"
     ]
    }
   ],
   "source": [
    "missing_values = missing_values_table(df)\n",
    "missing_values.head(20)\n",
    "print(df.shape)"
   ]
  },
  {
   "cell_type": "markdown",
   "metadata": {
    "id": "VAZ5uRFeCd2p"
   },
   "source": [
    "# Inbalanced data"
   ]
  },
  {
   "cell_type": "code",
   "execution_count": null,
   "metadata": {
    "id": "tMlx60dH5lus"
   },
   "outputs": [],
   "source": [
    "df['gender'] = df['gender'].replace('F', 1)\n",
    "df['gender'] = df['gender'].replace('M', 0)"
   ]
  },
  {
   "cell_type": "code",
   "execution_count": null,
   "metadata": {
    "colab": {
     "base_uri": "https://localhost:8080/"
    },
    "id": "BYy87RhUnqnL",
    "outputId": "ca82e57a-dcc4-40be-c712-bab0485166a1"
   },
   "outputs": [
    {
     "data": {
      "text/plain": [
       "1    4754495\n",
       "0     738773\n",
       "Name: gender, dtype: int64"
      ]
     },
     "execution_count": 12,
     "metadata": {},
     "output_type": "execute_result"
    }
   ],
   "source": [
    "df['gender'].value_counts()"
   ]
  },
  {
   "cell_type": "code",
   "execution_count": null,
   "metadata": {
    "colab": {
     "base_uri": "https://localhost:8080/",
     "height": 293
    },
    "id": "1u71dzsr9UUO",
    "outputId": "38f62a18-e824-451b-f5ad-0c1f1ffe1348"
   },
   "outputs": [
    {
     "data": {
      "text/plain": [
       "<matplotlib.axes._subplots.AxesSubplot at 0x7ff6bc718b10>"
      ]
     },
     "execution_count": 13,
     "metadata": {},
     "output_type": "execute_result"
    },
    {
     "data": {
      "image/png": "[encoded data removed]",
      "text/plain": [
       "<Figure size 432x288 with 1 Axes>"
      ]
     },
     "metadata": {
      "needs_background": "light"
     },
     "output_type": "display_data"
    }
   ],
   "source": [
    "df['gender'].astype(int).plot.hist() # This is an inbalanced dataset"
   ]
  },
  {
   "cell_type": "markdown",
   "metadata": {
    "id": "8jGnkzmSCjnv"
   },
   "source": [
    "# Unique values"
   ]
  },
  {
   "cell_type": "code",
   "execution_count": null,
   "metadata": {
    "id": "SAyD3ipFmxZb"
   },
   "outputs": [],
   "source": [
    "df['unique_id'] = df['unique_id'].astype('object')"
   ]
  },
  {
   "cell_type": "code",
   "execution_count": null,
   "metadata": {
    "colab": {
     "base_uri": "https://localhost:8080/"
    },
    "id": "xHDtNu5L92q5",
    "outputId": "0dd26dce-eb82-4353-8950-9029286e1a16"
   },
   "outputs": [
    {
     "data": {
      "text/plain": [
       "time_stamp              1422101\n",
       "user_action                   5\n",
       "product_name             376175\n",
       "brand_name                28186\n",
       "businessunit                 83\n",
       "product_gender                3\n",
       "Level1_Category_Name         10\n",
       "Level2_Category_Name         89\n",
       "Level3_Category_Name        651\n",
       "unique_id                  5494\n",
       "type                          1\n",
       "dtype: int64"
      ]
     },
     "execution_count": 16,
     "metadata": {},
     "output_type": "execute_result"
    }
   ],
   "source": [
    "df.select_dtypes('object').apply(pd.Series.nunique, axis = 0) #columnların unique değerleri. Bu değerlere bakınca one hot encoding tarzı\n",
    "                                                               # bir şey yapmak imkansız duruyor."
   ]
  },
  {
   "cell_type": "markdown",
   "metadata": {
    "id": "4gT0NXk7Cnji"
   },
   "source": [
    "# Anomalie var mı?(Ben göremedim)"
   ]
  },
  {
   "cell_type": "code",
   "execution_count": null,
   "metadata": {
    "colab": {
     "base_uri": "https://localhost:8080/"
    },
    "id": "enMvv3VlesOE",
    "outputId": "29a77a3d-da32-4fca-fd8e-a13d8c2d56a5"
   },
   "outputs": [
    {
     "data": {
      "text/plain": [
       "('2020-10-14T10:42:23Z',)"
      ]
     },
     "execution_count": 12,
     "metadata": {},
     "output_type": "execute_result"
    }
   ],
   "source": [
    "df.iloc[:,0].min(), "
   ]
  },
  {
   "cell_type": "code",
   "execution_count": null,
   "metadata": {
    "colab": {
     "base_uri": "https://localhost:8080/",
     "height": 344
    },
    "id": "YJvvqwgD-Q7P",
    "outputId": "4d4f3126-04c6-4d50-9f61-26e174ba29a4"
   },
   "outputs": [
    {
     "data": {
      "text/html": [
       "\n",
       "  <div id=\"df-985000f2-4ab5-4198-9a6f-ae162bb08133\">\n",
       "    <div class=\"colab-df-container\">\n",
       "      <div>\n",
       "<style scoped>\n",
       "    .dataframe tbody tr th:only-of-type {\n",
       "        vertical-align: middle;\n",
       "    }\n",
       "\n",
       "    .dataframe tbody tr th {\n",
       "        vertical-align: top;\n",
       "    }\n",
       "\n",
       "    .dataframe thead th {\n",
       "        text-align: right;\n",
       "    }\n",
       "</style>\n",
       "<table border=\"1\" class=\"dataframe\">\n",
       "  <thead>\n",
       "    <tr style=\"text-align: right;\">\n",
       "      <th></th>\n",
       "      <th>contentid</th>\n",
       "      <th>sellingprice</th>\n",
       "      <th>brand_id</th>\n",
       "      <th>category_id</th>\n",
       "      <th>Level1_Category_Id</th>\n",
       "      <th>Level2_Category_Id</th>\n",
       "      <th>Level3_Category_Id</th>\n",
       "      <th>gender</th>\n",
       "      <th>unique_id</th>\n",
       "    </tr>\n",
       "  </thead>\n",
       "  <tbody>\n",
       "    <tr>\n",
       "      <th>count</th>\n",
       "      <td>4.789628e+06</td>\n",
       "      <td>4.789628e+06</td>\n",
       "      <td>4.789628e+06</td>\n",
       "      <td>4.789628e+06</td>\n",
       "      <td>4.789628e+06</td>\n",
       "      <td>4.789628e+06</td>\n",
       "      <td>4.789628e+06</td>\n",
       "      <td>4.789628e+06</td>\n",
       "      <td>4.789628e+06</td>\n",
       "    </tr>\n",
       "    <tr>\n",
       "      <th>mean</th>\n",
       "      <td>3.740183e+07</td>\n",
       "      <td>2.208891e+02</td>\n",
       "      <td>1.540763e+05</td>\n",
       "      <td>1.097022e+03</td>\n",
       "      <td>7.553548e+02</td>\n",
       "      <td>1.703090e+03</td>\n",
       "      <td>1.108375e+03</td>\n",
       "      <td>8.688652e-01</td>\n",
       "      <td>1.125291e+03</td>\n",
       "    </tr>\n",
       "    <tr>\n",
       "      <th>std</th>\n",
       "      <td>1.682897e+07</td>\n",
       "      <td>1.090162e+03</td>\n",
       "      <td>3.344313e+05</td>\n",
       "      <td>8.165392e+02</td>\n",
       "      <td>6.086744e+02</td>\n",
       "      <td>1.096297e+03</td>\n",
       "      <td>7.462652e+02</td>\n",
       "      <td>3.375478e-01</td>\n",
       "      <td>1.327362e+03</td>\n",
       "    </tr>\n",
       "    <tr>\n",
       "      <th>min</th>\n",
       "      <td>4.885200e+04</td>\n",
       "      <td>0.000000e+00</td>\n",
       "      <td>9.000000e+00</td>\n",
       "      <td>3.690000e+02</td>\n",
       "      <td>3.680000e+02</td>\n",
       "      <td>3.870000e+02</td>\n",
       "      <td>3.690000e+02</td>\n",
       "      <td>0.000000e+00</td>\n",
       "      <td>1.000000e+00</td>\n",
       "    </tr>\n",
       "    <tr>\n",
       "      <th>25%</th>\n",
       "      <td>3.235566e+07</td>\n",
       "      <td>5.400000e+01</td>\n",
       "      <td>8.420000e+02</td>\n",
       "      <td>5.630000e+02</td>\n",
       "      <td>5.220000e+02</td>\n",
       "      <td>5.030000e+02</td>\n",
       "      <td>5.610000e+02</td>\n",
       "      <td>1.000000e+00</td>\n",
       "      <td>1.780000e+02</td>\n",
       "    </tr>\n",
       "    <tr>\n",
       "      <th>50%</th>\n",
       "      <td>4.163659e+07</td>\n",
       "      <td>8.999000e+01</td>\n",
       "      <td>8.605000e+03</td>\n",
       "      <td>6.040000e+02</td>\n",
       "      <td>5.220000e+02</td>\n",
       "      <td>1.209000e+03</td>\n",
       "      <td>9.710000e+02</td>\n",
       "      <td>1.000000e+00</td>\n",
       "      <td>6.110000e+02</td>\n",
       "    </tr>\n",
       "    <tr>\n",
       "      <th>75%</th>\n",
       "      <td>4.938068e+07</td>\n",
       "      <td>1.839500e+02</td>\n",
       "      <td>3.120000e+04</td>\n",
       "      <td>1.255000e+03</td>\n",
       "      <td>7.580000e+02</td>\n",
       "      <td>2.870000e+03</td>\n",
       "      <td>1.188000e+03</td>\n",
       "      <td>1.000000e+00</td>\n",
       "      <td>1.549000e+03</td>\n",
       "    </tr>\n",
       "    <tr>\n",
       "      <th>max</th>\n",
       "      <td>6.780625e+07</td>\n",
       "      <td>2.263200e+05</td>\n",
       "      <td>1.042155e+06</td>\n",
       "      <td>4.572000e+03</td>\n",
       "      <td>3.186000e+03</td>\n",
       "      <td>4.572000e+03</td>\n",
       "      <td>4.591000e+03</td>\n",
       "      <td>1.000000e+00</td>\n",
       "      <td>7.996000e+03</td>\n",
       "    </tr>\n",
       "  </tbody>\n",
       "</table>\n",
       "</div>\n",
       "      <button class=\"colab-df-convert\" onclick=\"convertToInteractive('df-985000f2-4ab5-4198-9a6f-ae162bb08133')\"\n",
       "              title=\"Convert this dataframe to an interactive table.\"\n",
       "              style=\"display:none;\">\n",
       "        \n",
       "  <svg xmlns=\"http://www.w3.org/2000/svg\" height=\"24px\"viewBox=\"0 0 24 24\"\n",
       "       width=\"24px\">\n",
       "    <path d=\"M0 0h24v24H0V0z\" fill=\"none\"/>\n",
       "    <path d=\"M18.56 5.44l.94 2.06.94-2.06 2.06-.94-2.06-.94-.94-2.06-.94 2.06-2.06.94zm-11 1L8.5 8.5l.94-2.06 2.06-.94-2.06-.94L8.5 2.5l-.94 2.06-2.06.94zm10 10l.94 2.06.94-2.06 2.06-.94-2.06-.94-.94-2.06-.94 2.06-2.06.94z\"/><path d=\"M17.41 7.96l-1.37-1.37c-.4-.4-.92-.59-1.43-.59-.52 0-1.04.2-1.43.59L10.3 9.45l-7.72 7.72c-.78.78-.78 2.05 0 2.83L4 21.41c.39.39.9.59 1.41.59.51 0 1.02-.2 1.41-.59l7.78-7.78 2.81-2.81c.8-.78.8-2.07 0-2.86zM5.41 20L4 18.59l7.72-7.72 1.47 1.35L5.41 20z\"/>\n",
       "  </svg>\n",
       "      </button>\n",
       "      \n",
       "  <style>\n",
       "    .colab-df-container {\n",
       "      display:flex;\n",
       "      flex-wrap:wrap;\n",
       "      gap: 12px;\n",
       "    }\n",
       "\n",
       "    .colab-df-convert {\n",
       "      background-color: #E8F0FE;\n",
       "      border: none;\n",
       "      border-radius: 50%;\n",
       "      cursor: pointer;\n",
       "      display: none;\n",
       "      fill: #1967D2;\n",
       "      height: 32px;\n",
       "      padding: 0 0 0 0;\n",
       "      width: 32px;\n",
       "    }\n",
       "\n",
       "    .colab-df-convert:hover {\n",
       "      background-color: #E2EBFA;\n",
       "      box-shadow: 0px 1px 2px rgba(60, 64, 67, 0.3), 0px 1px 3px 1px rgba(60, 64, 67, 0.15);\n",
       "      fill: #174EA6;\n",
       "    }\n",
       "\n",
       "    [theme=dark] .colab-df-convert {\n",
       "      background-color: #3B4455;\n",
       "      fill: #D2E3FC;\n",
       "    }\n",
       "\n",
       "    [theme=dark] .colab-df-convert:hover {\n",
       "      background-color: #434B5C;\n",
       "      box-shadow: 0px 1px 3px 1px rgba(0, 0, 0, 0.15);\n",
       "      filter: drop-shadow(0px 1px 2px rgba(0, 0, 0, 0.3));\n",
       "      fill: #FFFFFF;\n",
       "    }\n",
       "  </style>\n",
       "\n",
       "      <script>\n",
       "        const buttonEl =\n",
       "          document.querySelector('#df-985000f2-4ab5-4198-9a6f-ae162bb08133 button.colab-df-convert');\n",
       "        buttonEl.style.display =\n",
       "          google.colab.kernel.accessAllowed ? 'block' : 'none';\n",
       "\n",
       "        async function convertToInteractive(key) {\n",
       "          const element = document.querySelector('#df-985000f2-4ab5-4198-9a6f-ae162bb08133');\n",
       "          const dataTable =\n",
       "            await google.colab.kernel.invokeFunction('convertToInteractive',\n",
       "                                                     [key], {});\n",
       "          if (!dataTable) return;\n",
       "\n",
       "          const docLinkHtml = 'Like what you see? Visit the ' +\n",
       "            '<a target=\"_blank\" href=https://colab.research.google.com/notebooks/data_table.ipynb>data table notebook</a>'\n",
       "            + ' to learn more about interactive tables.';\n",
       "          element.innerHTML = '';\n",
       "          dataTable['output_type'] = 'display_data';\n",
       "          await google.colab.output.renderOutput(dataTable, element);\n",
       "          const docLink = document.createElement('div');\n",
       "          docLink.innerHTML = docLinkHtml;\n",
       "          element.appendChild(docLink);\n",
       "        }\n",
       "      </script>\n",
       "    </div>\n",
       "  </div>\n",
       "  "
      ],
      "text/plain": [
       "          contentid  sellingprice  ...        gender     unique_id\n",
       "count  4.789628e+06  4.789628e+06  ...  4.789628e+06  4.789628e+06\n",
       "mean   3.740183e+07  2.208891e+02  ...  8.688652e-01  1.125291e+03\n",
       "std    1.682897e+07  1.090162e+03  ...  3.375478e-01  1.327362e+03\n",
       "min    4.885200e+04  0.000000e+00  ...  0.000000e+00  1.000000e+00\n",
       "25%    3.235566e+07  5.400000e+01  ...  1.000000e+00  1.780000e+02\n",
       "50%    4.163659e+07  8.999000e+01  ...  1.000000e+00  6.110000e+02\n",
       "75%    4.938068e+07  1.839500e+02  ...  1.000000e+00  1.549000e+03\n",
       "max    6.780625e+07  2.263200e+05  ...  1.000000e+00  7.996000e+03\n",
       "\n",
       "[8 rows x 9 columns]"
      ]
     },
     "execution_count": 13,
     "metadata": {},
     "output_type": "execute_result"
    }
   ],
   "source": [
    "df.describe()"
   ]
  },
  {
   "cell_type": "code",
   "execution_count": null,
   "metadata": {
    "colab": {
     "base_uri": "https://localhost:8080/"
    },
    "id": "_U3wQAdo-VKO",
    "outputId": "9b20ca39-73b3-4640-e222-79a8d6fc9163"
   },
   "outputs": [
    {
     "data": {
      "text/plain": [
       "time_stamp                         2020-10-18T12:59:00Z\n",
       "contentid                                   3.68181e+07\n",
       "user_action                                      search\n",
       "sellingprice                                     226320\n",
       "product_name            Ahşap Ev (ahşap Bungalov) 82 m2\n",
       "brand_id                                         951109\n",
       "brand_name                                        MANDU\n",
       "businessunit                            Bahçe Mobilyası\n",
       "product_gender                                   Unisex\n",
       "category_id                                        2652\n",
       "Level1_Category_Id                                 2859\n",
       "Level1_Category_Name                              Yaşam\n",
       "Level2_Category_Id                                 2469\n",
       "Level2_Category_Name               Bahçe ve Yapı Market\n",
       "Level3_Category_Id                                  797\n",
       "Level3_Category_Name                              Bahçe\n",
       "gender                                                0\n",
       "unique_id                                           890\n",
       "type                                              train\n",
       "Name: 4885671, dtype: object"
      ]
     },
     "execution_count": 14,
     "metadata": {},
     "output_type": "execute_result"
    }
   ],
   "source": [
    "df.iloc[df['sellingprice'].argmax()]"
   ]
  },
  {
   "cell_type": "markdown",
   "metadata": {
    "id": "YjAVFGW7E7my"
   },
   "source": [
    "# Correlations Buradan bir şey çıkmıyor. categorical değişkenler sorun yaratıyor"
   ]
  },
  {
   "cell_type": "code",
   "execution_count": null,
   "metadata": {
    "colab": {
     "base_uri": "https://localhost:8080/",
     "height": 444
    },
    "id": "HUUjaqsRE94e",
    "outputId": "64a058cf-8042-4894-c8a9-1265cf59194a"
   },
   "outputs": [
    {
     "data": {
      "text/html": [
       "\n",
       "  <div id=\"df-fbc6dbab-7f2c-4cdc-b35b-de8aac849db8\">\n",
       "    <div class=\"colab-df-container\">\n",
       "      <div>\n",
       "<style scoped>\n",
       "    .dataframe tbody tr th:only-of-type {\n",
       "        vertical-align: middle;\n",
       "    }\n",
       "\n",
       "    .dataframe tbody tr th {\n",
       "        vertical-align: top;\n",
       "    }\n",
       "\n",
       "    .dataframe thead th {\n",
       "        text-align: right;\n",
       "    }\n",
       "</style>\n",
       "<table border=\"1\" class=\"dataframe\">\n",
       "  <thead>\n",
       "    <tr style=\"text-align: right;\">\n",
       "      <th></th>\n",
       "      <th>time_stamp</th>\n",
       "      <th>contentid</th>\n",
       "      <th>user_action</th>\n",
       "      <th>sellingprice</th>\n",
       "      <th>product_name</th>\n",
       "      <th>brand_id</th>\n",
       "      <th>brand_name</th>\n",
       "      <th>businessunit</th>\n",
       "      <th>product_gender</th>\n",
       "      <th>category_id</th>\n",
       "      <th>Level1_Category_Id</th>\n",
       "      <th>Level1_Category_Name</th>\n",
       "      <th>Level2_Category_Id</th>\n",
       "      <th>Level2_Category_Name</th>\n",
       "      <th>Level3_Category_Id</th>\n",
       "      <th>Level3_Category_Name</th>\n",
       "      <th>gender</th>\n",
       "      <th>unique_id</th>\n",
       "      <th>type</th>\n",
       "    </tr>\n",
       "  </thead>\n",
       "  <tbody>\n",
       "    <tr>\n",
       "      <th>0</th>\n",
       "      <td>2020-12-02T22:26:14.023Z</td>\n",
       "      <td>39918893.0</td>\n",
       "      <td>favorite</td>\n",
       "      <td>3099.00</td>\n",
       "      <td>PerfectCare 600 EW6F449ST A+++ 9 KG 1400 Devir...</td>\n",
       "      <td>8511.0</td>\n",
       "      <td>Electrolux</td>\n",
       "      <td>Beyaz Eşya</td>\n",
       "      <td>Unisex</td>\n",
       "      <td>1272.0</td>\n",
       "      <td>1071.0</td>\n",
       "      <td>Elektronik</td>\n",
       "      <td>1212.0</td>\n",
       "      <td>Beyaz Eşya</td>\n",
       "      <td>1272.0</td>\n",
       "      <td>Çamaşır Makinesi</td>\n",
       "      <td>1</td>\n",
       "      <td>425</td>\n",
       "      <td>train</td>\n",
       "    </tr>\n",
       "    <tr>\n",
       "      <th>2</th>\n",
       "      <td>2020-12-05T16:19:01.157Z</td>\n",
       "      <td>31292729.0</td>\n",
       "      <td>favorite</td>\n",
       "      <td>3999.00</td>\n",
       "      <td>KM 9711 A++ 9 kg Çamaşır Kurutma Makinesi</td>\n",
       "      <td>10989.0</td>\n",
       "      <td>Vestel</td>\n",
       "      <td>Beyaz Eşya</td>\n",
       "      <td>Unisex</td>\n",
       "      <td>1276.0</td>\n",
       "      <td>1071.0</td>\n",
       "      <td>Elektronik</td>\n",
       "      <td>1212.0</td>\n",
       "      <td>Beyaz Eşya</td>\n",
       "      <td>1276.0</td>\n",
       "      <td>Kurutma Makinesi</td>\n",
       "      <td>1</td>\n",
       "      <td>425</td>\n",
       "      <td>train</td>\n",
       "    </tr>\n",
       "    <tr>\n",
       "      <th>4</th>\n",
       "      <td>2020-12-02T22:26:59Z</td>\n",
       "      <td>39918893.0</td>\n",
       "      <td>visit</td>\n",
       "      <td>3099.00</td>\n",
       "      <td>PerfectCare 600 EW6F449ST A+++ 9 KG 1400 Devir...</td>\n",
       "      <td>8511.0</td>\n",
       "      <td>Electrolux</td>\n",
       "      <td>Beyaz Eşya</td>\n",
       "      <td>Unisex</td>\n",
       "      <td>1272.0</td>\n",
       "      <td>1071.0</td>\n",
       "      <td>Elektronik</td>\n",
       "      <td>1212.0</td>\n",
       "      <td>Beyaz Eşya</td>\n",
       "      <td>1272.0</td>\n",
       "      <td>Çamaşır Makinesi</td>\n",
       "      <td>1</td>\n",
       "      <td>425</td>\n",
       "      <td>train</td>\n",
       "    </tr>\n",
       "    <tr>\n",
       "      <th>5</th>\n",
       "      <td>2020-11-03T21:04:11Z</td>\n",
       "      <td>32593071.0</td>\n",
       "      <td>visit</td>\n",
       "      <td>266.65</td>\n",
       "      <td>Siyah Kadın Abiye Ayakkabı 01AYH158420A100</td>\n",
       "      <td>59.0</td>\n",
       "      <td>Hotiç</td>\n",
       "      <td>Branded Shoes A</td>\n",
       "      <td>Kadın</td>\n",
       "      <td>431.0</td>\n",
       "      <td>403.0</td>\n",
       "      <td>Ayakkabı</td>\n",
       "      <td>430.0</td>\n",
       "      <td>Topuklu Ayakkabı</td>\n",
       "      <td>431.0</td>\n",
       "      <td>Abiye Ayakkabı</td>\n",
       "      <td>1</td>\n",
       "      <td>425</td>\n",
       "      <td>train</td>\n",
       "    </tr>\n",
       "    <tr>\n",
       "      <th>6</th>\n",
       "      <td>2020-12-05T16:21:12Z</td>\n",
       "      <td>4946868.0</td>\n",
       "      <td>visit</td>\n",
       "      <td>0.00</td>\n",
       "      <td>Kadın Oval Güneş Gözlüğü OS 2589 03</td>\n",
       "      <td>1802.0</td>\n",
       "      <td>Osse</td>\n",
       "      <td>Gözlük A</td>\n",
       "      <td>Kadın</td>\n",
       "      <td>379.0</td>\n",
       "      <td>368.0</td>\n",
       "      <td>Aksesuar</td>\n",
       "      <td>2876.0</td>\n",
       "      <td>Gözlük</td>\n",
       "      <td>379.0</td>\n",
       "      <td>Güneş Gözlüğü</td>\n",
       "      <td>1</td>\n",
       "      <td>425</td>\n",
       "      <td>train</td>\n",
       "    </tr>\n",
       "  </tbody>\n",
       "</table>\n",
       "</div>\n",
       "      <button class=\"colab-df-convert\" onclick=\"convertToInteractive('df-fbc6dbab-7f2c-4cdc-b35b-de8aac849db8')\"\n",
       "              title=\"Convert this dataframe to an interactive table.\"\n",
       "              style=\"display:none;\">\n",
       "        \n",
       "  <svg xmlns=\"http://www.w3.org/2000/svg\" height=\"24px\"viewBox=\"0 0 24 24\"\n",
       "       width=\"24px\">\n",
       "    <path d=\"M0 0h24v24H0V0z\" fill=\"none\"/>\n",
       "    <path d=\"M18.56 5.44l.94 2.06.94-2.06 2.06-.94-2.06-.94-.94-2.06-.94 2.06-2.06.94zm-11 1L8.5 8.5l.94-2.06 2.06-.94-2.06-.94L8.5 2.5l-.94 2.06-2.06.94zm10 10l.94 2.06.94-2.06 2.06-.94-2.06-.94-.94-2.06-.94 2.06-2.06.94z\"/><path d=\"M17.41 7.96l-1.37-1.37c-.4-.4-.92-.59-1.43-.59-.52 0-1.04.2-1.43.59L10.3 9.45l-7.72 7.72c-.78.78-.78 2.05 0 2.83L4 21.41c.39.39.9.59 1.41.59.51 0 1.02-.2 1.41-.59l7.78-7.78 2.81-2.81c.8-.78.8-2.07 0-2.86zM5.41 20L4 18.59l7.72-7.72 1.47 1.35L5.41 20z\"/>\n",
       "  </svg>\n",
       "      </button>\n",
       "      \n",
       "  <style>\n",
       "    .colab-df-container {\n",
       "      display:flex;\n",
       "      flex-wrap:wrap;\n",
       "      gap: 12px;\n",
       "    }\n",
       "\n",
       "    .colab-df-convert {\n",
       "      background-color: #E8F0FE;\n",
       "      border: none;\n",
       "      border-radius: 50%;\n",
       "      cursor: pointer;\n",
       "      display: none;\n",
       "      fill: #1967D2;\n",
       "      height: 32px;\n",
       "      padding: 0 0 0 0;\n",
       "      width: 32px;\n",
       "    }\n",
       "\n",
       "    .colab-df-convert:hover {\n",
       "      background-color: #E2EBFA;\n",
       "      box-shadow: 0px 1px 2px rgba(60, 64, 67, 0.3), 0px 1px 3px 1px rgba(60, 64, 67, 0.15);\n",
       "      fill: #174EA6;\n",
       "    }\n",
       "\n",
       "    [theme=dark] .colab-df-convert {\n",
       "      background-color: #3B4455;\n",
       "      fill: #D2E3FC;\n",
       "    }\n",
       "\n",
       "    [theme=dark] .colab-df-convert:hover {\n",
       "      background-color: #434B5C;\n",
       "      box-shadow: 0px 1px 3px 1px rgba(0, 0, 0, 0.15);\n",
       "      filter: drop-shadow(0px 1px 2px rgba(0, 0, 0, 0.3));\n",
       "      fill: #FFFFFF;\n",
       "    }\n",
       "  </style>\n",
       "\n",
       "      <script>\n",
       "        const buttonEl =\n",
       "          document.querySelector('#df-fbc6dbab-7f2c-4cdc-b35b-de8aac849db8 button.colab-df-convert');\n",
       "        buttonEl.style.display =\n",
       "          google.colab.kernel.accessAllowed ? 'block' : 'none';\n",
       "\n",
       "        async function convertToInteractive(key) {\n",
       "          const element = document.querySelector('#df-fbc6dbab-7f2c-4cdc-b35b-de8aac849db8');\n",
       "          const dataTable =\n",
       "            await google.colab.kernel.invokeFunction('convertToInteractive',\n",
       "                                                     [key], {});\n",
       "          if (!dataTable) return;\n",
       "\n",
       "          const docLinkHtml = 'Like what you see? Visit the ' +\n",
       "            '<a target=\"_blank\" href=https://colab.research.google.com/notebooks/data_table.ipynb>data table notebook</a>'\n",
       "            + ' to learn more about interactive tables.';\n",
       "          element.innerHTML = '';\n",
       "          dataTable['output_type'] = 'display_data';\n",
       "          await google.colab.output.renderOutput(dataTable, element);\n",
       "          const docLink = document.createElement('div');\n",
       "          docLink.innerHTML = docLinkHtml;\n",
       "          element.appendChild(docLink);\n",
       "        }\n",
       "      </script>\n",
       "    </div>\n",
       "  </div>\n",
       "  "
      ],
      "text/plain": [
       "                 time_stamp   contentid user_action  ...  gender unique_id   type\n",
       "0  2020-12-02T22:26:14.023Z  39918893.0    favorite  ...       1       425  train\n",
       "2  2020-12-05T16:19:01.157Z  31292729.0    favorite  ...       1       425  train\n",
       "4      2020-12-02T22:26:59Z  39918893.0       visit  ...       1       425  train\n",
       "5      2020-11-03T21:04:11Z  32593071.0       visit  ...       1       425  train\n",
       "6      2020-12-05T16:21:12Z   4946868.0       visit  ...       1       425  train\n",
       "\n",
       "[5 rows x 19 columns]"
      ]
     },
     "execution_count": 15,
     "metadata": {},
     "output_type": "execute_result"
    }
   ],
   "source": [
    "df.head()"
   ]
  },
  {
   "cell_type": "code",
   "execution_count": null,
   "metadata": {
    "colab": {
     "base_uri": "https://localhost:8080/",
     "height": 374
    },
    "id": "PI5vhPGoCDvx",
    "outputId": "e418988b-a302-49d2-f9e1-a67e796887e5"
   },
   "outputs": [
    {
     "data": {
      "text/plain": [
       "<matplotlib.axes._subplots.AxesSubplot at 0x7fd579e81fd0>"
      ]
     },
     "execution_count": 16,
     "metadata": {},
     "output_type": "execute_result"
    },
    {
     "data": {
      "image/png": "[encoded data removed]",
      "text/plain": [
       "<Figure size 432x288 with 2 Axes>"
      ]
     },
     "metadata": {
      "needs_background": "light"
     },
     "output_type": "display_data"
    }
   ],
   "source": [
    "sns.heatmap(df.corr())"
   ]
  },
  {
   "cell_type": "code",
   "execution_count": null,
   "metadata": {
    "id": "8OFS1VFtGqYa"
   },
   "outputs": [],
   "source": []
  },
  {
   "cell_type": "markdown",
   "metadata": {
    "id": "UoOqy_atGq7L"
   },
   "source": [
    "# Encoding çalışmaları"
   ]
  },
  {
   "cell_type": "code",
   "execution_count": null,
   "metadata": {
    "colab": {
     "base_uri": "https://localhost:8080/",
     "height": 513
    },
    "id": "ZRAsYFAJEoo7",
    "outputId": "330d625f-89fe-439c-9b52-3bafc7954cf0"
   },
   "outputs": [
    {
     "data": {
      "text/html": [
       "\n",
       "  <div id=\"df-304b3450-a6e4-4f82-80d6-3431c405237f\">\n",
       "    <div class=\"colab-df-container\">\n",
       "      <div>\n",
       "<style scoped>\n",
       "    .dataframe tbody tr th:only-of-type {\n",
       "        vertical-align: middle;\n",
       "    }\n",
       "\n",
       "    .dataframe tbody tr th {\n",
       "        vertical-align: top;\n",
       "    }\n",
       "\n",
       "    .dataframe thead th {\n",
       "        text-align: right;\n",
       "    }\n",
       "</style>\n",
       "<table border=\"1\" class=\"dataframe\">\n",
       "  <thead>\n",
       "    <tr style=\"text-align: right;\">\n",
       "      <th></th>\n",
       "      <th>time_stamp</th>\n",
       "      <th>contentid</th>\n",
       "      <th>user_action</th>\n",
       "      <th>sellingprice</th>\n",
       "      <th>product_name</th>\n",
       "      <th>brand_id</th>\n",
       "      <th>brand_name</th>\n",
       "      <th>businessunit</th>\n",
       "      <th>product_gender</th>\n",
       "      <th>category_id</th>\n",
       "      <th>Level1_Category_Id</th>\n",
       "      <th>Level1_Category_Name</th>\n",
       "      <th>Level2_Category_Id</th>\n",
       "      <th>Level2_Category_Name</th>\n",
       "      <th>Level3_Category_Id</th>\n",
       "      <th>Level3_Category_Name</th>\n",
       "      <th>gender</th>\n",
       "      <th>unique_id</th>\n",
       "      <th>type</th>\n",
       "    </tr>\n",
       "  </thead>\n",
       "  <tbody>\n",
       "    <tr>\n",
       "      <th>2872238</th>\n",
       "      <td>2020-10-30T11:45:45Z</td>\n",
       "      <td>35179912.0</td>\n",
       "      <td>visit</td>\n",
       "      <td>78.00</td>\n",
       "      <td>Kadın Kırmızı Klasik Kesim Pantolon</td>\n",
       "      <td>7791.0</td>\n",
       "      <td>MISS IPEKYOL</td>\n",
       "      <td>Kadın A</td>\n",
       "      <td>Kadın</td>\n",
       "      <td>529.0</td>\n",
       "      <td>522.0</td>\n",
       "      <td>Giyim</td>\n",
       "      <td>2869.0</td>\n",
       "      <td>Alt Giyim</td>\n",
       "      <td>529.0</td>\n",
       "      <td>Pantolon</td>\n",
       "      <td>1</td>\n",
       "      <td>442</td>\n",
       "      <td>train</td>\n",
       "    </tr>\n",
       "    <tr>\n",
       "      <th>1596223</th>\n",
       "      <td>2020-11-06T12:49:13Z</td>\n",
       "      <td>35051440.0</td>\n",
       "      <td>visit</td>\n",
       "      <td>139.99</td>\n",
       "      <td>Mint Fitilli Kazak Pantolon Triko Alt-Üst Takı...</td>\n",
       "      <td>40.0</td>\n",
       "      <td>TRENDYOLMİLLA</td>\n",
       "      <td>PL Woman</td>\n",
       "      <td>Kadın</td>\n",
       "      <td>2160.0</td>\n",
       "      <td>522.0</td>\n",
       "      <td>Giyim</td>\n",
       "      <td>584.0</td>\n",
       "      <td>Takımlar</td>\n",
       "      <td>2160.0</td>\n",
       "      <td>Alt-Üst Takım</td>\n",
       "      <td>1</td>\n",
       "      <td>2099</td>\n",
       "      <td>train</td>\n",
       "    </tr>\n",
       "    <tr>\n",
       "      <th>2062771</th>\n",
       "      <td>2020-11-25T09:49:43Z</td>\n",
       "      <td>42670894.0</td>\n",
       "      <td>visit</td>\n",
       "      <td>58.99</td>\n",
       "      <td>Kadın Bej Leopar Desen Asimetrik Etek 0YZK7-10140</td>\n",
       "      <td>982012.0</td>\n",
       "      <td>XENA</td>\n",
       "      <td>Kadın B</td>\n",
       "      <td>Kadın</td>\n",
       "      <td>526.0</td>\n",
       "      <td>522.0</td>\n",
       "      <td>Giyim</td>\n",
       "      <td>2869.0</td>\n",
       "      <td>Alt Giyim</td>\n",
       "      <td>526.0</td>\n",
       "      <td>Etek</td>\n",
       "      <td>1</td>\n",
       "      <td>533</td>\n",
       "      <td>train</td>\n",
       "    </tr>\n",
       "    <tr>\n",
       "      <th>5035493</th>\n",
       "      <td>2020-11-27T18:34:03Z</td>\n",
       "      <td>35417062.0</td>\n",
       "      <td>visit</td>\n",
       "      <td>29.75</td>\n",
       "      <td>Kendinden Yapışkanlı Duvar Kağıdı 77*70cm 0.54 M2</td>\n",
       "      <td>948138.0</td>\n",
       "      <td>RENKLİ EVİM</td>\n",
       "      <td>Ev Dekorasyon</td>\n",
       "      <td>Unisex</td>\n",
       "      <td>841.0</td>\n",
       "      <td>758.0</td>\n",
       "      <td>Ev &amp; Mobilya</td>\n",
       "      <td>458.0</td>\n",
       "      <td>Ev Dekorasyon</td>\n",
       "      <td>841.0</td>\n",
       "      <td>Duvar Kağıdı</td>\n",
       "      <td>0</td>\n",
       "      <td>2618</td>\n",
       "      <td>train</td>\n",
       "    </tr>\n",
       "    <tr>\n",
       "      <th>451647</th>\n",
       "      <td>2020-10-22T14:26:18Z</td>\n",
       "      <td>5608854.0</td>\n",
       "      <td>search</td>\n",
       "      <td>0.00</td>\n",
       "      <td>A6-S2/B66-S2 İnox Ankastre Fırın</td>\n",
       "      <td>13530.0</td>\n",
       "      <td>KUMTEL</td>\n",
       "      <td>Beyaz Eşya</td>\n",
       "      <td>Unisex</td>\n",
       "      <td>1275.0</td>\n",
       "      <td>1071.0</td>\n",
       "      <td>Elektronik</td>\n",
       "      <td>1212.0</td>\n",
       "      <td>Beyaz Eşya</td>\n",
       "      <td>1275.0</td>\n",
       "      <td>Fırın</td>\n",
       "      <td>0</td>\n",
       "      <td>12</td>\n",
       "      <td>train</td>\n",
       "    </tr>\n",
       "  </tbody>\n",
       "</table>\n",
       "</div>\n",
       "      <button class=\"colab-df-convert\" onclick=\"convertToInteractive('df-304b3450-a6e4-4f82-80d6-3431c405237f')\"\n",
       "              title=\"Convert this dataframe to an interactive table.\"\n",
       "              style=\"display:none;\">\n",
       "        \n",
       "  <svg xmlns=\"http://www.w3.org/2000/svg\" height=\"24px\"viewBox=\"0 0 24 24\"\n",
       "       width=\"24px\">\n",
       "    <path d=\"M0 0h24v24H0V0z\" fill=\"none\"/>\n",
       "    <path d=\"M18.56 5.44l.94 2.06.94-2.06 2.06-.94-2.06-.94-.94-2.06-.94 2.06-2.06.94zm-11 1L8.5 8.5l.94-2.06 2.06-.94-2.06-.94L8.5 2.5l-.94 2.06-2.06.94zm10 10l.94 2.06.94-2.06 2.06-.94-2.06-.94-.94-2.06-.94 2.06-2.06.94z\"/><path d=\"M17.41 7.96l-1.37-1.37c-.4-.4-.92-.59-1.43-.59-.52 0-1.04.2-1.43.59L10.3 9.45l-7.72 7.72c-.78.78-.78 2.05 0 2.83L4 21.41c.39.39.9.59 1.41.59.51 0 1.02-.2 1.41-.59l7.78-7.78 2.81-2.81c.8-.78.8-2.07 0-2.86zM5.41 20L4 18.59l7.72-7.72 1.47 1.35L5.41 20z\"/>\n",
       "  </svg>\n",
       "      </button>\n",
       "      \n",
       "  <style>\n",
       "    .colab-df-container {\n",
       "      display:flex;\n",
       "      flex-wrap:wrap;\n",
       "      gap: 12px;\n",
       "    }\n",
       "\n",
       "    .colab-df-convert {\n",
       "      background-color: #E8F0FE;\n",
       "      border: none;\n",
       "      border-radius: 50%;\n",
       "      cursor: pointer;\n",
       "      display: none;\n",
       "      fill: #1967D2;\n",
       "      height: 32px;\n",
       "      padding: 0 0 0 0;\n",
       "      width: 32px;\n",
       "    }\n",
       "\n",
       "    .colab-df-convert:hover {\n",
       "      background-color: #E2EBFA;\n",
       "      box-shadow: 0px 1px 2px rgba(60, 64, 67, 0.3), 0px 1px 3px 1px rgba(60, 64, 67, 0.15);\n",
       "      fill: #174EA6;\n",
       "    }\n",
       "\n",
       "    [theme=dark] .colab-df-convert {\n",
       "      background-color: #3B4455;\n",
       "      fill: #D2E3FC;\n",
       "    }\n",
       "\n",
       "    [theme=dark] .colab-df-convert:hover {\n",
       "      background-color: #434B5C;\n",
       "      box-shadow: 0px 1px 3px 1px rgba(0, 0, 0, 0.15);\n",
       "      filter: drop-shadow(0px 1px 2px rgba(0, 0, 0, 0.3));\n",
       "      fill: #FFFFFF;\n",
       "    }\n",
       "  </style>\n",
       "\n",
       "      <script>\n",
       "        const buttonEl =\n",
       "          document.querySelector('#df-304b3450-a6e4-4f82-80d6-3431c405237f button.colab-df-convert');\n",
       "        buttonEl.style.display =\n",
       "          google.colab.kernel.accessAllowed ? 'block' : 'none';\n",
       "\n",
       "        async function convertToInteractive(key) {\n",
       "          const element = document.querySelector('#df-304b3450-a6e4-4f82-80d6-3431c405237f');\n",
       "          const dataTable =\n",
       "            await google.colab.kernel.invokeFunction('convertToInteractive',\n",
       "                                                     [key], {});\n",
       "          if (!dataTable) return;\n",
       "\n",
       "          const docLinkHtml = 'Like what you see? Visit the ' +\n",
       "            '<a target=\"_blank\" href=https://colab.research.google.com/notebooks/data_table.ipynb>data table notebook</a>'\n",
       "            + ' to learn more about interactive tables.';\n",
       "          element.innerHTML = '';\n",
       "          dataTable['output_type'] = 'display_data';\n",
       "          await google.colab.output.renderOutput(dataTable, element);\n",
       "          const docLink = document.createElement('div');\n",
       "          docLink.innerHTML = docLinkHtml;\n",
       "          element.appendChild(docLink);\n",
       "        }\n",
       "      </script>\n",
       "    </div>\n",
       "  </div>\n",
       "  "
      ],
      "text/plain": [
       "                   time_stamp   contentid user_action  ...  gender unique_id   type\n",
       "2872238  2020-10-30T11:45:45Z  35179912.0       visit  ...       1       442  train\n",
       "1596223  2020-11-06T12:49:13Z  35051440.0       visit  ...       1      2099  train\n",
       "2062771  2020-11-25T09:49:43Z  42670894.0       visit  ...       1       533  train\n",
       "5035493  2020-11-27T18:34:03Z  35417062.0       visit  ...       0      2618  train\n",
       "451647   2020-10-22T14:26:18Z   5608854.0      search  ...       0        12  train\n",
       "\n",
       "[5 rows x 19 columns]"
      ]
     },
     "execution_count": 19,
     "metadata": {},
     "output_type": "execute_result"
    }
   ],
   "source": [
    "app_train = df.sample(n = 100000)\n",
    "app_train.head()"
   ]
  },
  {
   "cell_type": "code",
   "execution_count": null,
   "metadata": {
    "colab": {
     "base_uri": "https://localhost:8080/",
     "height": 426
    },
    "id": "QM_X2DurIIjU",
    "outputId": "9ef0b09e-f2b1-4cf4-f8ee-5735daed58d9"
   },
   "outputs": [
    {
     "data": {
      "text/html": [
       "\n",
       "  <div id=\"df-596d619e-2f51-42d5-9613-b9ed626965f5\">\n",
       "    <div class=\"colab-df-container\">\n",
       "      <div>\n",
       "<style scoped>\n",
       "    .dataframe tbody tr th:only-of-type {\n",
       "        vertical-align: middle;\n",
       "    }\n",
       "\n",
       "    .dataframe tbody tr th {\n",
       "        vertical-align: top;\n",
       "    }\n",
       "\n",
       "    .dataframe thead th {\n",
       "        text-align: right;\n",
       "    }\n",
       "</style>\n",
       "<table border=\"1\" class=\"dataframe\">\n",
       "  <thead>\n",
       "    <tr style=\"text-align: right;\">\n",
       "      <th></th>\n",
       "      <th>time_stamp</th>\n",
       "      <th>contentid</th>\n",
       "      <th>user_action</th>\n",
       "      <th>sellingprice</th>\n",
       "      <th>product_name</th>\n",
       "      <th>brand_id</th>\n",
       "      <th>brand_name</th>\n",
       "      <th>businessunit</th>\n",
       "      <th>product_gender</th>\n",
       "      <th>category_id</th>\n",
       "      <th>Level1_Category_Id</th>\n",
       "      <th>Level1_Category_Name</th>\n",
       "      <th>Level2_Category_Id</th>\n",
       "      <th>Level2_Category_Name</th>\n",
       "      <th>Level3_Category_Id</th>\n",
       "      <th>Level3_Category_Name</th>\n",
       "      <th>gender</th>\n",
       "      <th>unique_id</th>\n",
       "      <th>type</th>\n",
       "    </tr>\n",
       "  </thead>\n",
       "  <tbody>\n",
       "    <tr>\n",
       "      <th>516333</th>\n",
       "      <td>2020-11-23T09:40:15Z</td>\n",
       "      <td>47124539.0</td>\n",
       "      <td>visit</td>\n",
       "      <td>149.95</td>\n",
       "      <td>Kadın Mavi Jeans</td>\n",
       "      <td>2685.0</td>\n",
       "      <td>Bershka</td>\n",
       "      <td>Kadın A</td>\n",
       "      <td>Kadın</td>\n",
       "      <td>1186.0</td>\n",
       "      <td>522.0</td>\n",
       "      <td>Giyim</td>\n",
       "      <td>2869.0</td>\n",
       "      <td>Alt Giyim</td>\n",
       "      <td>1186.0</td>\n",
       "      <td>Jeans</td>\n",
       "      <td>NaN</td>\n",
       "      <td>1920</td>\n",
       "      <td>test</td>\n",
       "    </tr>\n",
       "    <tr>\n",
       "      <th>2270585</th>\n",
       "      <td>2020-11-26T10:41:02Z</td>\n",
       "      <td>48228733.0</td>\n",
       "      <td>visit</td>\n",
       "      <td>137.97</td>\n",
       "      <td>Çok Renkli Misty Garden Pijama Takımı</td>\n",
       "      <td>8605.0</td>\n",
       "      <td>Penti</td>\n",
       "      <td>Ev Giyim</td>\n",
       "      <td>Kadın</td>\n",
       "      <td>563.0</td>\n",
       "      <td>522.0</td>\n",
       "      <td>Giyim</td>\n",
       "      <td>2870.0</td>\n",
       "      <td>Ev Giyim</td>\n",
       "      <td>561.0</td>\n",
       "      <td>Pijama</td>\n",
       "      <td>NaN</td>\n",
       "      <td>5121</td>\n",
       "      <td>test</td>\n",
       "    </tr>\n",
       "    <tr>\n",
       "      <th>1821169</th>\n",
       "      <td>2020-11-25T16:31:48Z</td>\n",
       "      <td>63075860.0</td>\n",
       "      <td>search</td>\n",
       "      <td>34.90</td>\n",
       "      <td>20 ml Kekik Yağı</td>\n",
       "      <td>951404.0</td>\n",
       "      <td>Lokman ada sultan</td>\n",
       "      <td>Cilt Bakım</td>\n",
       "      <td>Unisex</td>\n",
       "      <td>747.0</td>\n",
       "      <td>1070.0</td>\n",
       "      <td>Kozmetik &amp; Kişisel Bakım</td>\n",
       "      <td>1203.0</td>\n",
       "      <td>Cilt Bakım</td>\n",
       "      <td>747.0</td>\n",
       "      <td>Bakım Yağları</td>\n",
       "      <td>NaN</td>\n",
       "      <td>2844</td>\n",
       "      <td>test</td>\n",
       "    </tr>\n",
       "    <tr>\n",
       "      <th>482763</th>\n",
       "      <td>2020-11-02T09:27:34Z</td>\n",
       "      <td>44166047.0</td>\n",
       "      <td>search</td>\n",
       "      <td>249.99</td>\n",
       "      <td>Kadın Yeşil Kapitoneli Yelek 77094379</td>\n",
       "      <td>13904.0</td>\n",
       "      <td>MANGO Woman</td>\n",
       "      <td>Kadın A</td>\n",
       "      <td>Kadın</td>\n",
       "      <td>606.0</td>\n",
       "      <td>522.0</td>\n",
       "      <td>Giyim</td>\n",
       "      <td>2867.0</td>\n",
       "      <td>Dış Giyim</td>\n",
       "      <td>1181.0</td>\n",
       "      <td>Ceket &amp; Yelek</td>\n",
       "      <td>NaN</td>\n",
       "      <td>3360</td>\n",
       "      <td>test</td>\n",
       "    </tr>\n",
       "    <tr>\n",
       "      <th>1442837</th>\n",
       "      <td>2020-11-21T00:17:35.457Z</td>\n",
       "      <td>31943887.0</td>\n",
       "      <td>favorite</td>\n",
       "      <td>169.00</td>\n",
       "      <td>3 Renk 1 Set 6 Kişilik Kahve Fincan Takımı</td>\n",
       "      <td>852.0</td>\n",
       "      <td>Karaca</td>\n",
       "      <td>Sofra &amp; Mutfak</td>\n",
       "      <td>Unisex</td>\n",
       "      <td>905.0</td>\n",
       "      <td>758.0</td>\n",
       "      <td>Ev &amp; Mobilya</td>\n",
       "      <td>896.0</td>\n",
       "      <td>Sofra &amp; Mutfak</td>\n",
       "      <td>516.0</td>\n",
       "      <td>Sofra</td>\n",
       "      <td>NaN</td>\n",
       "      <td>2168</td>\n",
       "      <td>test</td>\n",
       "    </tr>\n",
       "  </tbody>\n",
       "</table>\n",
       "</div>\n",
       "      <button class=\"colab-df-convert\" onclick=\"convertToInteractive('df-596d619e-2f51-42d5-9613-b9ed626965f5')\"\n",
       "              title=\"Convert this dataframe to an interactive table.\"\n",
       "              style=\"display:none;\">\n",
       "        \n",
       "  <svg xmlns=\"http://www.w3.org/2000/svg\" height=\"24px\"viewBox=\"0 0 24 24\"\n",
       "       width=\"24px\">\n",
       "    <path d=\"M0 0h24v24H0V0z\" fill=\"none\"/>\n",
       "    <path d=\"M18.56 5.44l.94 2.06.94-2.06 2.06-.94-2.06-.94-.94-2.06-.94 2.06-2.06.94zm-11 1L8.5 8.5l.94-2.06 2.06-.94-2.06-.94L8.5 2.5l-.94 2.06-2.06.94zm10 10l.94 2.06.94-2.06 2.06-.94-2.06-.94-.94-2.06-.94 2.06-2.06.94z\"/><path d=\"M17.41 7.96l-1.37-1.37c-.4-.4-.92-.59-1.43-.59-.52 0-1.04.2-1.43.59L10.3 9.45l-7.72 7.72c-.78.78-.78 2.05 0 2.83L4 21.41c.39.39.9.59 1.41.59.51 0 1.02-.2 1.41-.59l7.78-7.78 2.81-2.81c.8-.78.8-2.07 0-2.86zM5.41 20L4 18.59l7.72-7.72 1.47 1.35L5.41 20z\"/>\n",
       "  </svg>\n",
       "      </button>\n",
       "      \n",
       "  <style>\n",
       "    .colab-df-container {\n",
       "      display:flex;\n",
       "      flex-wrap:wrap;\n",
       "      gap: 12px;\n",
       "    }\n",
       "\n",
       "    .colab-df-convert {\n",
       "      background-color: #E8F0FE;\n",
       "      border: none;\n",
       "      border-radius: 50%;\n",
       "      cursor: pointer;\n",
       "      display: none;\n",
       "      fill: #1967D2;\n",
       "      height: 32px;\n",
       "      padding: 0 0 0 0;\n",
       "      width: 32px;\n",
       "    }\n",
       "\n",
       "    .colab-df-convert:hover {\n",
       "      background-color: #E2EBFA;\n",
       "      box-shadow: 0px 1px 2px rgba(60, 64, 67, 0.3), 0px 1px 3px 1px rgba(60, 64, 67, 0.15);\n",
       "      fill: #174EA6;\n",
       "    }\n",
       "\n",
       "    [theme=dark] .colab-df-convert {\n",
       "      background-color: #3B4455;\n",
       "      fill: #D2E3FC;\n",
       "    }\n",
       "\n",
       "    [theme=dark] .colab-df-convert:hover {\n",
       "      background-color: #434B5C;\n",
       "      box-shadow: 0px 1px 3px 1px rgba(0, 0, 0, 0.15);\n",
       "      filter: drop-shadow(0px 1px 2px rgba(0, 0, 0, 0.3));\n",
       "      fill: #FFFFFF;\n",
       "    }\n",
       "  </style>\n",
       "\n",
       "      <script>\n",
       "        const buttonEl =\n",
       "          document.querySelector('#df-596d619e-2f51-42d5-9613-b9ed626965f5 button.colab-df-convert');\n",
       "        buttonEl.style.display =\n",
       "          google.colab.kernel.accessAllowed ? 'block' : 'none';\n",
       "\n",
       "        async function convertToInteractive(key) {\n",
       "          const element = document.querySelector('#df-596d619e-2f51-42d5-9613-b9ed626965f5');\n",
       "          const dataTable =\n",
       "            await google.colab.kernel.invokeFunction('convertToInteractive',\n",
       "                                                     [key], {});\n",
       "          if (!dataTable) return;\n",
       "\n",
       "          const docLinkHtml = 'Like what you see? Visit the ' +\n",
       "            '<a target=\"_blank\" href=https://colab.research.google.com/notebooks/data_table.ipynb>data table notebook</a>'\n",
       "            + ' to learn more about interactive tables.';\n",
       "          element.innerHTML = '';\n",
       "          dataTable['output_type'] = 'display_data';\n",
       "          await google.colab.output.renderOutput(dataTable, element);\n",
       "          const docLink = document.createElement('div');\n",
       "          docLink.innerHTML = docLinkHtml;\n",
       "          element.appendChild(docLink);\n",
       "        }\n",
       "      </script>\n",
       "    </div>\n",
       "  </div>\n",
       "  "
      ],
      "text/plain": [
       "                       time_stamp   contentid  ... unique_id  type\n",
       "516333       2020-11-23T09:40:15Z  47124539.0  ...      1920  test\n",
       "2270585      2020-11-26T10:41:02Z  48228733.0  ...      5121  test\n",
       "1821169      2020-11-25T16:31:48Z  63075860.0  ...      2844  test\n",
       "482763       2020-11-02T09:27:34Z  44166047.0  ...      3360  test\n",
       "1442837  2020-11-21T00:17:35.457Z  31943887.0  ...      2168  test\n",
       "\n",
       "[5 rows x 19 columns]"
      ]
     },
     "execution_count": 20,
     "metadata": {},
     "output_type": "execute_result"
    }
   ],
   "source": [
    "app_test = df2.sample(n = 100000)\n",
    "app_test.head()"
   ]
  },
  {
   "cell_type": "code",
   "execution_count": null,
   "metadata": {
    "colab": {
     "base_uri": "https://localhost:8080/"
    },
    "id": "cFemrEEFGx5a",
    "outputId": "32fd9d4b-f0b3-4da9-9e47-f8345cecf9e8"
   },
   "outputs": [
    {
     "data": {
      "text/plain": [
       "Level1_Category_Id   -0.052714\n",
       "Level3_Category_Id   -0.040897\n",
       "sellingprice         -0.038964\n",
       "category_id          -0.037111\n",
       "Level2_Category_Id   -0.020350\n",
       "brand_id              0.007320\n",
       "contentid             0.028672\n",
       "gender                1.000000\n",
       "Name: gender, dtype: float64"
      ]
     },
     "execution_count": 21,
     "metadata": {},
     "output_type": "execute_result"
    }
   ],
   "source": [
    "correlations = app_train.corr()['gender'].sort_values()\n",
    "correlations"
   ]
  },
  {
   "cell_type": "code",
   "execution_count": null,
   "metadata": {
    "colab": {
     "base_uri": "https://localhost:8080/"
    },
    "id": "0SXkrBPQWlbE",
    "outputId": "246066b2-838e-44e0-e094-9bc4a6294fac"
   },
   "outputs": [
    {
     "name": "stdout",
     "output_type": "stream",
     "text": [
      "object\n"
     ]
    }
   ],
   "source": [
    "print(app_train.iloc[-2].dtypes)"
   ]
  },
  {
   "cell_type": "code",
   "execution_count": null,
   "metadata": {
    "colab": {
     "base_uri": "https://localhost:8080/"
    },
    "id": "Mcvb9_11G6wG",
    "outputId": "849cf81e-904e-43a8-972a-bca286e84519"
   },
   "outputs": [
    {
     "name": "stdout",
     "output_type": "stream",
     "text": [
      "2 columns were label encoded.\n"
     ]
    }
   ],
   "source": [
    "# Create a label encoder object\n",
    "le = LabelEncoder()\n",
    "le_count = 0\n",
    "\n",
    "# Iterate through the columns\n",
    "for col in app_train:\n",
    "    if app_train[col].dtype == 'object':\n",
    "        # If 2 or fewer unique categories\n",
    "        if len(list(app_train[col].unique())) <= 3:\n",
    "            # Train on the training data\n",
    "            le.fit(app_train[col])\n",
    "            # Transform both training and testing data\n",
    "            app_train[col] = le.transform(app_train[col])\n",
    "            app_test[col] = le.transform(app_test[col])\n",
    "            \n",
    "            # Keep track of how many columns were label encoded\n",
    "            le_count += 1\n",
    "            \n",
    "print('%d columns were label encoded.' % le_count)"
   ]
  },
  {
   "cell_type": "code",
   "execution_count": null,
   "metadata": {
    "colab": {
     "base_uri": "https://localhost:8080/",
     "height": 548
    },
    "id": "-fHgXqrbHPhc",
    "outputId": "3037d2e6-1ffc-4495-f911-cad2e5c3936f"
   },
   "outputs": [
    {
     "data": {
      "text/html": [
       "\n",
       "  <div id=\"df-eb609204-9486-4811-9bc5-a7b714b3671b\">\n",
       "    <div class=\"colab-df-container\">\n",
       "      <div>\n",
       "<style scoped>\n",
       "    .dataframe tbody tr th:only-of-type {\n",
       "        vertical-align: middle;\n",
       "    }\n",
       "\n",
       "    .dataframe tbody tr th {\n",
       "        vertical-align: top;\n",
       "    }\n",
       "\n",
       "    .dataframe thead th {\n",
       "        text-align: right;\n",
       "    }\n",
       "</style>\n",
       "<table border=\"1\" class=\"dataframe\">\n",
       "  <thead>\n",
       "    <tr style=\"text-align: right;\">\n",
       "      <th></th>\n",
       "      <th>time_stamp</th>\n",
       "      <th>contentid</th>\n",
       "      <th>user_action</th>\n",
       "      <th>sellingprice</th>\n",
       "      <th>product_name</th>\n",
       "      <th>brand_id</th>\n",
       "      <th>brand_name</th>\n",
       "      <th>businessunit</th>\n",
       "      <th>product_gender</th>\n",
       "      <th>category_id</th>\n",
       "      <th>Level1_Category_Id</th>\n",
       "      <th>Level1_Category_Name</th>\n",
       "      <th>Level2_Category_Id</th>\n",
       "      <th>Level2_Category_Name</th>\n",
       "      <th>Level3_Category_Id</th>\n",
       "      <th>Level3_Category_Name</th>\n",
       "      <th>gender</th>\n",
       "      <th>unique_id</th>\n",
       "      <th>type</th>\n",
       "    </tr>\n",
       "  </thead>\n",
       "  <tbody>\n",
       "    <tr>\n",
       "      <th>399897</th>\n",
       "      <td>2020-11-10T17:55:56Z</td>\n",
       "      <td>56893272.0</td>\n",
       "      <td>4</td>\n",
       "      <td>219.99</td>\n",
       "      <td>Beyaz Unisex Spor Ayakkabı Tb211</td>\n",
       "      <td>15214.0</td>\n",
       "      <td>Tonny Black</td>\n",
       "      <td>Branded Shoes B</td>\n",
       "      <td>2</td>\n",
       "      <td>975.0</td>\n",
       "      <td>403.0</td>\n",
       "      <td>2</td>\n",
       "      <td>420.0</td>\n",
       "      <td>Spor Ayakkabı</td>\n",
       "      <td>975.0</td>\n",
       "      <td>Sneaker</td>\n",
       "      <td>1</td>\n",
       "      <td>1302</td>\n",
       "      <td>0</td>\n",
       "    </tr>\n",
       "    <tr>\n",
       "      <th>3964610</th>\n",
       "      <td>2020-11-25T15:26:00Z</td>\n",
       "      <td>2695917.0</td>\n",
       "      <td>4</td>\n",
       "      <td>85.98</td>\n",
       "      <td>Boyuna Asılan Telefon Tutucu Portatif Stand</td>\n",
       "      <td>33508.0</td>\n",
       "      <td>Helen's Home</td>\n",
       "      <td>Ev Dekorasyon</td>\n",
       "      <td>2</td>\n",
       "      <td>369.0</td>\n",
       "      <td>368.0</td>\n",
       "      <td>0</td>\n",
       "      <td>2872.0</td>\n",
       "      <td>Diğer Aksesuar</td>\n",
       "      <td>369.0</td>\n",
       "      <td>Diğer Aksesuarlar</td>\n",
       "      <td>1</td>\n",
       "      <td>40</td>\n",
       "      <td>0</td>\n",
       "    </tr>\n",
       "    <tr>\n",
       "      <th>4489025</th>\n",
       "      <td>2020-12-03T03:36:08Z</td>\n",
       "      <td>31139495.0</td>\n",
       "      <td>4</td>\n",
       "      <td>129.90</td>\n",
       "      <td>Çalışma Masası Bilgisayar Laptop Masası 5056</td>\n",
       "      <td>22211.0</td>\n",
       "      <td>Weblonya</td>\n",
       "      <td>Ofis Mobilyası</td>\n",
       "      <td>2</td>\n",
       "      <td>2100.0</td>\n",
       "      <td>758.0</td>\n",
       "      <td>4</td>\n",
       "      <td>503.0</td>\n",
       "      <td>Mobilya</td>\n",
       "      <td>2084.0</td>\n",
       "      <td>Çalışma Odası</td>\n",
       "      <td>1</td>\n",
       "      <td>714</td>\n",
       "      <td>0</td>\n",
       "    </tr>\n",
       "    <tr>\n",
       "      <th>5112473</th>\n",
       "      <td>2020-10-18T19:54:03Z</td>\n",
       "      <td>40505786.0</td>\n",
       "      <td>3</td>\n",
       "      <td>71.50</td>\n",
       "      <td>Kanvas Çapraz Omuz Postacı Çantası Kahverengi</td>\n",
       "      <td>10729.0</td>\n",
       "      <td>SEVENTEEN</td>\n",
       "      <td>Çanta &amp; Valiz</td>\n",
       "      <td>2</td>\n",
       "      <td>447.0</td>\n",
       "      <td>368.0</td>\n",
       "      <td>0</td>\n",
       "      <td>435.0</td>\n",
       "      <td>Çanta</td>\n",
       "      <td>447.0</td>\n",
       "      <td>Postacı Çantası</td>\n",
       "      <td>0</td>\n",
       "      <td>3154</td>\n",
       "      <td>0</td>\n",
       "    </tr>\n",
       "    <tr>\n",
       "      <th>714033</th>\n",
       "      <td>2020-11-12T10:26:25Z</td>\n",
       "      <td>35419910.0</td>\n",
       "      <td>3</td>\n",
       "      <td>24.99</td>\n",
       "      <td>Siyah %100 Pamuk Bisiklet Yaka Boyfriend Örme ...</td>\n",
       "      <td>40.0</td>\n",
       "      <td>TRENDYOLMİLLA</td>\n",
       "      <td>PL Woman</td>\n",
       "      <td>1</td>\n",
       "      <td>604.0</td>\n",
       "      <td>522.0</td>\n",
       "      <td>5</td>\n",
       "      <td>2871.0</td>\n",
       "      <td>Üst Giyim</td>\n",
       "      <td>604.0</td>\n",
       "      <td>T-Shirt</td>\n",
       "      <td>1</td>\n",
       "      <td>4148</td>\n",
       "      <td>0</td>\n",
       "    </tr>\n",
       "  </tbody>\n",
       "</table>\n",
       "</div>\n",
       "      <button class=\"colab-df-convert\" onclick=\"convertToInteractive('df-eb609204-9486-4811-9bc5-a7b714b3671b')\"\n",
       "              title=\"Convert this dataframe to an interactive table.\"\n",
       "              style=\"display:none;\">\n",
       "        \n",
       "  <svg xmlns=\"http://www.w3.org/2000/svg\" height=\"24px\"viewBox=\"0 0 24 24\"\n",
       "       width=\"24px\">\n",
       "    <path d=\"M0 0h24v24H0V0z\" fill=\"none\"/>\n",
       "    <path d=\"M18.56 5.44l.94 2.06.94-2.06 2.06-.94-2.06-.94-.94-2.06-.94 2.06-2.06.94zm-11 1L8.5 8.5l.94-2.06 2.06-.94-2.06-.94L8.5 2.5l-.94 2.06-2.06.94zm10 10l.94 2.06.94-2.06 2.06-.94-2.06-.94-.94-2.06-.94 2.06-2.06.94z\"/><path d=\"M17.41 7.96l-1.37-1.37c-.4-.4-.92-.59-1.43-.59-.52 0-1.04.2-1.43.59L10.3 9.45l-7.72 7.72c-.78.78-.78 2.05 0 2.83L4 21.41c.39.39.9.59 1.41.59.51 0 1.02-.2 1.41-.59l7.78-7.78 2.81-2.81c.8-.78.8-2.07 0-2.86zM5.41 20L4 18.59l7.72-7.72 1.47 1.35L5.41 20z\"/>\n",
       "  </svg>\n",
       "      </button>\n",
       "      \n",
       "  <style>\n",
       "    .colab-df-container {\n",
       "      display:flex;\n",
       "      flex-wrap:wrap;\n",
       "      gap: 12px;\n",
       "    }\n",
       "\n",
       "    .colab-df-convert {\n",
       "      background-color: #E8F0FE;\n",
       "      border: none;\n",
       "      border-radius: 50%;\n",
       "      cursor: pointer;\n",
       "      display: none;\n",
       "      fill: #1967D2;\n",
       "      height: 32px;\n",
       "      padding: 0 0 0 0;\n",
       "      width: 32px;\n",
       "    }\n",
       "\n",
       "    .colab-df-convert:hover {\n",
       "      background-color: #E2EBFA;\n",
       "      box-shadow: 0px 1px 2px rgba(60, 64, 67, 0.3), 0px 1px 3px 1px rgba(60, 64, 67, 0.15);\n",
       "      fill: #174EA6;\n",
       "    }\n",
       "\n",
       "    [theme=dark] .colab-df-convert {\n",
       "      background-color: #3B4455;\n",
       "      fill: #D2E3FC;\n",
       "    }\n",
       "\n",
       "    [theme=dark] .colab-df-convert:hover {\n",
       "      background-color: #434B5C;\n",
       "      box-shadow: 0px 1px 3px 1px rgba(0, 0, 0, 0.15);\n",
       "      filter: drop-shadow(0px 1px 2px rgba(0, 0, 0, 0.3));\n",
       "      fill: #FFFFFF;\n",
       "    }\n",
       "  </style>\n",
       "\n",
       "      <script>\n",
       "        const buttonEl =\n",
       "          document.querySelector('#df-eb609204-9486-4811-9bc5-a7b714b3671b button.colab-df-convert');\n",
       "        buttonEl.style.display =\n",
       "          google.colab.kernel.accessAllowed ? 'block' : 'none';\n",
       "\n",
       "        async function convertToInteractive(key) {\n",
       "          const element = document.querySelector('#df-eb609204-9486-4811-9bc5-a7b714b3671b');\n",
       "          const dataTable =\n",
       "            await google.colab.kernel.invokeFunction('convertToInteractive',\n",
       "                                                     [key], {});\n",
       "          if (!dataTable) return;\n",
       "\n",
       "          const docLinkHtml = 'Like what you see? Visit the ' +\n",
       "            '<a target=\"_blank\" href=https://colab.research.google.com/notebooks/data_table.ipynb>data table notebook</a>'\n",
       "            + ' to learn more about interactive tables.';\n",
       "          element.innerHTML = '';\n",
       "          dataTable['output_type'] = 'display_data';\n",
       "          await google.colab.output.renderOutput(dataTable, element);\n",
       "          const docLink = document.createElement('div');\n",
       "          docLink.innerHTML = docLinkHtml;\n",
       "          element.appendChild(docLink);\n",
       "        }\n",
       "      </script>\n",
       "    </div>\n",
       "  </div>\n",
       "  "
      ],
      "text/plain": [
       "                   time_stamp   contentid  user_action  ...  gender unique_id  type\n",
       "399897   2020-11-10T17:55:56Z  56893272.0            4  ...       1      1302     0\n",
       "3964610  2020-11-25T15:26:00Z   2695917.0            4  ...       1        40     0\n",
       "4489025  2020-12-03T03:36:08Z  31139495.0            4  ...       1       714     0\n",
       "5112473  2020-10-18T19:54:03Z  40505786.0            3  ...       0      3154     0\n",
       "714033   2020-11-12T10:26:25Z  35419910.0            3  ...       1      4148     0\n",
       "\n",
       "[5 rows x 19 columns]"
      ]
     },
     "execution_count": 73,
     "metadata": {},
     "output_type": "execute_result"
    }
   ],
   "source": [
    "app_train.head()"
   ]
  },
  {
   "cell_type": "code",
   "execution_count": null,
   "metadata": {
    "id": "3A73P7SLKInr"
   },
   "outputs": [],
   "source": [
    "dff"
   ]
  },
  {
   "cell_type": "code",
   "execution_count": null,
   "metadata": {
    "colab": {
     "base_uri": "https://localhost:8080/",
     "height": 424
    },
    "id": "7XXQKUeMXwHX",
    "outputId": "16a96209-7d4d-4621-92ec-764934edacce"
   },
   "outputs": [
    {
     "data": {
      "text/html": [
       "\n",
       "  <div id=\"df-d4bd3635-8574-4b2f-814c-085c5233bec8\">\n",
       "    <div class=\"colab-df-container\">\n",
       "      <div>\n",
       "<style scoped>\n",
       "    .dataframe tbody tr th:only-of-type {\n",
       "        vertical-align: middle;\n",
       "    }\n",
       "\n",
       "    .dataframe tbody tr th {\n",
       "        vertical-align: top;\n",
       "    }\n",
       "\n",
       "    .dataframe thead th {\n",
       "        text-align: right;\n",
       "    }\n",
       "</style>\n",
       "<table border=\"1\" class=\"dataframe\">\n",
       "  <thead>\n",
       "    <tr style=\"text-align: right;\">\n",
       "      <th></th>\n",
       "      <th>product_name</th>\n",
       "      <th>brand_name</th>\n",
       "      <th>businessunit</th>\n",
       "      <th>Level1_Category_Name</th>\n",
       "      <th>Level2_Category_Name</th>\n",
       "      <th>Level3_Category_Name</th>\n",
       "    </tr>\n",
       "  </thead>\n",
       "  <tbody>\n",
       "    <tr>\n",
       "      <th>1584195</th>\n",
       "      <td>Kadın Ekru  Bisiklet Yaka Önü Nakışlı Hırka</td>\n",
       "      <td>Dilvin</td>\n",
       "      <td>Kadın B</td>\n",
       "      <td>Giyim</td>\n",
       "      <td>Üst Giyim</td>\n",
       "      <td>Kazak &amp; Hırka</td>\n",
       "    </tr>\n",
       "    <tr>\n",
       "      <th>4942953</th>\n",
       "      <td>Çift Kişilik Nevresim Seti Mikerinos</td>\n",
       "      <td>For Home</td>\n",
       "      <td>Ev Tekstil</td>\n",
       "      <td>Ev &amp; Mobilya</td>\n",
       "      <td>Ev Tekstili</td>\n",
       "      <td>Yatak Odası Tekstili</td>\n",
       "    </tr>\n",
       "    <tr>\n",
       "      <th>2708556</th>\n",
       "      <td>2020 Ales Tüm Adaylar Için Soru Bankası</td>\n",
       "      <td>Pegem Akademi Yayıncılık</td>\n",
       "      <td>Books</td>\n",
       "      <td>Yaşam</td>\n",
       "      <td>Kitap</td>\n",
       "      <td>Hobi, Sanat, Akademik</td>\n",
       "    </tr>\n",
       "    <tr>\n",
       "      <th>296100</th>\n",
       "      <td>Banyo Nem Topu Nem Bombası 6 Adet  85 gr</td>\n",
       "      <td>NAGARAKU</td>\n",
       "      <td>Kişisel Bakım</td>\n",
       "      <td>Kozmetik &amp; Kişisel Bakım</td>\n",
       "      <td>Diğer Kişisel Bakım Ürünleri</td>\n",
       "      <td>Manikür &amp; Pedikür Aletleri</td>\n",
       "    </tr>\n",
       "    <tr>\n",
       "      <th>3820447</th>\n",
       "      <td>Kedi Köpek Pati Yıkama Aparatı Pati Temizleme ...</td>\n",
       "      <td>Keyfi Sepet</td>\n",
       "      <td>Petshop</td>\n",
       "      <td>Süpermarket</td>\n",
       "      <td>Pet Shop</td>\n",
       "      <td>Köpek Ürünleri</td>\n",
       "    </tr>\n",
       "    <tr>\n",
       "      <th>...</th>\n",
       "      <td>...</td>\n",
       "      <td>...</td>\n",
       "      <td>...</td>\n",
       "      <td>...</td>\n",
       "      <td>...</td>\n",
       "      <td>...</td>\n",
       "    </tr>\n",
       "    <tr>\n",
       "      <th>601072</th>\n",
       "      <td>Hakiki Deri Kahve Erkek Bot &amp; Bootie 02BOH1948...</td>\n",
       "      <td>Hotiç</td>\n",
       "      <td>Branded Shoes A</td>\n",
       "      <td>Ayakkabı</td>\n",
       "      <td>Bot &amp; Çizme</td>\n",
       "      <td>Bot &amp; Bootie</td>\n",
       "    </tr>\n",
       "    <tr>\n",
       "      <th>505097</th>\n",
       "      <td>Kadın Siyah &amp; Beyaz Tek Cepli Çizgili V Yaka B...</td>\n",
       "      <td>XENA</td>\n",
       "      <td>Kadın B</td>\n",
       "      <td>Giyim</td>\n",
       "      <td>Üst Giyim</td>\n",
       "      <td>Bluz &amp; Tunik</td>\n",
       "    </tr>\n",
       "    <tr>\n",
       "      <th>1616340</th>\n",
       "      <td>2'li Arow Metal Kaplama Cam Tuzluk</td>\n",
       "      <td>Kitchen Chef</td>\n",
       "      <td>Sofra &amp; Mutfak</td>\n",
       "      <td>Ev &amp; Mobilya</td>\n",
       "      <td>Sofra &amp; Mutfak</td>\n",
       "      <td>Mutfak Saklama ve Düzenleme</td>\n",
       "    </tr>\n",
       "    <tr>\n",
       "      <th>2037856</th>\n",
       "      <td>Vizon Fermuar ve Cep Detaylı Yüksek Bel Spor T...</td>\n",
       "      <td>TRENDYOLMİLLA</td>\n",
       "      <td>PL Woman</td>\n",
       "      <td>Spor &amp; Outdoor</td>\n",
       "      <td>Spor Giyim</td>\n",
       "      <td>Spor Tayt</td>\n",
       "    </tr>\n",
       "    <tr>\n",
       "      <th>3179305</th>\n",
       "      <td>Ekru Omuz Detaylı Triko Kazak TWOAW20XS0015</td>\n",
       "      <td>TRENDYOLMİLLA</td>\n",
       "      <td>PL Woman</td>\n",
       "      <td>Giyim</td>\n",
       "      <td>Üst Giyim</td>\n",
       "      <td>Kazak &amp; Hırka</td>\n",
       "    </tr>\n",
       "  </tbody>\n",
       "</table>\n",
       "<p>100000 rows × 6 columns</p>\n",
       "</div>\n",
       "      <button class=\"colab-df-convert\" onclick=\"convertToInteractive('df-d4bd3635-8574-4b2f-814c-085c5233bec8')\"\n",
       "              title=\"Convert this dataframe to an interactive table.\"\n",
       "              style=\"display:none;\">\n",
       "        \n",
       "  <svg xmlns=\"http://www.w3.org/2000/svg\" height=\"24px\"viewBox=\"0 0 24 24\"\n",
       "       width=\"24px\">\n",
       "    <path d=\"M0 0h24v24H0V0z\" fill=\"none\"/>\n",
       "    <path d=\"M18.56 5.44l.94 2.06.94-2.06 2.06-.94-2.06-.94-.94-2.06-.94 2.06-2.06.94zm-11 1L8.5 8.5l.94-2.06 2.06-.94-2.06-.94L8.5 2.5l-.94 2.06-2.06.94zm10 10l.94 2.06.94-2.06 2.06-.94-2.06-.94-.94-2.06-.94 2.06-2.06.94z\"/><path d=\"M17.41 7.96l-1.37-1.37c-.4-.4-.92-.59-1.43-.59-.52 0-1.04.2-1.43.59L10.3 9.45l-7.72 7.72c-.78.78-.78 2.05 0 2.83L4 21.41c.39.39.9.59 1.41.59.51 0 1.02-.2 1.41-.59l7.78-7.78 2.81-2.81c.8-.78.8-2.07 0-2.86zM5.41 20L4 18.59l7.72-7.72 1.47 1.35L5.41 20z\"/>\n",
       "  </svg>\n",
       "      </button>\n",
       "      \n",
       "  <style>\n",
       "    .colab-df-container {\n",
       "      display:flex;\n",
       "      flex-wrap:wrap;\n",
       "      gap: 12px;\n",
       "    }\n",
       "\n",
       "    .colab-df-convert {\n",
       "      background-color: #E8F0FE;\n",
       "      border: none;\n",
       "      border-radius: 50%;\n",
       "      cursor: pointer;\n",
       "      display: none;\n",
       "      fill: #1967D2;\n",
       "      height: 32px;\n",
       "      padding: 0 0 0 0;\n",
       "      width: 32px;\n",
       "    }\n",
       "\n",
       "    .colab-df-convert:hover {\n",
       "      background-color: #E2EBFA;\n",
       "      box-shadow: 0px 1px 2px rgba(60, 64, 67, 0.3), 0px 1px 3px 1px rgba(60, 64, 67, 0.15);\n",
       "      fill: #174EA6;\n",
       "    }\n",
       "\n",
       "    [theme=dark] .colab-df-convert {\n",
       "      background-color: #3B4455;\n",
       "      fill: #D2E3FC;\n",
       "    }\n",
       "\n",
       "    [theme=dark] .colab-df-convert:hover {\n",
       "      background-color: #434B5C;\n",
       "      box-shadow: 0px 1px 3px 1px rgba(0, 0, 0, 0.15);\n",
       "      filter: drop-shadow(0px 1px 2px rgba(0, 0, 0, 0.3));\n",
       "      fill: #FFFFFF;\n",
       "    }\n",
       "  </style>\n",
       "\n",
       "      <script>\n",
       "        const buttonEl =\n",
       "          document.querySelector('#df-d4bd3635-8574-4b2f-814c-085c5233bec8 button.colab-df-convert');\n",
       "        buttonEl.style.display =\n",
       "          google.colab.kernel.accessAllowed ? 'block' : 'none';\n",
       "\n",
       "        async function convertToInteractive(key) {\n",
       "          const element = document.querySelector('#df-d4bd3635-8574-4b2f-814c-085c5233bec8');\n",
       "          const dataTable =\n",
       "            await google.colab.kernel.invokeFunction('convertToInteractive',\n",
       "                                                     [key], {});\n",
       "          if (!dataTable) return;\n",
       "\n",
       "          const docLinkHtml = 'Like what you see? Visit the ' +\n",
       "            '<a target=\"_blank\" href=https://colab.research.google.com/notebooks/data_table.ipynb>data table notebook</a>'\n",
       "            + ' to learn more about interactive tables.';\n",
       "          element.innerHTML = '';\n",
       "          dataTable['output_type'] = 'display_data';\n",
       "          await google.colab.output.renderOutput(dataTable, element);\n",
       "          const docLink = document.createElement('div');\n",
       "          docLink.innerHTML = docLinkHtml;\n",
       "          element.appendChild(docLink);\n",
       "        }\n",
       "      </script>\n",
       "    </div>\n",
       "  </div>\n",
       "  "
      ],
      "text/plain": [
       "                                              product_name  ...         Level3_Category_Name\n",
       "1584195        Kadın Ekru  Bisiklet Yaka Önü Nakışlı Hırka  ...                Kazak & Hırka\n",
       "4942953               Çift Kişilik Nevresim Seti Mikerinos  ...         Yatak Odası Tekstili\n",
       "2708556            2020 Ales Tüm Adaylar Için Soru Bankası  ...        Hobi, Sanat, Akademik\n",
       "296100            Banyo Nem Topu Nem Bombası 6 Adet  85 gr  ...   Manikür & Pedikür Aletleri\n",
       "3820447  Kedi Köpek Pati Yıkama Aparatı Pati Temizleme ...  ...               Köpek Ürünleri\n",
       "...                                                    ...  ...                          ...\n",
       "601072   Hakiki Deri Kahve Erkek Bot & Bootie 02BOH1948...  ...                 Bot & Bootie\n",
       "505097   Kadın Siyah & Beyaz Tek Cepli Çizgili V Yaka B...  ...                 Bluz & Tunik\n",
       "1616340                 2'li Arow Metal Kaplama Cam Tuzluk  ...  Mutfak Saklama ve Düzenleme\n",
       "2037856  Vizon Fermuar ve Cep Detaylı Yüksek Bel Spor T...  ...                    Spor Tayt\n",
       "3179305        Ekru Omuz Detaylı Triko Kazak TWOAW20XS0015  ...                Kazak & Hırka\n",
       "\n",
       "[100000 rows x 6 columns]"
      ]
     },
     "execution_count": 5,
     "metadata": {},
     "output_type": "execute_result"
    }
   ],
   "source": [
    "dff = df.sample(n = 100000)\n",
    "dff = dff.iloc[:,1:]\n",
    "dff_y = dff['gender']\n",
    "dff_user_gender = dff[['sellingprice','user_action','product_gender']]\n",
    "dff.drop(['sellingprice','contentid','brand_id','category_id','Level1_Category_Id','Level2_Category_Id','Level3_Category_Id','unique_id','type','gender','user_action','product_gender'], axis = 1,inplace = True)\n",
    "dff"
   ]
  },
  {
   "cell_type": "code",
   "execution_count": null,
   "metadata": {
    "id": "AyaJQSJ6Bgq5"
   },
   "outputs": [],
   "source": [
    "dff = pd.get_dummies(dff)"
   ]
  },
  {
   "cell_type": "code",
   "execution_count": null,
   "metadata": {
    "id": "O2bQwTRWG3Rl"
   },
   "outputs": [],
   "source": [
    "pd.options.display.max_columns = None\n",
    "#pd.options.display.max_rows = None"
   ]
  },
  {
   "cell_type": "code",
   "execution_count": null,
   "metadata": {
    "colab": {
     "base_uri": "https://localhost:8080/"
    },
    "id": "-jrxNO1o4F__",
    "outputId": "2d87795d-d91e-4c21-f72a-767284a80a0b"
   },
   "outputs": [
    {
     "data": {
      "text/plain": [
       "0    99\n",
       "1     1\n",
       "Name: product_name_%100 Doğal Pamuk Çift Kişilik Nevresim Takımı Gina Antrasit, dtype: int64"
      ]
     },
     "execution_count": 67,
     "metadata": {},
     "output_type": "execute_result"
    }
   ],
   "source": []
  },
  {
   "cell_type": "code",
   "execution_count": null,
   "metadata": {
    "colab": {
     "base_uri": "https://localhost:8080/"
    },
    "id": "6Q8U3le5wvS3",
    "outputId": "cb413cbd-8710-4d7c-a242-14b264e92ab9"
   },
   "outputs": [
    {
     "name": "stdout",
     "output_type": "stream",
     "text": [
      "Collecting mca\n",
      "  Downloading mca-1.0.3.tar.gz (17 kB)\n",
      "Requirement already satisfied: scipy in /usr/local/lib/python3.7/dist-packages (from mca) (1.4.1)\n",
      "Requirement already satisfied: numpy in /usr/local/lib/python3.7/dist-packages (from mca) (1.19.5)\n",
      "Requirement already satisfied: pandas in /usr/local/lib/python3.7/dist-packages (from mca) (1.1.5)\n",
      "Requirement already satisfied: python-dateutil>=2.7.3 in /usr/local/lib/python3.7/dist-packages (from pandas->mca) (2.8.2)\n",
      "Requirement already satisfied: pytz>=2017.2 in /usr/local/lib/python3.7/dist-packages (from pandas->mca) (2018.9)\n",
      "Requirement already satisfied: six>=1.5 in /usr/local/lib/python3.7/dist-packages (from python-dateutil>=2.7.3->pandas->mca) (1.15.0)\n",
      "Building wheels for collected packages: mca\n",
      "  Building wheel for mca (setup.py) ... \u001b[?25l\u001b[?25hdone\n",
      "  Created wheel for mca: filename=mca-1.0.3-py2.py3-none-any.whl size=6024 sha256=f7a94ef577fc27fe653b7e57be07d65dad68851acc6c6923e6910f8ae6eb3ce3\n",
      "  Stored in directory: /root/.cache/pip/wheels/00/46/2a/acfca530ddd1e1d72271e07cb7517611d10cd6bcd05cd0cf34\n",
      "Successfully built mca\n",
      "Installing collected packages: mca\n",
      "Successfully installed mca-1.0.3\n"
     ]
    }
   ],
   "source": [
    "!pip install mca"
   ]
  },
  {
   "cell_type": "code",
   "execution_count": null,
   "metadata": {
    "id": "JZeHe-n7xNAk"
   },
   "outputs": [],
   "source": [
    "import mca"
   ]
  },
  {
   "cell_type": "code",
   "execution_count": null,
   "metadata": {
    "colab": {
     "base_uri": "https://localhost:8080/"
    },
    "id": "LRe4O4tqwyCw",
    "outputId": "5046603a-3bd8-4550-91f5-64c6dc827fe6"
   },
   "outputs": [
    {
     "data": {
      "text/plain": [
       "(100, 22)"
      ]
     },
     "execution_count": 61,
     "metadata": {},
     "output_type": "execute_result"
    }
   ],
   "source": [
    "mca_df = mca.MCA(dff)\n",
    "mca_df.fs_r(0.5).shape"
   ]
  },
  {
   "cell_type": "code",
   "execution_count": null,
   "metadata": {
    "colab": {
     "base_uri": "https://localhost:8080/",
     "height": 165
    },
    "id": "1gHBDmK6y_ld",
    "outputId": "5472dfd5-27a3-4585-cb0e-ce4386b8a618"
   },
   "outputs": [
    {
     "ename": "NameError",
     "evalue": "ignored",
     "output_type": "error",
     "traceback": [
      "\u001b[0;31m---------------------------------------------------------------------------\u001b[0m",
      "\u001b[0;31mNameError\u001b[0m                                 Traceback (most recent call last)",
      "\u001b[0;32m<ipython-input-62-234d3a4febb3>\u001b[0m in \u001b[0;36m<module>\u001b[0;34m()\u001b[0m\n\u001b[0;32m----> 1\u001b[0;31m \u001b[0mmca_counts\u001b[0m \u001b[0;34m=\u001b[0m \u001b[0mmca\u001b[0m\u001b[0;34m.\u001b[0m\u001b[0mMCA\u001b[0m\u001b[0;34m(\u001b[0m\u001b[0mcounts\u001b[0m\u001b[0;34m.\u001b[0m\u001b[0mdrop\u001b[0m\u001b[0;34m(\u001b[0m\u001b[0;34m'oak_type'\u001b[0m\u001b[0;34m,\u001b[0m \u001b[0maxis\u001b[0m\u001b[0;34m=\u001b[0m\u001b[0;36m1\u001b[0m\u001b[0;34m)\u001b[0m\u001b[0;34m)\u001b[0m\u001b[0;34m\u001b[0m\u001b[0;34m\u001b[0m\u001b[0m\n\u001b[0m",
      "\u001b[0;31mNameError\u001b[0m: name 'counts' is not defined"
     ]
    }
   ],
   "source": [
    "mca_counts = mca.MCA(counts.drop('oak_type', axis=1))"
   ]
  },
  {
   "cell_type": "code",
   "execution_count": null,
   "metadata": {
    "colab": {
     "base_uri": "https://localhost:8080/"
    },
    "id": "pIhxkAtl4R0L",
    "outputId": "df9ce191-c431-404f-9fcb-629c3f150cbf"
   },
   "outputs": [
    {
     "data": {
      "text/plain": [
       "PCA(n_components=0.5)"
      ]
     },
     "execution_count": 84,
     "metadata": {},
     "output_type": "execute_result"
    }
   ],
   "source": [
    "from sklearn.decomposition import PCA\n",
    "pca = PCA(0.5)\n",
    "pca.fit(dff)"
   ]
  },
  {
   "cell_type": "code",
   "execution_count": null,
   "metadata": {
    "colab": {
     "base_uri": "https://localhost:8080/"
    },
    "id": "NrNW4dWwKxRm",
    "outputId": "ec61c447-f65d-423a-82ba-3ecc8b9a6e31"
   },
   "outputs": [
    {
     "name": "stdout",
     "output_type": "stream",
     "text": [
      "0.5040491917914991\n",
      "[7.25710805 5.16667325 4.76517874 4.73404081 4.40258204 4.24692588\n",
      " 3.96695014 3.51571834 3.32450333 3.16358572 3.05099047 2.97789668\n",
      " 2.9483743  2.92835183 2.91267307 2.82939015 2.79970719 2.79309816]\n"
     ]
    }
   ],
   "source": [
    ">>> print(pca.explained_variance_ratio_.sum())\n",
    "\n",
    ">>> print(pca.singular_values_)\n"
   ]
  },
  {
   "cell_type": "code",
   "execution_count": null,
   "metadata": {
    "colab": {
     "base_uri": "https://localhost:8080/"
    },
    "id": "IXFKjXFHK09m",
    "outputId": "ce64d3a9-0068-4847-f0d2-37fcc037d88a"
   },
   "outputs": [
    {
     "name": "stdout",
     "output_type": "stream",
     "text": [
      "(18, 327)\n"
     ]
    },
    {
     "data": {
      "text/plain": [
       "array([[-1.41293497e-02, -1.12330372e-02, -1.19531399e-02, ...,\n",
       "        -9.13231231e-03, -4.23880492e-02, -1.60608505e-02],\n",
       "       [-1.86570462e-02, -1.04878568e-02, -1.68209058e-02, ...,\n",
       "        -4.29808801e-03, -5.59711386e-02,  5.07644500e-02],\n",
       "       [-5.05862757e-02, -2.37677579e-02,  2.27262442e-02, ...,\n",
       "        -3.06980256e-03, -1.51758827e-01,  1.03705880e-02],\n",
       "       ...,\n",
       "       [-5.63639601e-03,  5.97346310e-03, -2.60179182e-04, ...,\n",
       "         1.85694202e-02, -1.69091880e-02, -1.25734790e-02],\n",
       "       [-8.39001054e-02,  9.15416411e-02, -4.34178176e-04, ...,\n",
       "        -1.39937674e-01, -2.51700316e-01,  1.43084011e-04],\n",
       "       [ 6.92865071e-04, -7.59944587e-04,  2.55732776e-02, ...,\n",
       "        -1.14244025e-02,  2.07859521e-03,  4.78042963e-03]])"
      ]
     },
     "execution_count": 87,
     "metadata": {},
     "output_type": "execute_result"
    }
   ],
   "source": [
    "print(pca.components_.shape)\n",
    "pca.components_"
   ]
  },
  {
   "cell_type": "code",
   "execution_count": null,
   "metadata": {
    "colab": {
     "base_uri": "https://localhost:8080/",
     "height": 424
    },
    "id": "6413SaxMLnq8",
    "outputId": "76c0a601-17c9-468a-d841-34043d5adf2c"
   },
   "outputs": [
    {
     "data": {
      "text/html": [
       "\n",
       "  <div id=\"df-cf8d43ed-a4c2-43a1-89c8-026e96c7c81f\">\n",
       "    <div class=\"colab-df-container\">\n",
       "      <div>\n",
       "<style scoped>\n",
       "    .dataframe tbody tr th:only-of-type {\n",
       "        vertical-align: middle;\n",
       "    }\n",
       "\n",
       "    .dataframe tbody tr th {\n",
       "        vertical-align: top;\n",
       "    }\n",
       "\n",
       "    .dataframe thead th {\n",
       "        text-align: right;\n",
       "    }\n",
       "</style>\n",
       "<table border=\"1\" class=\"dataframe\">\n",
       "  <thead>\n",
       "    <tr style=\"text-align: right;\">\n",
       "      <th></th>\n",
       "      <th>0</th>\n",
       "      <th>1</th>\n",
       "      <th>2</th>\n",
       "      <th>3</th>\n",
       "      <th>4</th>\n",
       "      <th>5</th>\n",
       "      <th>6</th>\n",
       "      <th>7</th>\n",
       "      <th>8</th>\n",
       "      <th>9</th>\n",
       "      <th>10</th>\n",
       "      <th>11</th>\n",
       "      <th>12</th>\n",
       "      <th>13</th>\n",
       "      <th>14</th>\n",
       "      <th>15</th>\n",
       "      <th>16</th>\n",
       "      <th>17</th>\n",
       "    </tr>\n",
       "  </thead>\n",
       "  <tbody>\n",
       "    <tr>\n",
       "      <th>0</th>\n",
       "      <td>-0.598697</td>\n",
       "      <td>-0.209929</td>\n",
       "      <td>-0.155694</td>\n",
       "      <td>-0.082037</td>\n",
       "      <td>0.179362</td>\n",
       "      <td>1.211836</td>\n",
       "      <td>-0.164559</td>\n",
       "      <td>-0.548148</td>\n",
       "      <td>-0.009015</td>\n",
       "      <td>-0.158125</td>\n",
       "      <td>-0.084668</td>\n",
       "      <td>-0.086845</td>\n",
       "      <td>0.017540</td>\n",
       "      <td>0.023937</td>\n",
       "      <td>-0.048585</td>\n",
       "      <td>0.013005</td>\n",
       "      <td>0.003515</td>\n",
       "      <td>-0.011364</td>\n",
       "    </tr>\n",
       "    <tr>\n",
       "      <th>1</th>\n",
       "      <td>-0.933582</td>\n",
       "      <td>1.680815</td>\n",
       "      <td>0.295408</td>\n",
       "      <td>-0.097988</td>\n",
       "      <td>-0.146398</td>\n",
       "      <td>-0.221618</td>\n",
       "      <td>0.114327</td>\n",
       "      <td>-0.171896</td>\n",
       "      <td>0.008284</td>\n",
       "      <td>-0.068007</td>\n",
       "      <td>-0.061279</td>\n",
       "      <td>-0.078881</td>\n",
       "      <td>0.002864</td>\n",
       "      <td>-0.041228</td>\n",
       "      <td>-0.031908</td>\n",
       "      <td>0.229594</td>\n",
       "      <td>0.002916</td>\n",
       "      <td>-0.197717</td>\n",
       "    </tr>\n",
       "    <tr>\n",
       "      <th>2</th>\n",
       "      <td>-0.845855</td>\n",
       "      <td>1.355132</td>\n",
       "      <td>0.235484</td>\n",
       "      <td>-0.096619</td>\n",
       "      <td>-0.120025</td>\n",
       "      <td>-0.143593</td>\n",
       "      <td>0.121869</td>\n",
       "      <td>-0.087719</td>\n",
       "      <td>0.018885</td>\n",
       "      <td>0.009020</td>\n",
       "      <td>-0.084457</td>\n",
       "      <td>0.104301</td>\n",
       "      <td>0.037112</td>\n",
       "      <td>0.140155</td>\n",
       "      <td>-0.022853</td>\n",
       "      <td>-0.100656</td>\n",
       "      <td>0.001122</td>\n",
       "      <td>0.037294</td>\n",
       "    </tr>\n",
       "    <tr>\n",
       "      <th>3</th>\n",
       "      <td>-0.768734</td>\n",
       "      <td>1.031981</td>\n",
       "      <td>0.175309</td>\n",
       "      <td>-0.100804</td>\n",
       "      <td>-0.094738</td>\n",
       "      <td>-0.051568</td>\n",
       "      <td>0.145027</td>\n",
       "      <td>0.035604</td>\n",
       "      <td>0.041615</td>\n",
       "      <td>0.165166</td>\n",
       "      <td>-0.161186</td>\n",
       "      <td>0.579347</td>\n",
       "      <td>0.136012</td>\n",
       "      <td>0.657695</td>\n",
       "      <td>-0.008418</td>\n",
       "      <td>-1.139805</td>\n",
       "      <td>-0.003967</td>\n",
       "      <td>0.814849</td>\n",
       "    </tr>\n",
       "    <tr>\n",
       "      <th>4</th>\n",
       "      <td>0.294313</td>\n",
       "      <td>-0.032325</td>\n",
       "      <td>-0.190101</td>\n",
       "      <td>0.327646</td>\n",
       "      <td>0.285586</td>\n",
       "      <td>-0.030310</td>\n",
       "      <td>0.056947</td>\n",
       "      <td>0.294278</td>\n",
       "      <td>-0.854517</td>\n",
       "      <td>-0.124849</td>\n",
       "      <td>-0.462958</td>\n",
       "      <td>0.306425</td>\n",
       "      <td>-0.548273</td>\n",
       "      <td>-0.416709</td>\n",
       "      <td>-0.355664</td>\n",
       "      <td>-0.782229</td>\n",
       "      <td>0.019976</td>\n",
       "      <td>-0.628662</td>\n",
       "    </tr>\n",
       "    <tr>\n",
       "      <th>...</th>\n",
       "      <td>...</td>\n",
       "      <td>...</td>\n",
       "      <td>...</td>\n",
       "      <td>...</td>\n",
       "      <td>...</td>\n",
       "      <td>...</td>\n",
       "      <td>...</td>\n",
       "      <td>...</td>\n",
       "      <td>...</td>\n",
       "      <td>...</td>\n",
       "      <td>...</td>\n",
       "      <td>...</td>\n",
       "      <td>...</td>\n",
       "      <td>...</td>\n",
       "      <td>...</td>\n",
       "      <td>...</td>\n",
       "      <td>...</td>\n",
       "      <td>...</td>\n",
       "    </tr>\n",
       "    <tr>\n",
       "      <th>95</th>\n",
       "      <td>-0.560769</td>\n",
       "      <td>-0.180514</td>\n",
       "      <td>-0.128902</td>\n",
       "      <td>-0.067677</td>\n",
       "      <td>0.141260</td>\n",
       "      <td>0.927440</td>\n",
       "      <td>-0.117541</td>\n",
       "      <td>-0.318620</td>\n",
       "      <td>-0.004419</td>\n",
       "      <td>-0.060774</td>\n",
       "      <td>-0.024250</td>\n",
       "      <td>-0.018090</td>\n",
       "      <td>0.003031</td>\n",
       "      <td>0.003525</td>\n",
       "      <td>-0.006140</td>\n",
       "      <td>0.000021</td>\n",
       "      <td>-0.000172</td>\n",
       "      <td>0.000688</td>\n",
       "    </tr>\n",
       "    <tr>\n",
       "      <th>96</th>\n",
       "      <td>0.766007</td>\n",
       "      <td>-0.003036</td>\n",
       "      <td>0.264052</td>\n",
       "      <td>-0.626351</td>\n",
       "      <td>1.224207</td>\n",
       "      <td>-0.173744</td>\n",
       "      <td>0.716786</td>\n",
       "      <td>-0.096816</td>\n",
       "      <td>-0.013174</td>\n",
       "      <td>-0.089537</td>\n",
       "      <td>0.186626</td>\n",
       "      <td>-0.191131</td>\n",
       "      <td>0.151409</td>\n",
       "      <td>-0.041997</td>\n",
       "      <td>0.073805</td>\n",
       "      <td>-0.002256</td>\n",
       "      <td>-0.002143</td>\n",
       "      <td>0.133114</td>\n",
       "    </tr>\n",
       "    <tr>\n",
       "      <th>97</th>\n",
       "      <td>1.008608</td>\n",
       "      <td>0.037056</td>\n",
       "      <td>-0.000122</td>\n",
       "      <td>0.104434</td>\n",
       "      <td>-0.931132</td>\n",
       "      <td>0.169905</td>\n",
       "      <td>0.284280</td>\n",
       "      <td>-0.004277</td>\n",
       "      <td>-0.019500</td>\n",
       "      <td>0.193703</td>\n",
       "      <td>-0.472681</td>\n",
       "      <td>-0.311897</td>\n",
       "      <td>0.329312</td>\n",
       "      <td>-0.304318</td>\n",
       "      <td>0.233926</td>\n",
       "      <td>-0.013134</td>\n",
       "      <td>-0.006711</td>\n",
       "      <td>0.321313</td>\n",
       "    </tr>\n",
       "    <tr>\n",
       "      <th>98</th>\n",
       "      <td>-0.933582</td>\n",
       "      <td>1.680815</td>\n",
       "      <td>0.295408</td>\n",
       "      <td>-0.097988</td>\n",
       "      <td>-0.146398</td>\n",
       "      <td>-0.221618</td>\n",
       "      <td>0.114327</td>\n",
       "      <td>-0.171896</td>\n",
       "      <td>0.008284</td>\n",
       "      <td>-0.068007</td>\n",
       "      <td>-0.061279</td>\n",
       "      <td>-0.078881</td>\n",
       "      <td>0.002864</td>\n",
       "      <td>-0.041228</td>\n",
       "      <td>-0.031908</td>\n",
       "      <td>0.229594</td>\n",
       "      <td>0.002916</td>\n",
       "      <td>-0.197717</td>\n",
       "    </tr>\n",
       "    <tr>\n",
       "      <th>99</th>\n",
       "      <td>1.104348</td>\n",
       "      <td>0.053984</td>\n",
       "      <td>0.443300</td>\n",
       "      <td>-0.871242</td>\n",
       "      <td>0.457982</td>\n",
       "      <td>-0.084239</td>\n",
       "      <td>-0.173592</td>\n",
       "      <td>-0.080031</td>\n",
       "      <td>0.237924</td>\n",
       "      <td>0.160278</td>\n",
       "      <td>-0.265260</td>\n",
       "      <td>-0.055817</td>\n",
       "      <td>0.015205</td>\n",
       "      <td>-0.114488</td>\n",
       "      <td>0.069761</td>\n",
       "      <td>-0.005048</td>\n",
       "      <td>-0.000722</td>\n",
       "      <td>-0.021553</td>\n",
       "    </tr>\n",
       "  </tbody>\n",
       "</table>\n",
       "<p>100 rows × 18 columns</p>\n",
       "</div>\n",
       "      <button class=\"colab-df-convert\" onclick=\"convertToInteractive('df-cf8d43ed-a4c2-43a1-89c8-026e96c7c81f')\"\n",
       "              title=\"Convert this dataframe to an interactive table.\"\n",
       "              style=\"display:none;\">\n",
       "        \n",
       "  <svg xmlns=\"http://www.w3.org/2000/svg\" height=\"24px\"viewBox=\"0 0 24 24\"\n",
       "       width=\"24px\">\n",
       "    <path d=\"M0 0h24v24H0V0z\" fill=\"none\"/>\n",
       "    <path d=\"M18.56 5.44l.94 2.06.94-2.06 2.06-.94-2.06-.94-.94-2.06-.94 2.06-2.06.94zm-11 1L8.5 8.5l.94-2.06 2.06-.94-2.06-.94L8.5 2.5l-.94 2.06-2.06.94zm10 10l.94 2.06.94-2.06 2.06-.94-2.06-.94-.94-2.06-.94 2.06-2.06.94z\"/><path d=\"M17.41 7.96l-1.37-1.37c-.4-.4-.92-.59-1.43-.59-.52 0-1.04.2-1.43.59L10.3 9.45l-7.72 7.72c-.78.78-.78 2.05 0 2.83L4 21.41c.39.39.9.59 1.41.59.51 0 1.02-.2 1.41-.59l7.78-7.78 2.81-2.81c.8-.78.8-2.07 0-2.86zM5.41 20L4 18.59l7.72-7.72 1.47 1.35L5.41 20z\"/>\n",
       "  </svg>\n",
       "      </button>\n",
       "      \n",
       "  <style>\n",
       "    .colab-df-container {\n",
       "      display:flex;\n",
       "      flex-wrap:wrap;\n",
       "      gap: 12px;\n",
       "    }\n",
       "\n",
       "    .colab-df-convert {\n",
       "      background-color: #E8F0FE;\n",
       "      border: none;\n",
       "      border-radius: 50%;\n",
       "      cursor: pointer;\n",
       "      display: none;\n",
       "      fill: #1967D2;\n",
       "      height: 32px;\n",
       "      padding: 0 0 0 0;\n",
       "      width: 32px;\n",
       "    }\n",
       "\n",
       "    .colab-df-convert:hover {\n",
       "      background-color: #E2EBFA;\n",
       "      box-shadow: 0px 1px 2px rgba(60, 64, 67, 0.3), 0px 1px 3px 1px rgba(60, 64, 67, 0.15);\n",
       "      fill: #174EA6;\n",
       "    }\n",
       "\n",
       "    [theme=dark] .colab-df-convert {\n",
       "      background-color: #3B4455;\n",
       "      fill: #D2E3FC;\n",
       "    }\n",
       "\n",
       "    [theme=dark] .colab-df-convert:hover {\n",
       "      background-color: #434B5C;\n",
       "      box-shadow: 0px 1px 3px 1px rgba(0, 0, 0, 0.15);\n",
       "      filter: drop-shadow(0px 1px 2px rgba(0, 0, 0, 0.3));\n",
       "      fill: #FFFFFF;\n",
       "    }\n",
       "  </style>\n",
       "\n",
       "      <script>\n",
       "        const buttonEl =\n",
       "          document.querySelector('#df-cf8d43ed-a4c2-43a1-89c8-026e96c7c81f button.colab-df-convert');\n",
       "        buttonEl.style.display =\n",
       "          google.colab.kernel.accessAllowed ? 'block' : 'none';\n",
       "\n",
       "        async function convertToInteractive(key) {\n",
       "          const element = document.querySelector('#df-cf8d43ed-a4c2-43a1-89c8-026e96c7c81f');\n",
       "          const dataTable =\n",
       "            await google.colab.kernel.invokeFunction('convertToInteractive',\n",
       "                                                     [key], {});\n",
       "          if (!dataTable) return;\n",
       "\n",
       "          const docLinkHtml = 'Like what you see? Visit the ' +\n",
       "            '<a target=\"_blank\" href=https://colab.research.google.com/notebooks/data_table.ipynb>data table notebook</a>'\n",
       "            + ' to learn more about interactive tables.';\n",
       "          element.innerHTML = '';\n",
       "          dataTable['output_type'] = 'display_data';\n",
       "          await google.colab.output.renderOutput(dataTable, element);\n",
       "          const docLink = document.createElement('div');\n",
       "          docLink.innerHTML = docLinkHtml;\n",
       "          element.appendChild(docLink);\n",
       "        }\n",
       "      </script>\n",
       "    </div>\n",
       "  </div>\n",
       "  "
      ],
      "text/plain": [
       "          0         1         2         3         4         5         6   \\\n",
       "0  -0.598697 -0.209929 -0.155694 -0.082037  0.179362  1.211836 -0.164559   \n",
       "1  -0.933582  1.680815  0.295408 -0.097988 -0.146398 -0.221618  0.114327   \n",
       "2  -0.845855  1.355132  0.235484 -0.096619 -0.120025 -0.143593  0.121869   \n",
       "3  -0.768734  1.031981  0.175309 -0.100804 -0.094738 -0.051568  0.145027   \n",
       "4   0.294313 -0.032325 -0.190101  0.327646  0.285586 -0.030310  0.056947   \n",
       "..       ...       ...       ...       ...       ...       ...       ...   \n",
       "95 -0.560769 -0.180514 -0.128902 -0.067677  0.141260  0.927440 -0.117541   \n",
       "96  0.766007 -0.003036  0.264052 -0.626351  1.224207 -0.173744  0.716786   \n",
       "97  1.008608  0.037056 -0.000122  0.104434 -0.931132  0.169905  0.284280   \n",
       "98 -0.933582  1.680815  0.295408 -0.097988 -0.146398 -0.221618  0.114327   \n",
       "99  1.104348  0.053984  0.443300 -0.871242  0.457982 -0.084239 -0.173592   \n",
       "\n",
       "          7         8         9         10        11        12        13  \\\n",
       "0  -0.548148 -0.009015 -0.158125 -0.084668 -0.086845  0.017540  0.023937   \n",
       "1  -0.171896  0.008284 -0.068007 -0.061279 -0.078881  0.002864 -0.041228   \n",
       "2  -0.087719  0.018885  0.009020 -0.084457  0.104301  0.037112  0.140155   \n",
       "3   0.035604  0.041615  0.165166 -0.161186  0.579347  0.136012  0.657695   \n",
       "4   0.294278 -0.854517 -0.124849 -0.462958  0.306425 -0.548273 -0.416709   \n",
       "..       ...       ...       ...       ...       ...       ...       ...   \n",
       "95 -0.318620 -0.004419 -0.060774 -0.024250 -0.018090  0.003031  0.003525   \n",
       "96 -0.096816 -0.013174 -0.089537  0.186626 -0.191131  0.151409 -0.041997   \n",
       "97 -0.004277 -0.019500  0.193703 -0.472681 -0.311897  0.329312 -0.304318   \n",
       "98 -0.171896  0.008284 -0.068007 -0.061279 -0.078881  0.002864 -0.041228   \n",
       "99 -0.080031  0.237924  0.160278 -0.265260 -0.055817  0.015205 -0.114488   \n",
       "\n",
       "          14        15        16        17  \n",
       "0  -0.048585  0.013005  0.003515 -0.011364  \n",
       "1  -0.031908  0.229594  0.002916 -0.197717  \n",
       "2  -0.022853 -0.100656  0.001122  0.037294  \n",
       "3  -0.008418 -1.139805 -0.003967  0.814849  \n",
       "4  -0.355664 -0.782229  0.019976 -0.628662  \n",
       "..       ...       ...       ...       ...  \n",
       "95 -0.006140  0.000021 -0.000172  0.000688  \n",
       "96  0.073805 -0.002256 -0.002143  0.133114  \n",
       "97  0.233926 -0.013134 -0.006711  0.321313  \n",
       "98 -0.031908  0.229594  0.002916 -0.197717  \n",
       "99  0.069761 -0.005048 -0.000722 -0.021553  \n",
       "\n",
       "[100 rows x 18 columns]"
      ]
     },
     "execution_count": 88,
     "metadata": {},
     "output_type": "execute_result"
    }
   ],
   "source": [
    "pca_df = pd.DataFrame(pca.transform(dff))\n",
    "pca_df"
   ]
  },
  {
   "cell_type": "code",
   "execution_count": null,
   "metadata": {
    "id": "bNgTX_Z7BnJQ"
   },
   "outputs": [],
   "source": []
  },
  {
   "cell_type": "code",
   "execution_count": null,
   "metadata": {
    "colab": {
     "base_uri": "https://localhost:8080/",
     "height": 424
    },
    "id": "iC45fGmeJiKJ",
    "outputId": "daad8b39-194d-4836-8c36-5a6b2bebd152"
   },
   "outputs": [
    {
     "data": {
      "text/html": [
       "\n",
       "  <div id=\"df-505b2bff-1ef3-4d8b-959f-d276883cae20\">\n",
       "    <div class=\"colab-df-container\">\n",
       "      <div>\n",
       "<style scoped>\n",
       "    .dataframe tbody tr th:only-of-type {\n",
       "        vertical-align: middle;\n",
       "    }\n",
       "\n",
       "    .dataframe tbody tr th {\n",
       "        vertical-align: top;\n",
       "    }\n",
       "\n",
       "    .dataframe thead th {\n",
       "        text-align: right;\n",
       "    }\n",
       "</style>\n",
       "<table border=\"1\" class=\"dataframe\">\n",
       "  <thead>\n",
       "    <tr style=\"text-align: right;\">\n",
       "      <th></th>\n",
       "      <th>product_name</th>\n",
       "      <th>brand_name</th>\n",
       "      <th>businessunit</th>\n",
       "      <th>Level1_Category_Name</th>\n",
       "      <th>Level2_Category_Name</th>\n",
       "      <th>Level3_Category_Name</th>\n",
       "    </tr>\n",
       "  </thead>\n",
       "  <tbody>\n",
       "    <tr>\n",
       "      <th>0</th>\n",
       "      <td>PerfectCare 600 EW6F449ST A+++ 9 KG 1400 Devir...</td>\n",
       "      <td>Electrolux</td>\n",
       "      <td>Beyaz Eşya</td>\n",
       "      <td>Elektronik</td>\n",
       "      <td>Beyaz Eşya</td>\n",
       "      <td>Çamaşır Makinesi</td>\n",
       "    </tr>\n",
       "    <tr>\n",
       "      <th>1</th>\n",
       "      <td>WW90J5475FW A+++ 1400 Devir 9 kg Çamaşır Makinesi</td>\n",
       "      <td>Samsung</td>\n",
       "      <td>Beyaz Eşya</td>\n",
       "      <td>Elektronik</td>\n",
       "      <td>Beyaz Eşya</td>\n",
       "      <td>Çamaşır Makinesi</td>\n",
       "    </tr>\n",
       "    <tr>\n",
       "      <th>2</th>\n",
       "      <td>KM 9711 A++ 9 kg Çamaşır Kurutma Makinesi</td>\n",
       "      <td>Vestel</td>\n",
       "      <td>Beyaz Eşya</td>\n",
       "      <td>Elektronik</td>\n",
       "      <td>Beyaz Eşya</td>\n",
       "      <td>Kurutma Makinesi</td>\n",
       "    </tr>\n",
       "    <tr>\n",
       "      <th>3</th>\n",
       "      <td>CMI 9710 A+++ 1000 Devir 9 kg Çamaşır Makinesi</td>\n",
       "      <td>Vestel</td>\n",
       "      <td>Beyaz Eşya</td>\n",
       "      <td>Elektronik</td>\n",
       "      <td>Beyaz Eşya</td>\n",
       "      <td>Çamaşır Makinesi</td>\n",
       "    </tr>\n",
       "    <tr>\n",
       "      <th>4</th>\n",
       "      <td>PerfectCare 600 EW6F449ST A+++ 9 KG 1400 Devir...</td>\n",
       "      <td>Electrolux</td>\n",
       "      <td>Beyaz Eşya</td>\n",
       "      <td>Elektronik</td>\n",
       "      <td>Beyaz Eşya</td>\n",
       "      <td>Çamaşır Makinesi</td>\n",
       "    </tr>\n",
       "    <tr>\n",
       "      <th>...</th>\n",
       "      <td>...</td>\n",
       "      <td>...</td>\n",
       "      <td>...</td>\n",
       "      <td>...</td>\n",
       "      <td>...</td>\n",
       "      <td>...</td>\n",
       "    </tr>\n",
       "    <tr>\n",
       "      <th>5493263</th>\n",
       "      <td>Turbo Profesyonel Saç Kurutma Makinesi</td>\n",
       "      <td>Powertec</td>\n",
       "      <td>Kişisel Bakım Aletleri</td>\n",
       "      <td>Elektronik</td>\n",
       "      <td>Kişisel Bakım Aletleri</td>\n",
       "      <td>Saç Kurutma Makinesi</td>\n",
       "    </tr>\n",
       "    <tr>\n",
       "      <th>5493264</th>\n",
       "      <td>Erkek Gri Kot Pantolon</td>\n",
       "      <td>ukdwear</td>\n",
       "      <td>Erkek B</td>\n",
       "      <td>Giyim</td>\n",
       "      <td>Alt Giyim</td>\n",
       "      <td>Jeans</td>\n",
       "    </tr>\n",
       "    <tr>\n",
       "      <th>5493265</th>\n",
       "      <td>Hd 6480 2200 Watt Difüzör Başlıklı İyonik Saç ...</td>\n",
       "      <td>Grundig</td>\n",
       "      <td>Kişisel Bakım Aletleri</td>\n",
       "      <td>Elektronik</td>\n",
       "      <td>Kişisel Bakım Aletleri</td>\n",
       "      <td>Saç Kurutma Makinesi</td>\n",
       "    </tr>\n",
       "    <tr>\n",
       "      <th>5493266</th>\n",
       "      <td>Siyah Siyah Erkek Sneaker</td>\n",
       "      <td>Riccon</td>\n",
       "      <td>Branded Shoes B</td>\n",
       "      <td>Ayakkabı</td>\n",
       "      <td>Spor Ayakkabı</td>\n",
       "      <td>Sneaker</td>\n",
       "    </tr>\n",
       "    <tr>\n",
       "      <th>5493267</th>\n",
       "      <td>Siyah Siyah Erkek Sneaker</td>\n",
       "      <td>Riccon</td>\n",
       "      <td>Branded Shoes B</td>\n",
       "      <td>Ayakkabı</td>\n",
       "      <td>Spor Ayakkabı</td>\n",
       "      <td>Sneaker</td>\n",
       "    </tr>\n",
       "  </tbody>\n",
       "</table>\n",
       "<p>5493268 rows × 6 columns</p>\n",
       "</div>\n",
       "      <button class=\"colab-df-convert\" onclick=\"convertToInteractive('df-505b2bff-1ef3-4d8b-959f-d276883cae20')\"\n",
       "              title=\"Convert this dataframe to an interactive table.\"\n",
       "              style=\"display:none;\">\n",
       "        \n",
       "  <svg xmlns=\"http://www.w3.org/2000/svg\" height=\"24px\"viewBox=\"0 0 24 24\"\n",
       "       width=\"24px\">\n",
       "    <path d=\"M0 0h24v24H0V0z\" fill=\"none\"/>\n",
       "    <path d=\"M18.56 5.44l.94 2.06.94-2.06 2.06-.94-2.06-.94-.94-2.06-.94 2.06-2.06.94zm-11 1L8.5 8.5l.94-2.06 2.06-.94-2.06-.94L8.5 2.5l-.94 2.06-2.06.94zm10 10l.94 2.06.94-2.06 2.06-.94-2.06-.94-.94-2.06-.94 2.06-2.06.94z\"/><path d=\"M17.41 7.96l-1.37-1.37c-.4-.4-.92-.59-1.43-.59-.52 0-1.04.2-1.43.59L10.3 9.45l-7.72 7.72c-.78.78-.78 2.05 0 2.83L4 21.41c.39.39.9.59 1.41.59.51 0 1.02-.2 1.41-.59l7.78-7.78 2.81-2.81c.8-.78.8-2.07 0-2.86zM5.41 20L4 18.59l7.72-7.72 1.47 1.35L5.41 20z\"/>\n",
       "  </svg>\n",
       "      </button>\n",
       "      \n",
       "  <style>\n",
       "    .colab-df-container {\n",
       "      display:flex;\n",
       "      flex-wrap:wrap;\n",
       "      gap: 12px;\n",
       "    }\n",
       "\n",
       "    .colab-df-convert {\n",
       "      background-color: #E8F0FE;\n",
       "      border: none;\n",
       "      border-radius: 50%;\n",
       "      cursor: pointer;\n",
       "      display: none;\n",
       "      fill: #1967D2;\n",
       "      height: 32px;\n",
       "      padding: 0 0 0 0;\n",
       "      width: 32px;\n",
       "    }\n",
       "\n",
       "    .colab-df-convert:hover {\n",
       "      background-color: #E2EBFA;\n",
       "      box-shadow: 0px 1px 2px rgba(60, 64, 67, 0.3), 0px 1px 3px 1px rgba(60, 64, 67, 0.15);\n",
       "      fill: #174EA6;\n",
       "    }\n",
       "\n",
       "    [theme=dark] .colab-df-convert {\n",
       "      background-color: #3B4455;\n",
       "      fill: #D2E3FC;\n",
       "    }\n",
       "\n",
       "    [theme=dark] .colab-df-convert:hover {\n",
       "      background-color: #434B5C;\n",
       "      box-shadow: 0px 1px 3px 1px rgba(0, 0, 0, 0.15);\n",
       "      filter: drop-shadow(0px 1px 2px rgba(0, 0, 0, 0.3));\n",
       "      fill: #FFFFFF;\n",
       "    }\n",
       "  </style>\n",
       "\n",
       "      <script>\n",
       "        const buttonEl =\n",
       "          document.querySelector('#df-505b2bff-1ef3-4d8b-959f-d276883cae20 button.colab-df-convert');\n",
       "        buttonEl.style.display =\n",
       "          google.colab.kernel.accessAllowed ? 'block' : 'none';\n",
       "\n",
       "        async function convertToInteractive(key) {\n",
       "          const element = document.querySelector('#df-505b2bff-1ef3-4d8b-959f-d276883cae20');\n",
       "          const dataTable =\n",
       "            await google.colab.kernel.invokeFunction('convertToInteractive',\n",
       "                                                     [key], {});\n",
       "          if (!dataTable) return;\n",
       "\n",
       "          const docLinkHtml = 'Like what you see? Visit the ' +\n",
       "            '<a target=\"_blank\" href=https://colab.research.google.com/notebooks/data_table.ipynb>data table notebook</a>'\n",
       "            + ' to learn more about interactive tables.';\n",
       "          element.innerHTML = '';\n",
       "          dataTable['output_type'] = 'display_data';\n",
       "          await google.colab.output.renderOutput(dataTable, element);\n",
       "          const docLink = document.createElement('div');\n",
       "          docLink.innerHTML = docLinkHtml;\n",
       "          element.appendChild(docLink);\n",
       "        }\n",
       "      </script>\n",
       "    </div>\n",
       "  </div>\n",
       "  "
      ],
      "text/plain": [
       "                                              product_name  ...  Level3_Category_Name\n",
       "0        PerfectCare 600 EW6F449ST A+++ 9 KG 1400 Devir...  ...      Çamaşır Makinesi\n",
       "1        WW90J5475FW A+++ 1400 Devir 9 kg Çamaşır Makinesi  ...      Çamaşır Makinesi\n",
       "2                KM 9711 A++ 9 kg Çamaşır Kurutma Makinesi  ...      Kurutma Makinesi\n",
       "3           CMI 9710 A+++ 1000 Devir 9 kg Çamaşır Makinesi  ...      Çamaşır Makinesi\n",
       "4        PerfectCare 600 EW6F449ST A+++ 9 KG 1400 Devir...  ...      Çamaşır Makinesi\n",
       "...                                                    ...  ...                   ...\n",
       "5493263             Turbo Profesyonel Saç Kurutma Makinesi  ...  Saç Kurutma Makinesi\n",
       "5493264                             Erkek Gri Kot Pantolon  ...                 Jeans\n",
       "5493265  Hd 6480 2200 Watt Difüzör Başlıklı İyonik Saç ...  ...  Saç Kurutma Makinesi\n",
       "5493266                          Siyah Siyah Erkek Sneaker  ...               Sneaker\n",
       "5493267                          Siyah Siyah Erkek Sneaker  ...               Sneaker\n",
       "\n",
       "[5493268 rows x 6 columns]"
      ]
     },
     "execution_count": 4,
     "metadata": {},
     "output_type": "execute_result"
    }
   ],
   "source": [
    "df = df.iloc[:,1:]\n",
    "df_y = df['gender']\n",
    "df_user_gender = df[['sellingprice','user_action','product_gender']]\n",
    "df.drop(['sellingprice','contentid','brand_id','category_id','Level1_Category_Id','Level2_Category_Id','Level3_Category_Id','unique_id','type','gender','user_action','product_gender'], axis = 1,inplace =x True)\n",
    "df"
   ]
  },
  {
   "cell_type": "code",
   "execution_count": null,
   "metadata": {
    "id": "DTxZC8s_LHyq"
   },
   "outputs": [],
   "source": [
    "df = pd.get_dummies(df.iloc[:1000000])"
   ]
  },
  {
   "cell_type": "code",
   "execution_count": null,
   "metadata": {
    "id": "zThQt_1sLO7w"
   },
   "outputs": [],
   "source": []
  },
  {
   "cell_type": "markdown",
   "metadata": {
    "id": "2bFG_ary9NQ0"
   },
   "source": [
    "# deneme"
   ]
  },
  {
   "cell_type": "code",
   "execution_count": null,
   "metadata": {
    "id": "ZwdxR7jeT5dM"
   },
   "outputs": [],
   "source": [
    "# numpy and pandas for data manipulation\n",
    "import numpy as np\n",
    "import pandas as pd \n",
    "\n",
    "# sklearn preprocessing for dealing with categorical variables\n",
    "from sklearn.preprocessing import LabelEncoder\n",
    "\n",
    "# File system manangement\n",
    "import os\n",
    "\n",
    "# Suppress warnings \n",
    "import warnings\n",
    "warnings.filterwarnings('ignore')\n",
    "\n",
    "# matplotlib and seaborn for plotting\n",
    "import matplotlib.pyplot as plt\n",
    "import seaborn as sns"
   ]
  },
  {
   "cell_type": "code",
   "execution_count": null,
   "metadata": {
    "colab": {
     "base_uri": "https://localhost:8080/"
    },
    "id": "cul00payGaml",
    "outputId": "abbed44e-244e-4349-f15e-c98ad5e31444"
   },
   "outputs": [
    {
     "name": "stdout",
     "output_type": "stream",
     "text": [
      "Mounted at /content/drive\n"
     ]
    }
   ],
   "source": [
    "from google.colab import drive\n",
    "drive.mount('/content/drive')"
   ]
  },
  {
   "cell_type": "code",
   "execution_count": null,
   "metadata": {
    "id": "bdPd6hWJEvYz"
   },
   "outputs": [],
   "source": [
    "data = pd.read_csv('/content/drive/MyDrive/IE582-PROJECT/IE582_Fall21_train_data/train.csv')\n",
    "test=pd.read_csv('/content/drive/MyDrive/IE582-PROJECT/IE582_Fall21_test_data/test.csv')\n",
    "test_id=pd.read_csv('/content/drive/MyDrive/IE582-PROJECT/IE582_Fall21_test_data/test_ids_in_prediction (3).csv')\n",
    "df = data.copy()\n",
    "df.dropna(inplace=True) \n",
    "df['gender'] = df['gender'].replace('F', 1)\n",
    "df['gender'] = df['gender'].replace('M', 0)"
   ]
  },
  {
   "cell_type": "code",
   "execution_count": null,
   "metadata": {
    "colab": {
     "base_uri": "https://localhost:8080/",
     "height": 424
    },
    "id": "TemMqglEcXky",
    "outputId": "8b62cbcf-2a3e-44ba-8185-ce483766534e"
   },
   "outputs": [
    {
     "data": {
      "text/html": [
       "\n",
       "  <div id=\"df-ae55cc45-fc51-4216-8ccc-190d5079aabb\">\n",
       "    <div class=\"colab-df-container\">\n",
       "      <div>\n",
       "<style scoped>\n",
       "    .dataframe tbody tr th:only-of-type {\n",
       "        vertical-align: middle;\n",
       "    }\n",
       "\n",
       "    .dataframe tbody tr th {\n",
       "        vertical-align: top;\n",
       "    }\n",
       "\n",
       "    .dataframe thead th {\n",
       "        text-align: right;\n",
       "    }\n",
       "</style>\n",
       "<table border=\"1\" class=\"dataframe\">\n",
       "  <thead>\n",
       "    <tr style=\"text-align: right;\">\n",
       "      <th></th>\n",
       "      <th>unique_id</th>\n",
       "    </tr>\n",
       "  </thead>\n",
       "  <tbody>\n",
       "    <tr>\n",
       "      <th>0</th>\n",
       "      <td>9</td>\n",
       "    </tr>\n",
       "    <tr>\n",
       "      <th>1</th>\n",
       "      <td>18</td>\n",
       "    </tr>\n",
       "    <tr>\n",
       "      <th>2</th>\n",
       "      <td>21</td>\n",
       "    </tr>\n",
       "    <tr>\n",
       "      <th>3</th>\n",
       "      <td>25</td>\n",
       "    </tr>\n",
       "    <tr>\n",
       "      <th>4</th>\n",
       "      <td>31</td>\n",
       "    </tr>\n",
       "    <tr>\n",
       "      <th>...</th>\n",
       "      <td>...</td>\n",
       "    </tr>\n",
       "    <tr>\n",
       "      <th>2375</th>\n",
       "      <td>7982</td>\n",
       "    </tr>\n",
       "    <tr>\n",
       "      <th>2376</th>\n",
       "      <td>7990</td>\n",
       "    </tr>\n",
       "    <tr>\n",
       "      <th>2377</th>\n",
       "      <td>7993</td>\n",
       "    </tr>\n",
       "    <tr>\n",
       "      <th>2378</th>\n",
       "      <td>7994</td>\n",
       "    </tr>\n",
       "    <tr>\n",
       "      <th>2379</th>\n",
       "      <td>7998</td>\n",
       "    </tr>\n",
       "  </tbody>\n",
       "</table>\n",
       "<p>2380 rows × 1 columns</p>\n",
       "</div>\n",
       "      <button class=\"colab-df-convert\" onclick=\"convertToInteractive('df-ae55cc45-fc51-4216-8ccc-190d5079aabb')\"\n",
       "              title=\"Convert this dataframe to an interactive table.\"\n",
       "              style=\"display:none;\">\n",
       "        \n",
       "  <svg xmlns=\"http://www.w3.org/2000/svg\" height=\"24px\"viewBox=\"0 0 24 24\"\n",
       "       width=\"24px\">\n",
       "    <path d=\"M0 0h24v24H0V0z\" fill=\"none\"/>\n",
       "    <path d=\"M18.56 5.44l.94 2.06.94-2.06 2.06-.94-2.06-.94-.94-2.06-.94 2.06-2.06.94zm-11 1L8.5 8.5l.94-2.06 2.06-.94-2.06-.94L8.5 2.5l-.94 2.06-2.06.94zm10 10l.94 2.06.94-2.06 2.06-.94-2.06-.94-.94-2.06-.94 2.06-2.06.94z\"/><path d=\"M17.41 7.96l-1.37-1.37c-.4-.4-.92-.59-1.43-.59-.52 0-1.04.2-1.43.59L10.3 9.45l-7.72 7.72c-.78.78-.78 2.05 0 2.83L4 21.41c.39.39.9.59 1.41.59.51 0 1.02-.2 1.41-.59l7.78-7.78 2.81-2.81c.8-.78.8-2.07 0-2.86zM5.41 20L4 18.59l7.72-7.72 1.47 1.35L5.41 20z\"/>\n",
       "  </svg>\n",
       "      </button>\n",
       "      \n",
       "  <style>\n",
       "    .colab-df-container {\n",
       "      display:flex;\n",
       "      flex-wrap:wrap;\n",
       "      gap: 12px;\n",
       "    }\n",
       "\n",
       "    .colab-df-convert {\n",
       "      background-color: #E8F0FE;\n",
       "      border: none;\n",
       "      border-radius: 50%;\n",
       "      cursor: pointer;\n",
       "      display: none;\n",
       "      fill: #1967D2;\n",
       "      height: 32px;\n",
       "      padding: 0 0 0 0;\n",
       "      width: 32px;\n",
       "    }\n",
       "\n",
       "    .colab-df-convert:hover {\n",
       "      background-color: #E2EBFA;\n",
       "      box-shadow: 0px 1px 2px rgba(60, 64, 67, 0.3), 0px 1px 3px 1px rgba(60, 64, 67, 0.15);\n",
       "      fill: #174EA6;\n",
       "    }\n",
       "\n",
       "    [theme=dark] .colab-df-convert {\n",
       "      background-color: #3B4455;\n",
       "      fill: #D2E3FC;\n",
       "    }\n",
       "\n",
       "    [theme=dark] .colab-df-convert:hover {\n",
       "      background-color: #434B5C;\n",
       "      box-shadow: 0px 1px 3px 1px rgba(0, 0, 0, 0.15);\n",
       "      filter: drop-shadow(0px 1px 2px rgba(0, 0, 0, 0.3));\n",
       "      fill: #FFFFFF;\n",
       "    }\n",
       "  </style>\n",
       "\n",
       "      <script>\n",
       "        const buttonEl =\n",
       "          document.querySelector('#df-ae55cc45-fc51-4216-8ccc-190d5079aabb button.colab-df-convert');\n",
       "        buttonEl.style.display =\n",
       "          google.colab.kernel.accessAllowed ? 'block' : 'none';\n",
       "\n",
       "        async function convertToInteractive(key) {\n",
       "          const element = document.querySelector('#df-ae55cc45-fc51-4216-8ccc-190d5079aabb');\n",
       "          const dataTable =\n",
       "            await google.colab.kernel.invokeFunction('convertToInteractive',\n",
       "                                                     [key], {});\n",
       "          if (!dataTable) return;\n",
       "\n",
       "          const docLinkHtml = 'Like what you see? Visit the ' +\n",
       "            '<a target=\"_blank\" href=https://colab.research.google.com/notebooks/data_table.ipynb>data table notebook</a>'\n",
       "            + ' to learn more about interactive tables.';\n",
       "          element.innerHTML = '';\n",
       "          dataTable['output_type'] = 'display_data';\n",
       "          await google.colab.output.renderOutput(dataTable, element);\n",
       "          const docLink = document.createElement('div');\n",
       "          docLink.innerHTML = docLinkHtml;\n",
       "          element.appendChild(docLink);\n",
       "        }\n",
       "      </script>\n",
       "    </div>\n",
       "  </div>\n",
       "  "
      ],
      "text/plain": [
       "      unique_id\n",
       "0             9\n",
       "1            18\n",
       "2            21\n",
       "3            25\n",
       "4            31\n",
       "...         ...\n",
       "2375       7982\n",
       "2376       7990\n",
       "2377       7993\n",
       "2378       7994\n",
       "2379       7998\n",
       "\n",
       "[2380 rows x 1 columns]"
      ]
     },
     "execution_count": 5,
     "metadata": {},
     "output_type": "execute_result"
    }
   ],
   "source": [
    "test_id"
   ]
  },
  {
   "cell_type": "code",
   "execution_count": null,
   "metadata": {
    "colab": {
     "base_uri": "https://localhost:8080/",
     "height": 70
    },
    "id": "-gx9D9JY9QFI",
    "outputId": "1a021441-16a6-4fcb-ccf4-be04a08d7633"
   },
   "outputs": [
    {
     "data": {
      "application/vnd.google.colaboratory.intrinsic+json": {
       "type": "string"
      },
      "text/plain": [
       "\"df.drop(['sellingprice','contentid','brand_id','category_id','Level1_Category_Id','Level2_Category_Id',\\n          'Level3_Category_Id','unique_id','type','user_action','product_gender'], axis = 1,inplace = True)\""
      ]
     },
     "execution_count": 6,
     "metadata": {},
     "output_type": "execute_result"
    }
   ],
   "source": [
    "df_y = df['gender']\n",
    "df_user_gender = df[['sellingprice','user_action','product_gender','gender']]"
   ]
  },
  {
   "cell_type": "code",
   "execution_count": null,
   "metadata": {
    "colab": {
     "base_uri": "https://localhost:8080/",
     "height": 488
    },
    "id": "h-_EMbcA9X-M",
    "outputId": "76f1b960-debd-4274-edda-d0b439f5fe1f"
   },
   "outputs": [
    {
     "data": {
      "text/html": [
       "\n",
       "  <div id=\"df-e0989147-bdaf-47df-8c23-10fffc1bf6fb\">\n",
       "    <div class=\"colab-df-container\">\n",
       "      <div>\n",
       "<style scoped>\n",
       "    .dataframe tbody tr th:only-of-type {\n",
       "        vertical-align: middle;\n",
       "    }\n",
       "\n",
       "    .dataframe tbody tr th {\n",
       "        vertical-align: top;\n",
       "    }\n",
       "\n",
       "    .dataframe thead th {\n",
       "        text-align: right;\n",
       "    }\n",
       "</style>\n",
       "<table border=\"1\" class=\"dataframe\">\n",
       "  <thead>\n",
       "    <tr style=\"text-align: right;\">\n",
       "      <th></th>\n",
       "      <th>sellingprice</th>\n",
       "      <th>gender</th>\n",
       "      <th>user_action_basket</th>\n",
       "      <th>user_action_favorite</th>\n",
       "      <th>user_action_order</th>\n",
       "      <th>user_action_search</th>\n",
       "      <th>user_action_visit</th>\n",
       "      <th>product_gender_Erkek</th>\n",
       "      <th>product_gender_Kadın</th>\n",
       "      <th>product_gender_Unisex</th>\n",
       "    </tr>\n",
       "  </thead>\n",
       "  <tbody>\n",
       "    <tr>\n",
       "      <th>0</th>\n",
       "      <td>3099.00</td>\n",
       "      <td>1</td>\n",
       "      <td>0</td>\n",
       "      <td>1</td>\n",
       "      <td>0</td>\n",
       "      <td>0</td>\n",
       "      <td>0</td>\n",
       "      <td>0</td>\n",
       "      <td>0</td>\n",
       "      <td>1</td>\n",
       "    </tr>\n",
       "    <tr>\n",
       "      <th>2</th>\n",
       "      <td>3999.00</td>\n",
       "      <td>1</td>\n",
       "      <td>0</td>\n",
       "      <td>1</td>\n",
       "      <td>0</td>\n",
       "      <td>0</td>\n",
       "      <td>0</td>\n",
       "      <td>0</td>\n",
       "      <td>0</td>\n",
       "      <td>1</td>\n",
       "    </tr>\n",
       "    <tr>\n",
       "      <th>4</th>\n",
       "      <td>3099.00</td>\n",
       "      <td>1</td>\n",
       "      <td>0</td>\n",
       "      <td>0</td>\n",
       "      <td>0</td>\n",
       "      <td>0</td>\n",
       "      <td>1</td>\n",
       "      <td>0</td>\n",
       "      <td>0</td>\n",
       "      <td>1</td>\n",
       "    </tr>\n",
       "    <tr>\n",
       "      <th>5</th>\n",
       "      <td>266.65</td>\n",
       "      <td>1</td>\n",
       "      <td>0</td>\n",
       "      <td>0</td>\n",
       "      <td>0</td>\n",
       "      <td>0</td>\n",
       "      <td>1</td>\n",
       "      <td>0</td>\n",
       "      <td>1</td>\n",
       "      <td>0</td>\n",
       "    </tr>\n",
       "    <tr>\n",
       "      <th>6</th>\n",
       "      <td>0.00</td>\n",
       "      <td>1</td>\n",
       "      <td>0</td>\n",
       "      <td>0</td>\n",
       "      <td>0</td>\n",
       "      <td>0</td>\n",
       "      <td>1</td>\n",
       "      <td>0</td>\n",
       "      <td>1</td>\n",
       "      <td>0</td>\n",
       "    </tr>\n",
       "    <tr>\n",
       "      <th>...</th>\n",
       "      <td>...</td>\n",
       "      <td>...</td>\n",
       "      <td>...</td>\n",
       "      <td>...</td>\n",
       "      <td>...</td>\n",
       "      <td>...</td>\n",
       "      <td>...</td>\n",
       "      <td>...</td>\n",
       "      <td>...</td>\n",
       "      <td>...</td>\n",
       "    </tr>\n",
       "    <tr>\n",
       "      <th>5493263</th>\n",
       "      <td>89.50</td>\n",
       "      <td>0</td>\n",
       "      <td>0</td>\n",
       "      <td>0</td>\n",
       "      <td>0</td>\n",
       "      <td>1</td>\n",
       "      <td>0</td>\n",
       "      <td>0</td>\n",
       "      <td>0</td>\n",
       "      <td>1</td>\n",
       "    </tr>\n",
       "    <tr>\n",
       "      <th>5493264</th>\n",
       "      <td>99.99</td>\n",
       "      <td>0</td>\n",
       "      <td>0</td>\n",
       "      <td>0</td>\n",
       "      <td>0</td>\n",
       "      <td>1</td>\n",
       "      <td>0</td>\n",
       "      <td>1</td>\n",
       "      <td>0</td>\n",
       "      <td>0</td>\n",
       "    </tr>\n",
       "    <tr>\n",
       "      <th>5493265</th>\n",
       "      <td>169.00</td>\n",
       "      <td>0</td>\n",
       "      <td>0</td>\n",
       "      <td>0</td>\n",
       "      <td>0</td>\n",
       "      <td>1</td>\n",
       "      <td>0</td>\n",
       "      <td>0</td>\n",
       "      <td>0</td>\n",
       "      <td>1</td>\n",
       "    </tr>\n",
       "    <tr>\n",
       "      <th>5493266</th>\n",
       "      <td>248.48</td>\n",
       "      <td>0</td>\n",
       "      <td>0</td>\n",
       "      <td>1</td>\n",
       "      <td>0</td>\n",
       "      <td>0</td>\n",
       "      <td>0</td>\n",
       "      <td>1</td>\n",
       "      <td>0</td>\n",
       "      <td>0</td>\n",
       "    </tr>\n",
       "    <tr>\n",
       "      <th>5493267</th>\n",
       "      <td>248.48</td>\n",
       "      <td>0</td>\n",
       "      <td>0</td>\n",
       "      <td>0</td>\n",
       "      <td>0</td>\n",
       "      <td>0</td>\n",
       "      <td>1</td>\n",
       "      <td>1</td>\n",
       "      <td>0</td>\n",
       "      <td>0</td>\n",
       "    </tr>\n",
       "  </tbody>\n",
       "</table>\n",
       "<p>4789628 rows × 10 columns</p>\n",
       "</div>\n",
       "      <button class=\"colab-df-convert\" onclick=\"convertToInteractive('df-e0989147-bdaf-47df-8c23-10fffc1bf6fb')\"\n",
       "              title=\"Convert this dataframe to an interactive table.\"\n",
       "              style=\"display:none;\">\n",
       "        \n",
       "  <svg xmlns=\"http://www.w3.org/2000/svg\" height=\"24px\"viewBox=\"0 0 24 24\"\n",
       "       width=\"24px\">\n",
       "    <path d=\"M0 0h24v24H0V0z\" fill=\"none\"/>\n",
       "    <path d=\"M18.56 5.44l.94 2.06.94-2.06 2.06-.94-2.06-.94-.94-2.06-.94 2.06-2.06.94zm-11 1L8.5 8.5l.94-2.06 2.06-.94-2.06-.94L8.5 2.5l-.94 2.06-2.06.94zm10 10l.94 2.06.94-2.06 2.06-.94-2.06-.94-.94-2.06-.94 2.06-2.06.94z\"/><path d=\"M17.41 7.96l-1.37-1.37c-.4-.4-.92-.59-1.43-.59-.52 0-1.04.2-1.43.59L10.3 9.45l-7.72 7.72c-.78.78-.78 2.05 0 2.83L4 21.41c.39.39.9.59 1.41.59.51 0 1.02-.2 1.41-.59l7.78-7.78 2.81-2.81c.8-.78.8-2.07 0-2.86zM5.41 20L4 18.59l7.72-7.72 1.47 1.35L5.41 20z\"/>\n",
       "  </svg>\n",
       "      </button>\n",
       "      \n",
       "  <style>\n",
       "    .colab-df-container {\n",
       "      display:flex;\n",
       "      flex-wrap:wrap;\n",
       "      gap: 12px;\n",
       "    }\n",
       "\n",
       "    .colab-df-convert {\n",
       "      background-color: #E8F0FE;\n",
       "      border: none;\n",
       "      border-radius: 50%;\n",
       "      cursor: pointer;\n",
       "      display: none;\n",
       "      fill: #1967D2;\n",
       "      height: 32px;\n",
       "      padding: 0 0 0 0;\n",
       "      width: 32px;\n",
       "    }\n",
       "\n",
       "    .colab-df-convert:hover {\n",
       "      background-color: #E2EBFA;\n",
       "      box-shadow: 0px 1px 2px rgba(60, 64, 67, 0.3), 0px 1px 3px 1px rgba(60, 64, 67, 0.15);\n",
       "      fill: #174EA6;\n",
       "    }\n",
       "\n",
       "    [theme=dark] .colab-df-convert {\n",
       "      background-color: #3B4455;\n",
       "      fill: #D2E3FC;\n",
       "    }\n",
       "\n",
       "    [theme=dark] .colab-df-convert:hover {\n",
       "      background-color: #434B5C;\n",
       "      box-shadow: 0px 1px 3px 1px rgba(0, 0, 0, 0.15);\n",
       "      filter: drop-shadow(0px 1px 2px rgba(0, 0, 0, 0.3));\n",
       "      fill: #FFFFFF;\n",
       "    }\n",
       "  </style>\n",
       "\n",
       "      <script>\n",
       "        const buttonEl =\n",
       "          document.querySelector('#df-e0989147-bdaf-47df-8c23-10fffc1bf6fb button.colab-df-convert');\n",
       "        buttonEl.style.display =\n",
       "          google.colab.kernel.accessAllowed ? 'block' : 'none';\n",
       "\n",
       "        async function convertToInteractive(key) {\n",
       "          const element = document.querySelector('#df-e0989147-bdaf-47df-8c23-10fffc1bf6fb');\n",
       "          const dataTable =\n",
       "            await google.colab.kernel.invokeFunction('convertToInteractive',\n",
       "                                                     [key], {});\n",
       "          if (!dataTable) return;\n",
       "\n",
       "          const docLinkHtml = 'Like what you see? Visit the ' +\n",
       "            '<a target=\"_blank\" href=https://colab.research.google.com/notebooks/data_table.ipynb>data table notebook</a>'\n",
       "            + ' to learn more about interactive tables.';\n",
       "          element.innerHTML = '';\n",
       "          dataTable['output_type'] = 'display_data';\n",
       "          await google.colab.output.renderOutput(dataTable, element);\n",
       "          const docLink = document.createElement('div');\n",
       "          docLink.innerHTML = docLinkHtml;\n",
       "          element.appendChild(docLink);\n",
       "        }\n",
       "      </script>\n",
       "    </div>\n",
       "  </div>\n",
       "  "
      ],
      "text/plain": [
       "         sellingprice  gender  ...  product_gender_Kadın  product_gender_Unisex\n",
       "0             3099.00       1  ...                     0                      1\n",
       "2             3999.00       1  ...                     0                      1\n",
       "4             3099.00       1  ...                     0                      1\n",
       "5              266.65       1  ...                     1                      0\n",
       "6                0.00       1  ...                     1                      0\n",
       "...               ...     ...  ...                   ...                    ...\n",
       "5493263         89.50       0  ...                     0                      1\n",
       "5493264         99.99       0  ...                     0                      0\n",
       "5493265        169.00       0  ...                     0                      1\n",
       "5493266        248.48       0  ...                     0                      0\n",
       "5493267        248.48       0  ...                     0                      0\n",
       "\n",
       "[4789628 rows x 10 columns]"
      ]
     },
     "execution_count": 7,
     "metadata": {},
     "output_type": "execute_result"
    }
   ],
   "source": [
    "df_user_gender = pd.get_dummies(df_user_gender)\n",
    "df_user_gender"
   ]
  },
  {
   "cell_type": "code",
   "execution_count": null,
   "metadata": {
    "colab": {
     "base_uri": "https://localhost:8080/",
     "height": 488
    },
    "id": "WjOF3tsj_osc",
    "outputId": "32118dce-3372-4249-f946-c6a0c1c386b6"
   },
   "outputs": [
    {
     "data": {
      "text/html": [
       "\n",
       "  <div id=\"df-15689483-1e40-40f7-b127-0105108098e4\">\n",
       "    <div class=\"colab-df-container\">\n",
       "      <div>\n",
       "<style scoped>\n",
       "    .dataframe tbody tr th:only-of-type {\n",
       "        vertical-align: middle;\n",
       "    }\n",
       "\n",
       "    .dataframe tbody tr th {\n",
       "        vertical-align: top;\n",
       "    }\n",
       "\n",
       "    .dataframe thead th {\n",
       "        text-align: right;\n",
       "    }\n",
       "</style>\n",
       "<table border=\"1\" class=\"dataframe\">\n",
       "  <thead>\n",
       "    <tr style=\"text-align: right;\">\n",
       "      <th></th>\n",
       "      <th>sellingprice</th>\n",
       "      <th>user_action_basket</th>\n",
       "      <th>user_action_favorite</th>\n",
       "      <th>user_action_order</th>\n",
       "      <th>user_action_search</th>\n",
       "      <th>user_action_visit</th>\n",
       "      <th>product_gender_Erkek</th>\n",
       "      <th>product_gender_Kadın</th>\n",
       "      <th>product_gender_Unisex</th>\n",
       "    </tr>\n",
       "  </thead>\n",
       "  <tbody>\n",
       "    <tr>\n",
       "      <th>0</th>\n",
       "      <td>3099.00</td>\n",
       "      <td>0</td>\n",
       "      <td>1</td>\n",
       "      <td>0</td>\n",
       "      <td>0</td>\n",
       "      <td>0</td>\n",
       "      <td>0</td>\n",
       "      <td>0</td>\n",
       "      <td>1</td>\n",
       "    </tr>\n",
       "    <tr>\n",
       "      <th>2</th>\n",
       "      <td>3999.00</td>\n",
       "      <td>0</td>\n",
       "      <td>1</td>\n",
       "      <td>0</td>\n",
       "      <td>0</td>\n",
       "      <td>0</td>\n",
       "      <td>0</td>\n",
       "      <td>0</td>\n",
       "      <td>1</td>\n",
       "    </tr>\n",
       "    <tr>\n",
       "      <th>4</th>\n",
       "      <td>3099.00</td>\n",
       "      <td>0</td>\n",
       "      <td>0</td>\n",
       "      <td>0</td>\n",
       "      <td>0</td>\n",
       "      <td>1</td>\n",
       "      <td>0</td>\n",
       "      <td>0</td>\n",
       "      <td>1</td>\n",
       "    </tr>\n",
       "    <tr>\n",
       "      <th>5</th>\n",
       "      <td>266.65</td>\n",
       "      <td>0</td>\n",
       "      <td>0</td>\n",
       "      <td>0</td>\n",
       "      <td>0</td>\n",
       "      <td>1</td>\n",
       "      <td>0</td>\n",
       "      <td>1</td>\n",
       "      <td>0</td>\n",
       "    </tr>\n",
       "    <tr>\n",
       "      <th>6</th>\n",
       "      <td>0.00</td>\n",
       "      <td>0</td>\n",
       "      <td>0</td>\n",
       "      <td>0</td>\n",
       "      <td>0</td>\n",
       "      <td>1</td>\n",
       "      <td>0</td>\n",
       "      <td>1</td>\n",
       "      <td>0</td>\n",
       "    </tr>\n",
       "    <tr>\n",
       "      <th>...</th>\n",
       "      <td>...</td>\n",
       "      <td>...</td>\n",
       "      <td>...</td>\n",
       "      <td>...</td>\n",
       "      <td>...</td>\n",
       "      <td>...</td>\n",
       "      <td>...</td>\n",
       "      <td>...</td>\n",
       "      <td>...</td>\n",
       "    </tr>\n",
       "    <tr>\n",
       "      <th>5493263</th>\n",
       "      <td>89.50</td>\n",
       "      <td>0</td>\n",
       "      <td>0</td>\n",
       "      <td>0</td>\n",
       "      <td>1</td>\n",
       "      <td>0</td>\n",
       "      <td>0</td>\n",
       "      <td>0</td>\n",
       "      <td>1</td>\n",
       "    </tr>\n",
       "    <tr>\n",
       "      <th>5493264</th>\n",
       "      <td>99.99</td>\n",
       "      <td>0</td>\n",
       "      <td>0</td>\n",
       "      <td>0</td>\n",
       "      <td>1</td>\n",
       "      <td>0</td>\n",
       "      <td>1</td>\n",
       "      <td>0</td>\n",
       "      <td>0</td>\n",
       "    </tr>\n",
       "    <tr>\n",
       "      <th>5493265</th>\n",
       "      <td>169.00</td>\n",
       "      <td>0</td>\n",
       "      <td>0</td>\n",
       "      <td>0</td>\n",
       "      <td>1</td>\n",
       "      <td>0</td>\n",
       "      <td>0</td>\n",
       "      <td>0</td>\n",
       "      <td>1</td>\n",
       "    </tr>\n",
       "    <tr>\n",
       "      <th>5493266</th>\n",
       "      <td>248.48</td>\n",
       "      <td>0</td>\n",
       "      <td>1</td>\n",
       "      <td>0</td>\n",
       "      <td>0</td>\n",
       "      <td>0</td>\n",
       "      <td>1</td>\n",
       "      <td>0</td>\n",
       "      <td>0</td>\n",
       "    </tr>\n",
       "    <tr>\n",
       "      <th>5493267</th>\n",
       "      <td>248.48</td>\n",
       "      <td>0</td>\n",
       "      <td>0</td>\n",
       "      <td>0</td>\n",
       "      <td>0</td>\n",
       "      <td>1</td>\n",
       "      <td>1</td>\n",
       "      <td>0</td>\n",
       "      <td>0</td>\n",
       "    </tr>\n",
       "  </tbody>\n",
       "</table>\n",
       "<p>4789628 rows × 9 columns</p>\n",
       "</div>\n",
       "      <button class=\"colab-df-convert\" onclick=\"convertToInteractive('df-15689483-1e40-40f7-b127-0105108098e4')\"\n",
       "              title=\"Convert this dataframe to an interactive table.\"\n",
       "              style=\"display:none;\">\n",
       "        \n",
       "  <svg xmlns=\"http://www.w3.org/2000/svg\" height=\"24px\"viewBox=\"0 0 24 24\"\n",
       "       width=\"24px\">\n",
       "    <path d=\"M0 0h24v24H0V0z\" fill=\"none\"/>\n",
       "    <path d=\"M18.56 5.44l.94 2.06.94-2.06 2.06-.94-2.06-.94-.94-2.06-.94 2.06-2.06.94zm-11 1L8.5 8.5l.94-2.06 2.06-.94-2.06-.94L8.5 2.5l-.94 2.06-2.06.94zm10 10l.94 2.06.94-2.06 2.06-.94-2.06-.94-.94-2.06-.94 2.06-2.06.94z\"/><path d=\"M17.41 7.96l-1.37-1.37c-.4-.4-.92-.59-1.43-.59-.52 0-1.04.2-1.43.59L10.3 9.45l-7.72 7.72c-.78.78-.78 2.05 0 2.83L4 21.41c.39.39.9.59 1.41.59.51 0 1.02-.2 1.41-.59l7.78-7.78 2.81-2.81c.8-.78.8-2.07 0-2.86zM5.41 20L4 18.59l7.72-7.72 1.47 1.35L5.41 20z\"/>\n",
       "  </svg>\n",
       "      </button>\n",
       "      \n",
       "  <style>\n",
       "    .colab-df-container {\n",
       "      display:flex;\n",
       "      flex-wrap:wrap;\n",
       "      gap: 12px;\n",
       "    }\n",
       "\n",
       "    .colab-df-convert {\n",
       "      background-color: #E8F0FE;\n",
       "      border: none;\n",
       "      border-radius: 50%;\n",
       "      cursor: pointer;\n",
       "      display: none;\n",
       "      fill: #1967D2;\n",
       "      height: 32px;\n",
       "      padding: 0 0 0 0;\n",
       "      width: 32px;\n",
       "    }\n",
       "\n",
       "    .colab-df-convert:hover {\n",
       "      background-color: #E2EBFA;\n",
       "      box-shadow: 0px 1px 2px rgba(60, 64, 67, 0.3), 0px 1px 3px 1px rgba(60, 64, 67, 0.15);\n",
       "      fill: #174EA6;\n",
       "    }\n",
       "\n",
       "    [theme=dark] .colab-df-convert {\n",
       "      background-color: #3B4455;\n",
       "      fill: #D2E3FC;\n",
       "    }\n",
       "\n",
       "    [theme=dark] .colab-df-convert:hover {\n",
       "      background-color: #434B5C;\n",
       "      box-shadow: 0px 1px 3px 1px rgba(0, 0, 0, 0.15);\n",
       "      filter: drop-shadow(0px 1px 2px rgba(0, 0, 0, 0.3));\n",
       "      fill: #FFFFFF;\n",
       "    }\n",
       "  </style>\n",
       "\n",
       "      <script>\n",
       "        const buttonEl =\n",
       "          document.querySelector('#df-15689483-1e40-40f7-b127-0105108098e4 button.colab-df-convert');\n",
       "        buttonEl.style.display =\n",
       "          google.colab.kernel.accessAllowed ? 'block' : 'none';\n",
       "\n",
       "        async function convertToInteractive(key) {\n",
       "          const element = document.querySelector('#df-15689483-1e40-40f7-b127-0105108098e4');\n",
       "          const dataTable =\n",
       "            await google.colab.kernel.invokeFunction('convertToInteractive',\n",
       "                                                     [key], {});\n",
       "          if (!dataTable) return;\n",
       "\n",
       "          const docLinkHtml = 'Like what you see? Visit the ' +\n",
       "            '<a target=\"_blank\" href=https://colab.research.google.com/notebooks/data_table.ipynb>data table notebook</a>'\n",
       "            + ' to learn more about interactive tables.';\n",
       "          element.innerHTML = '';\n",
       "          dataTable['output_type'] = 'display_data';\n",
       "          await google.colab.output.renderOutput(dataTable, element);\n",
       "          const docLink = document.createElement('div');\n",
       "          docLink.innerHTML = docLinkHtml;\n",
       "          element.appendChild(docLink);\n",
       "        }\n",
       "      </script>\n",
       "    </div>\n",
       "  </div>\n",
       "  "
      ],
      "text/plain": [
       "         sellingprice  ...  product_gender_Unisex\n",
       "0             3099.00  ...                      1\n",
       "2             3999.00  ...                      1\n",
       "4             3099.00  ...                      1\n",
       "5              266.65  ...                      0\n",
       "6                0.00  ...                      0\n",
       "...               ...  ...                    ...\n",
       "5493263         89.50  ...                      1\n",
       "5493264         99.99  ...                      0\n",
       "5493265        169.00  ...                      1\n",
       "5493266        248.48  ...                      0\n",
       "5493267        248.48  ...                      0\n",
       "\n",
       "[4789628 rows x 9 columns]"
      ]
     },
     "execution_count": 9,
     "metadata": {},
     "output_type": "execute_result"
    }
   ],
   "source": [
    "m =df_user_gender.copy()\n",
    "\n",
    "m_y = m['gender']\n",
    "m_x = m.drop(['gender'],axis= 1)\n",
    "m_x"
   ]
  },
  {
   "cell_type": "code",
   "execution_count": null,
   "metadata": {
    "id": "6XYZLQmA_gGL"
   },
   "outputs": [],
   "source": [
    "from sklearn.model_selection import train_test_split\n",
    "X_train, X_test, y_train, y_test = train_test_split(m_x, m_y, test_size = 0.25, random_state = 0)"
   ]
  },
  {
   "cell_type": "code",
   "execution_count": null,
   "metadata": {
    "id": "Mwv3wk2GAW4y"
   },
   "outputs": [],
   "source": [
    "from sklearn.ensemble import RandomForestClassifier\n",
    "classifier = RandomForestClassifier(n_estimators = 10, criterion = 'entropy', random_state = 0,class_weight = 'balanced')\n",
    "classifier.fit(X_train, y_train)\n"
   ]
  },
  {
   "cell_type": "code",
   "execution_count": null,
   "metadata": {
    "id": "Knvzc-51QzPo"
   },
   "outputs": [],
   "source": [
    "from sklearn.metrics import balanced_accuracy_score\n",
    "balanced_accuracy_score(y_test, y_pred)"
   ]
  },
  {
   "cell_type": "code",
   "execution_count": null,
   "metadata": {
    "id": "CwB52aYqWPyQ"
   },
   "outputs": [],
   "source": [
    "from sklearn.metrics import confusion_matrix\n",
    "tn, fp, fn, tp = confusion_matrix(y_test, y_pred).ravel()\n",
    "print(tn, fp, fn, tp)\n",
    "#49134 107286 23458 1017529"
   ]
  },
  {
   "cell_type": "code",
   "execution_count": null,
   "metadata": {
    "id": "EKD5I2gbRK8e"
   },
   "outputs": [],
   "source": [
    "from sklearn.metrics import roc_auc_score\n",
    "roc_auc_score(y_test, classifier.predict_proba(X_test)[:,1])\n",
    "\n",
    "#roc_auc_score(y_test, clf.decision_function(X_test))"
   ]
  },
  {
   "cell_type": "code",
   "execution_count": null,
   "metadata": {
    "id": "vzqDR-nJVZ90"
   },
   "outputs": [],
   "source": [
    "y_pred = (classifier.predict_proba(X_test)[:,1] >= 0.868).astype(bool)"
   ]
  },
  {
   "cell_type": "code",
   "execution_count": null,
   "metadata": {
    "id": "TwdJ2imsVsGM"
   },
   "outputs": [],
   "source": [
    "y_pred.mean()"
   ]
  },
  {
   "cell_type": "code",
   "execution_count": null,
   "metadata": {
    "id": "Gkd9dusyc1uZ"
   },
   "outputs": [],
   "source": []
  },
  {
   "cell_type": "code",
   "execution_count": null,
   "metadata": {
    "id": "2x1us_xLbfBB"
   },
   "outputs": [],
   "source": [
    "roc_auc_score(y_test, classifier.predict_proba(X_test)[:, 1])"
   ]
  },
  {
   "cell_type": "code",
   "execution_count": null,
   "metadata": {
    "id": "fGA6Tq5HAYVr"
   },
   "outputs": [],
   "source": [
    "from sklearn.linear_model import LogisticRegression\n",
    "clf = LogisticRegression(random_state=0).fit(X_train, y_train)\n",
    "y_pred_l = clf.predict(X_test)"
   ]
  },
  {
   "cell_type": "code",
   "execution_count": null,
   "metadata": {
    "id": "fzSNt5I4A4gG"
   },
   "outputs": [],
   "source": [
    "from sklearn.metrics import balanced_accuracy_score\n",
    "balanced_accuracy_score(y_test, y_pred_l)"
   ]
  },
  {
   "cell_type": "code",
   "execution_count": null,
   "metadata": {
    "id": "dVktmZFzA7oP"
   },
   "outputs": [],
   "source": []
  },
  {
   "cell_type": "code",
   "execution_count": null,
   "metadata": {
    "id": "RIXW_iGBBKun"
   },
   "outputs": [],
   "source": [
    "from sklearn.metrics import classification_report"
   ]
  },
  {
   "cell_type": "code",
   "execution_count": null,
   "metadata": {
    "id": "TdFxDNrdBRMZ"
   },
   "outputs": [],
   "source": [
    "print(classification_report(y_test, y_pred))"
   ]
  },
  {
   "cell_type": "code",
   "execution_count": null,
   "metadata": {
    "id": "ykMNAN0SCkpi"
   },
   "outputs": [],
   "source": [
    "y_pred.mean()"
   ]
  },
  {
   "cell_type": "code",
   "execution_count": null,
   "metadata": {
    "id": "2iOrhw8_aSaD"
   },
   "outputs": [],
   "source": [
    "from sklearn.ensemble import RandomForestClassifier\n",
    "classifier = RandomForestClassifier(n_estimators = 10, criterion = 'entropy', random_state = 0)\n",
    "classifier.fit(X_train, y_train)\n"
   ]
  },
  {
   "cell_type": "code",
   "execution_count": null,
   "metadata": {
    "id": "75icj9hYJTID"
   },
   "outputs": [],
   "source": []
  },
  {
   "cell_type": "code",
   "execution_count": null,
   "metadata": {
    "id": "KOyY1QOCJRZL"
   },
   "outputs": [],
   "source": [
    "f_test = test.iloc[test_id.iloc[:,0]]"
   ]
  },
  {
   "cell_type": "code",
   "execution_count": null,
   "metadata": {
    "colab": {
     "base_uri": "https://localhost:8080/",
     "height": 178
    },
    "id": "IIThrGwOa2PG",
    "outputId": "db5d6046-2a0e-40dc-d9a2-d9795321766d"
   },
   "outputs": [
    {
     "name": "stdout",
     "output_type": "stream",
     "text": [
      "Your selected dataframe has 19 columns.\n",
      "There are 3 columns that have missing values.\n"
     ]
    },
    {
     "data": {
      "text/html": [
       "\n",
       "  <div id=\"df-4e43342c-c303-48a9-84c8-818e3d60056b\">\n",
       "    <div class=\"colab-df-container\">\n",
       "      <div>\n",
       "<style scoped>\n",
       "    .dataframe tbody tr th:only-of-type {\n",
       "        vertical-align: middle;\n",
       "    }\n",
       "\n",
       "    .dataframe tbody tr th {\n",
       "        vertical-align: top;\n",
       "    }\n",
       "\n",
       "    .dataframe thead th {\n",
       "        text-align: right;\n",
       "    }\n",
       "</style>\n",
       "<table border=\"1\" class=\"dataframe\">\n",
       "  <thead>\n",
       "    <tr style=\"text-align: right;\">\n",
       "      <th></th>\n",
       "      <th>Missing Values</th>\n",
       "      <th>% of Total Values</th>\n",
       "    </tr>\n",
       "  </thead>\n",
       "  <tbody>\n",
       "    <tr>\n",
       "      <th>gender</th>\n",
       "      <td>2380</td>\n",
       "      <td>100.0</td>\n",
       "    </tr>\n",
       "    <tr>\n",
       "      <th>product_gender</th>\n",
       "      <td>145</td>\n",
       "      <td>6.1</td>\n",
       "    </tr>\n",
       "    <tr>\n",
       "      <th>sellingprice</th>\n",
       "      <td>48</td>\n",
       "      <td>2.0</td>\n",
       "    </tr>\n",
       "  </tbody>\n",
       "</table>\n",
       "</div>\n",
       "      <button class=\"colab-df-convert\" onclick=\"convertToInteractive('df-4e43342c-c303-48a9-84c8-818e3d60056b')\"\n",
       "              title=\"Convert this dataframe to an interactive table.\"\n",
       "              style=\"display:none;\">\n",
       "        \n",
       "  <svg xmlns=\"http://www.w3.org/2000/svg\" height=\"24px\"viewBox=\"0 0 24 24\"\n",
       "       width=\"24px\">\n",
       "    <path d=\"M0 0h24v24H0V0z\" fill=\"none\"/>\n",
       "    <path d=\"M18.56 5.44l.94 2.06.94-2.06 2.06-.94-2.06-.94-.94-2.06-.94 2.06-2.06.94zm-11 1L8.5 8.5l.94-2.06 2.06-.94-2.06-.94L8.5 2.5l-.94 2.06-2.06.94zm10 10l.94 2.06.94-2.06 2.06-.94-2.06-.94-.94-2.06-.94 2.06-2.06.94z\"/><path d=\"M17.41 7.96l-1.37-1.37c-.4-.4-.92-.59-1.43-.59-.52 0-1.04.2-1.43.59L10.3 9.45l-7.72 7.72c-.78.78-.78 2.05 0 2.83L4 21.41c.39.39.9.59 1.41.59.51 0 1.02-.2 1.41-.59l7.78-7.78 2.81-2.81c.8-.78.8-2.07 0-2.86zM5.41 20L4 18.59l7.72-7.72 1.47 1.35L5.41 20z\"/>\n",
       "  </svg>\n",
       "      </button>\n",
       "      \n",
       "  <style>\n",
       "    .colab-df-container {\n",
       "      display:flex;\n",
       "      flex-wrap:wrap;\n",
       "      gap: 12px;\n",
       "    }\n",
       "\n",
       "    .colab-df-convert {\n",
       "      background-color: #E8F0FE;\n",
       "      border: none;\n",
       "      border-radius: 50%;\n",
       "      cursor: pointer;\n",
       "      display: none;\n",
       "      fill: #1967D2;\n",
       "      height: 32px;\n",
       "      padding: 0 0 0 0;\n",
       "      width: 32px;\n",
       "    }\n",
       "\n",
       "    .colab-df-convert:hover {\n",
       "      background-color: #E2EBFA;\n",
       "      box-shadow: 0px 1px 2px rgba(60, 64, 67, 0.3), 0px 1px 3px 1px rgba(60, 64, 67, 0.15);\n",
       "      fill: #174EA6;\n",
       "    }\n",
       "\n",
       "    [theme=dark] .colab-df-convert {\n",
       "      background-color: #3B4455;\n",
       "      fill: #D2E3FC;\n",
       "    }\n",
       "\n",
       "    [theme=dark] .colab-df-convert:hover {\n",
       "      background-color: #434B5C;\n",
       "      box-shadow: 0px 1px 3px 1px rgba(0, 0, 0, 0.15);\n",
       "      filter: drop-shadow(0px 1px 2px rgba(0, 0, 0, 0.3));\n",
       "      fill: #FFFFFF;\n",
       "    }\n",
       "  </style>\n",
       "\n",
       "      <script>\n",
       "        const buttonEl =\n",
       "          document.querySelector('#df-4e43342c-c303-48a9-84c8-818e3d60056b button.colab-df-convert');\n",
       "        buttonEl.style.display =\n",
       "          google.colab.kernel.accessAllowed ? 'block' : 'none';\n",
       "\n",
       "        async function convertToInteractive(key) {\n",
       "          const element = document.querySelector('#df-4e43342c-c303-48a9-84c8-818e3d60056b');\n",
       "          const dataTable =\n",
       "            await google.colab.kernel.invokeFunction('convertToInteractive',\n",
       "                                                     [key], {});\n",
       "          if (!dataTable) return;\n",
       "\n",
       "          const docLinkHtml = 'Like what you see? Visit the ' +\n",
       "            '<a target=\"_blank\" href=https://colab.research.google.com/notebooks/data_table.ipynb>data table notebook</a>'\n",
       "            + ' to learn more about interactive tables.';\n",
       "          element.innerHTML = '';\n",
       "          dataTable['output_type'] = 'display_data';\n",
       "          await google.colab.output.renderOutput(dataTable, element);\n",
       "          const docLink = document.createElement('div');\n",
       "          docLink.innerHTML = docLinkHtml;\n",
       "          element.appendChild(docLink);\n",
       "        }\n",
       "      </script>\n",
       "    </div>\n",
       "  </div>\n",
       "  "
      ],
      "text/plain": [
       "                Missing Values  % of Total Values\n",
       "gender                    2380              100.0\n",
       "product_gender             145                6.1\n",
       "sellingprice                48                2.0"
      ]
     },
     "execution_count": 35,
     "metadata": {},
     "output_type": "execute_result"
    }
   ],
   "source": [
    "missing_values = missing_values_table(f_test)\n",
    "missing_values.head(20)"
   ]
  },
  {
   "cell_type": "code",
   "execution_count": null,
   "metadata": {
    "id": "lJ2vAo56Hxag"
   },
   "outputs": [],
   "source": [
    "from sklearn.preprocessing import MinMaxScaler\n",
    "scaler = MinMaxScaler(feature_range = (0, 1))\n",
    "scaler.fit(m_x)\n",
    "m_x = scaler.transform(m_x)\n",
    "#test = scaler.transform(test)"
   ]
  },
  {
   "cell_type": "code",
   "execution_count": null,
   "metadata": {
    "colab": {
     "base_uri": "https://localhost:8080/"
    },
    "id": "OjeD1WK-H2g-",
    "outputId": "95aa1be1-c1fd-4423-fae7-316256b0422a"
   },
   "outputs": [
    {
     "data": {
      "text/plain": [
       "array([[1.36930011e-02, 0.00000000e+00, 1.00000000e+00, ...,\n",
       "        0.00000000e+00, 0.00000000e+00, 1.00000000e+00],\n",
       "       [1.76696713e-02, 0.00000000e+00, 1.00000000e+00, ...,\n",
       "        0.00000000e+00, 0.00000000e+00, 1.00000000e+00],\n",
       "       [1.36930011e-02, 0.00000000e+00, 0.00000000e+00, ...,\n",
       "        0.00000000e+00, 0.00000000e+00, 1.00000000e+00],\n",
       "       ...,\n",
       "       [7.46730293e-04, 0.00000000e+00, 0.00000000e+00, ...,\n",
       "        0.00000000e+00, 0.00000000e+00, 1.00000000e+00],\n",
       "       [1.09791446e-03, 0.00000000e+00, 1.00000000e+00, ...,\n",
       "        1.00000000e+00, 0.00000000e+00, 0.00000000e+00],\n",
       "       [1.09791446e-03, 0.00000000e+00, 0.00000000e+00, ...,\n",
       "        1.00000000e+00, 0.00000000e+00, 0.00000000e+00]])"
      ]
     },
     "execution_count": 12,
     "metadata": {},
     "output_type": "execute_result"
    }
   ],
   "source": [
    "m_x"
   ]
  },
  {
   "cell_type": "markdown",
   "metadata": {
    "id": "5V_4AS4IAHvl"
   },
   "source": [
    "## Light GBM"
   ]
  },
  {
   "cell_type": "code",
   "execution_count": null,
   "metadata": {
    "id": "F-BGtbGOAKES"
   },
   "outputs": [],
   "source": [
    "import lightgbm as lgb\n",
    "import pandas as pd\n",
    "import numpy as np\n",
    "from sklearn.model_selection import train_test_split\n",
    "from sklearn import metrics"
   ]
  },
  {
   "cell_type": "code",
   "execution_count": null,
   "metadata": {
    "id": "bHhYVww5ASqr"
   },
   "outputs": [],
   "source": [
    "\n",
    "from sklearn.model_selection import train_test_split\n",
    "X_train, X_test, y_train, y_test = train_test_split(m_x, m_y, test_size = 0.25, random_state = 0)"
   ]
  },
  {
   "cell_type": "code",
   "execution_count": null,
   "metadata": {
    "colab": {
     "base_uri": "https://localhost:8080/"
    },
    "id": "8Jq_rxw3CJPd",
    "outputId": "f2bbe673-4267-4604-8453-46ae948e73ac"
   },
   "outputs": [
    {
     "name": "stdout",
     "output_type": "stream",
     "text": [
      "[20]\ttraining's binary_logloss: 0.324503\ttraining's auc: 0.773344\tvalid_0's binary_logloss: 0.323441\tvalid_0's auc: 0.77249\n",
      "[40]\ttraining's binary_logloss: 0.322382\ttraining's auc: 0.775518\tvalid_0's binary_logloss: 0.321417\tvalid_0's auc: 0.774423\n",
      "[60]\ttraining's binary_logloss: 0.321916\ttraining's auc: 0.776883\tvalid_0's binary_logloss: 0.321007\tvalid_0's auc: 0.775673\n",
      "[80]\ttraining's binary_logloss: 0.321639\ttraining's auc: 0.777638\tvalid_0's binary_logloss: 0.320761\tvalid_0's auc: 0.77638\n",
      "[100]\ttraining's binary_logloss: 0.321402\ttraining's auc: 0.7782\tvalid_0's binary_logloss: 0.320557\tvalid_0's auc: 0.776901\n"
     ]
    },
    {
     "data": {
      "text/plain": [
       "LGBMClassifier(learning_rate=0.09, max_depth=-5, random_state=42)"
      ]
     },
     "execution_count": 127,
     "metadata": {},
     "output_type": "execute_result"
    }
   ],
   "source": [
    "model = lgb.LGBMClassifier(learning_rate=0.09,max_depth=-5,random_state=42)\n",
    "model.fit(X_train,y_train,eval_set=[(X_test,y_test),(X_train,y_train)],\n",
    "          verbose=20,eval_metric='auc')"
   ]
  },
  {
   "cell_type": "code",
   "execution_count": null,
   "metadata": {
    "colab": {
     "base_uri": "https://localhost:8080/"
    },
    "id": "5Bc0vhh_CJSa",
    "outputId": "75dfe6f8-6adb-41a2-93a4-8612cf388185"
   },
   "outputs": [
    {
     "name": "stdout",
     "output_type": "stream",
     "text": [
      "Training accuracy 0.8771\n",
      "Testing accuracy 0.8776\n"
     ]
    }
   ],
   "source": [
    "print('Training accuracy {:.4f}'.format(model.score(X_train,y_train)))\n",
    "print('Testing accuracy {:.4f}'.format(model.score(X_test,y_test)))"
   ]
  },
  {
   "cell_type": "code",
   "execution_count": null,
   "metadata": {
    "id": "YXtK20FnLYAC"
   },
   "outputs": [],
   "source": [
    "#y_pred = model.predict_proba(X_test)"
   ]
  },
  {
   "cell_type": "code",
   "execution_count": null,
   "metadata": {
    "colab": {
     "base_uri": "https://localhost:8080/"
    },
    "id": "ndfOt7LGCJV8",
    "outputId": "8c98ba15-414d-4a84-eb12-88db521d2b81"
   },
   "outputs": [
    {
     "data": {
      "text/plain": [
       "0.7769010110414196"
      ]
     },
     "execution_count": 129,
     "metadata": {},
     "output_type": "execute_result"
    }
   ],
   "source": [
    "from sklearn.metrics import roc_auc_score\n",
    "roc_auc_score(y_test, model.predict_proba(X_test)[:,1])\n",
    "#0.7769010110414196"
   ]
  },
  {
   "cell_type": "code",
   "execution_count": null,
   "metadata": {
    "colab": {
     "base_uri": "https://localhost:8080/",
     "height": 312
    },
    "id": "4njawK5uCJYj",
    "outputId": "5ad731de-9db8-40d2-e049-90dd810a64ae"
   },
   "outputs": [
    {
     "data": {
      "text/plain": [
       "<matplotlib.axes._subplots.AxesSubplot at 0x7f201c429f50>"
      ]
     },
     "execution_count": 124,
     "metadata": {},
     "output_type": "execute_result"
    },
    {
     "data": {
      "image/png": "[encoded data removed]",
      "text/plain": [
       "<Figure size 432x288 with 1 Axes>"
      ]
     },
     "metadata": {
      "needs_background": "light"
     },
     "output_type": "display_data"
    }
   ],
   "source": [
    "lgb.plot_importance(model)"
   ]
  },
  {
   "cell_type": "code",
   "execution_count": null,
   "metadata": {
    "colab": {
     "base_uri": "https://localhost:8080/",
     "height": 312
    },
    "id": "pOOcpgDOjdSF",
    "outputId": "dd0868f0-20a8-4904-a469-7a9763b3e833"
   },
   "outputs": [
    {
     "data": {
      "text/plain": [
       "<matplotlib.axes._subplots.AxesSubplot at 0x7f20091cc3d0>"
      ]
     },
     "execution_count": 125,
     "metadata": {},
     "output_type": "execute_result"
    },
    {
     "data": {
      "image/png": "[encoded data removed]",
      "text/plain": [
       "<Figure size 432x288 with 1 Axes>"
      ]
     },
     "metadata": {
      "needs_background": "light"
     },
     "output_type": "display_data"
    }
   ],
   "source": [
    "lgb.plot_metric(model)"
   ]
  },
  {
   "cell_type": "code",
   "execution_count": null,
   "metadata": {
    "colab": {
     "base_uri": "https://localhost:8080/",
     "height": 148
    },
    "id": "aUjA2GrUkGhP",
    "outputId": "df2d802a-9ecb-4ea6-b29e-c6a8315b6d5a"
   },
   "outputs": [
    {
     "data": {
      "text/plain": [
       "<matplotlib.axes._subplots.AxesSubplot at 0x7f1ff2163910>"
      ]
     },
     "execution_count": 48,
     "metadata": {},
     "output_type": "execute_result"
    },
    {
     "data": {
      "image/png": "[encoded data removed]",
      "text/plain": [
       "<Figure size 2160x2880 with 1 Axes>"
      ]
     },
     "metadata": {
      "needs_background": "light"
     },
     "output_type": "display_data"
    }
   ],
   "source": [
    "lgb.plot_tree(model,figsize=(30,40))"
   ]
  },
  {
   "cell_type": "code",
   "execution_count": null,
   "metadata": {
    "colab": {
     "base_uri": "https://localhost:8080/"
    },
    "id": "laU1omTvkMxl",
    "outputId": "e831b7a2-0bb0-4cdb-ad57-80357c4e1bbd"
   },
   "outputs": [
    {
     "name": "stdout",
     "output_type": "stream",
     "text": [
      "              precision    recall  f1-score   support\n",
      "\n",
      "           0       0.58      0.22      0.32    156420\n",
      "           1       0.89      0.98      0.93   1040987\n",
      "\n",
      "    accuracy                           0.88   1197407\n",
      "   macro avg       0.74      0.60      0.63   1197407\n",
      "weighted avg       0.85      0.88      0.85   1197407\n",
      "\n"
     ]
    }
   ],
   "source": [
    "print(metrics.classification_report(y_test,model.predict(X_test))) # first version"
   ]
  },
  {
   "cell_type": "code",
   "execution_count": null,
   "metadata": {
    "id": "edb3y9-NkOcG"
   },
   "outputs": [],
   "source": [
    "y_pred = model.predict_proba(X_test)[:,1]"
   ]
  },
  {
   "cell_type": "code",
   "execution_count": null,
   "metadata": {
    "colab": {
     "base_uri": "https://localhost:8080/"
    },
    "id": "0980E-EIlRGa",
    "outputId": "a3e33d84-0554-4f80-fa75-33c016d8788c"
   },
   "outputs": [
    {
     "data": {
      "text/plain": [
       "(1197407,)"
      ]
     },
     "execution_count": 77,
     "metadata": {},
     "output_type": "execute_result"
    }
   ],
   "source": [
    "y_pred.shape"
   ]
  },
  {
   "cell_type": "code",
   "execution_count": null,
   "metadata": {
    "colab": {
     "base_uri": "https://localhost:8080/"
    },
    "id": "NGLxJUETlwQF",
    "outputId": "a2a734b9-f8c6-414c-b336-a2386910f0ec"
   },
   "outputs": [
    {
     "data": {
      "text/plain": [
       "0           108\n",
       "1           108\n",
       "2           108\n",
       "3           108\n",
       "4           108\n",
       "           ... \n",
       "2324809    7509\n",
       "2324810    7509\n",
       "2324811    7509\n",
       "2324812    7509\n",
       "2324813    7509\n",
       "Name: unique_id, Length: 2324814, dtype: int64"
      ]
     },
     "execution_count": 80,
     "metadata": {},
     "output_type": "execute_result"
    }
   ],
   "source": [
    "unique = test['unique_id']\n",
    "unique"
   ]
  },
  {
   "cell_type": "code",
   "execution_count": null,
   "metadata": {
    "id": "S3Jcd_aWrtsy"
   },
   "outputs": [],
   "source": [
    "\n",
    "pd.set_option('display.max_columns', None)"
   ]
  },
  {
   "cell_type": "code",
   "execution_count": null,
   "metadata": {
    "id": "AP4xG08-r8U4"
   },
   "outputs": [],
   "source": [
    "test_df_user_gender = test[['sellingprice','user_action','product_gender']]\n",
    "\n",
    "test_df_user_gender = pd.get_dummies(test_df_user_gender)"
   ]
  },
  {
   "cell_type": "code",
   "execution_count": null,
   "metadata": {
    "colab": {
     "base_uri": "https://localhost:8080/"
    },
    "id": "eZxZMMjQw8-I",
    "outputId": "683224e8-d01a-4ed8-98e6-2924e0b654b1"
   },
   "outputs": [
    {
     "data": {
      "text/plain": [
       "array([0.95464087, 0.92971593, 0.94825647, ..., 0.87326169, 0.82390492,\n",
       "       0.82622846])"
      ]
     },
     "execution_count": 85,
     "metadata": {},
     "output_type": "execute_result"
    }
   ],
   "source": [
    "y_pred2 = model.predict_proba(test_df_user_gender)[:,1]\n",
    "dff = pd.DataFrame(unique)\n",
    "dff['prediction'] = y_pred2\n",
    "last = dff.groupby('unique_id').mean()\n",
    "last"
   ]
  },
  {
   "cell_type": "code",
   "execution_count": null,
   "metadata": {
    "id": "1sgfVdBfzUtO"
   },
   "outputs": [],
   "source": [
    "np.savetxt(\"cikti3.txt\", last['prediction'],fmt='%.2f',delimiter=',',newline=',')"
   ]
  },
  {
   "cell_type": "markdown",
   "metadata": {
    "id": "qOS91UuXA9F9"
   },
   "source": [
    "## LightGBM 2"
   ]
  },
  {
   "cell_type": "code",
   "execution_count": null,
   "metadata": {
    "colab": {
     "base_uri": "https://localhost:8080/"
    },
    "id": "UcFiuDSpGlQb",
    "outputId": "85f89886-7a7a-45fb-a6c7-c10eddc15163"
   },
   "outputs": [
    {
     "data": {
      "text/plain": [
       "0           108\n",
       "1           108\n",
       "2           108\n",
       "3           108\n",
       "4           108\n",
       "           ... \n",
       "2324809    7509\n",
       "2324810    7509\n",
       "2324811    7509\n",
       "2324812    7509\n",
       "2324813    7509\n",
       "Name: unique_id, Length: 2324814, dtype: int64"
      ]
     },
     "execution_count": 20,
     "metadata": {},
     "output_type": "execute_result"
    }
   ],
   "source": [
    "unique = test['unique_id']\n",
    "unique"
   ]
  },
  {
   "cell_type": "code",
   "execution_count": null,
   "metadata": {
    "colab": {
     "base_uri": "https://localhost:8080/"
    },
    "id": "ZVw6TalfBCOT",
    "outputId": "fdbda35a-d8b5-4c29-c1df-1f0edfb70a99"
   },
   "outputs": [
    {
     "name": "stdout",
     "output_type": "stream",
     "text": [
      "Training until validation scores don't improve for 50 rounds.\n",
      "[200]\ttrain's binary_logloss: 0.561658\ttrain's auc: 0.778667\tvalid's binary_logloss: 0.55463\tvalid's auc: 0.777429\n",
      "[400]\ttrain's binary_logloss: 0.56013\ttrain's auc: 0.7802\tvalid's binary_logloss: 0.55323\tvalid's auc: 0.778801\n",
      "[600]\ttrain's binary_logloss: 0.559169\ttrain's auc: 0.781184\tvalid's binary_logloss: 0.552421\tvalid's auc: 0.779646\n",
      "[800]\ttrain's binary_logloss: 0.558579\ttrain's auc: 0.781759\tvalid's binary_logloss: 0.551937\tvalid's auc: 0.780099\n",
      "[1000]\ttrain's binary_logloss: 0.558069\ttrain's auc: 0.78226\tvalid's binary_logloss: 0.551526\tvalid's auc: 0.7805\n",
      "[1200]\ttrain's binary_logloss: 0.557689\ttrain's auc: 0.782616\tvalid's binary_logloss: 0.551231\tvalid's auc: 0.780774\n",
      "[1400]\ttrain's binary_logloss: 0.557418\ttrain's auc: 0.782847\tvalid's binary_logloss: 0.551015\tvalid's auc: 0.780932\n",
      "[1600]\ttrain's binary_logloss: 0.557193\ttrain's auc: 0.78305\tvalid's binary_logloss: 0.550835\tvalid's auc: 0.781058\n",
      "[1800]\ttrain's binary_logloss: 0.557009\ttrain's auc: 0.783209\tvalid's binary_logloss: 0.550691\tvalid's auc: 0.781145\n",
      "[2000]\ttrain's binary_logloss: 0.556863\ttrain's auc: 0.783346\tvalid's binary_logloss: 0.550588\tvalid's auc: 0.781193\n",
      "[2200]\ttrain's binary_logloss: 0.55675\ttrain's auc: 0.78344\tvalid's binary_logloss: 0.55051\tvalid's auc: 0.78123\n",
      "[2400]\ttrain's binary_logloss: 0.556657\ttrain's auc: 0.783518\tvalid's binary_logloss: 0.550445\tvalid's auc: 0.781263\n",
      "Early stopping, best iteration is:\n",
      "[2426]\ttrain's binary_logloss: 0.556645\ttrain's auc: 0.783531\tvalid's binary_logloss: 0.550437\tvalid's auc: 0.781269\n"
     ]
    },
    {
     "data": {
      "text/plain": [
       "LGBMClassifier(class_weight='balanced', learning_rate=0.05, n_estimators=10000,\n",
       "               objective='binary', random_state=50, reg_alpha=0.1,\n",
       "               reg_lambda=0.1, subsample=0.8)"
      ]
     },
     "execution_count": 16,
     "metadata": {},
     "output_type": "execute_result"
    }
   ],
   "source": [
    "model = lgb.LGBMClassifier(n_estimators=10000, objective = 'binary', \n",
    "                                   class_weight = 'balanced', learning_rate = 0.05, \n",
    "                                   reg_alpha = 0.1, reg_lambda = 0.1, \n",
    "                                   subsample = 0.8, n_jobs = -1, random_state = 50)\n",
    "        \n",
    "        # Train the model\n",
    "model.fit(X_train,y_train, eval_metric = 'auc',\n",
    "                  eval_set=[(X_test,y_test),(X_train,y_train)],\n",
    "                  eval_names = ['valid', 'train'],\n",
    "                  early_stopping_rounds = 50, verbose = 200)"
   ]
  },
  {
   "cell_type": "code",
   "execution_count": null,
   "metadata": {
    "id": "s-NHmjvLDIzj"
   },
   "outputs": [],
   "source": [
    "y_pred2 = model.predict_proba(test_df_user_gender)[:,1]\n"
   ]
  },
  {
   "cell_type": "code",
   "execution_count": null,
   "metadata": {
    "colab": {
     "base_uri": "https://localhost:8080/"
    },
    "id": "hVnA_73iLqhB",
    "outputId": "2ad8a65c-0458-47aa-9e51-ab2802fd80d0"
   },
   "outputs": [
    {
     "data": {
      "text/plain": [
       "array([0.50511639, 0.50511639, 0.50511639, ..., 0.23370492, 0.42474393,\n",
       "       0.41821752])"
      ]
     },
     "execution_count": 47,
     "metadata": {},
     "output_type": "execute_result"
    }
   ],
   "source": [
    "y_pred2"
   ]
  },
  {
   "cell_type": "code",
   "execution_count": null,
   "metadata": {
    "colab": {
     "base_uri": "https://localhost:8080/",
     "height": 455
    },
    "id": "beWxwcHAGdAu",
    "outputId": "2e9e7dd9-5c7a-413a-8875-992157218cc1"
   },
   "outputs": [
    {
     "data": {
      "text/html": [
       "\n",
       "  <div id=\"df-efab64b9-d3f3-4202-a6b7-782aecf7a934\">\n",
       "    <div class=\"colab-df-container\">\n",
       "      <div>\n",
       "<style scoped>\n",
       "    .dataframe tbody tr th:only-of-type {\n",
       "        vertical-align: middle;\n",
       "    }\n",
       "\n",
       "    .dataframe tbody tr th {\n",
       "        vertical-align: top;\n",
       "    }\n",
       "\n",
       "    .dataframe thead th {\n",
       "        text-align: right;\n",
       "    }\n",
       "</style>\n",
       "<table border=\"1\" class=\"dataframe\">\n",
       "  <thead>\n",
       "    <tr style=\"text-align: right;\">\n",
       "      <th></th>\n",
       "      <th>prediction</th>\n",
       "    </tr>\n",
       "    <tr>\n",
       "      <th>unique_id</th>\n",
       "      <th></th>\n",
       "    </tr>\n",
       "  </thead>\n",
       "  <tbody>\n",
       "    <tr>\n",
       "      <th>9</th>\n",
       "      <td>0.448626</td>\n",
       "    </tr>\n",
       "    <tr>\n",
       "      <th>18</th>\n",
       "      <td>0.447347</td>\n",
       "    </tr>\n",
       "    <tr>\n",
       "      <th>21</th>\n",
       "      <td>0.455421</td>\n",
       "    </tr>\n",
       "    <tr>\n",
       "      <th>25</th>\n",
       "      <td>0.426088</td>\n",
       "    </tr>\n",
       "    <tr>\n",
       "      <th>31</th>\n",
       "      <td>0.383026</td>\n",
       "    </tr>\n",
       "    <tr>\n",
       "      <th>...</th>\n",
       "      <td>...</td>\n",
       "    </tr>\n",
       "    <tr>\n",
       "      <th>7982</th>\n",
       "      <td>0.423181</td>\n",
       "    </tr>\n",
       "    <tr>\n",
       "      <th>7990</th>\n",
       "      <td>0.132024</td>\n",
       "    </tr>\n",
       "    <tr>\n",
       "      <th>7993</th>\n",
       "      <td>0.419750</td>\n",
       "    </tr>\n",
       "    <tr>\n",
       "      <th>7994</th>\n",
       "      <td>0.394245</td>\n",
       "    </tr>\n",
       "    <tr>\n",
       "      <th>7998</th>\n",
       "      <td>0.218907</td>\n",
       "    </tr>\n",
       "  </tbody>\n",
       "</table>\n",
       "<p>2380 rows × 1 columns</p>\n",
       "</div>\n",
       "      <button class=\"colab-df-convert\" onclick=\"convertToInteractive('df-efab64b9-d3f3-4202-a6b7-782aecf7a934')\"\n",
       "              title=\"Convert this dataframe to an interactive table.\"\n",
       "              style=\"display:none;\">\n",
       "        \n",
       "  <svg xmlns=\"http://www.w3.org/2000/svg\" height=\"24px\"viewBox=\"0 0 24 24\"\n",
       "       width=\"24px\">\n",
       "    <path d=\"M0 0h24v24H0V0z\" fill=\"none\"/>\n",
       "    <path d=\"M18.56 5.44l.94 2.06.94-2.06 2.06-.94-2.06-.94-.94-2.06-.94 2.06-2.06.94zm-11 1L8.5 8.5l.94-2.06 2.06-.94-2.06-.94L8.5 2.5l-.94 2.06-2.06.94zm10 10l.94 2.06.94-2.06 2.06-.94-2.06-.94-.94-2.06-.94 2.06-2.06.94z\"/><path d=\"M17.41 7.96l-1.37-1.37c-.4-.4-.92-.59-1.43-.59-.52 0-1.04.2-1.43.59L10.3 9.45l-7.72 7.72c-.78.78-.78 2.05 0 2.83L4 21.41c.39.39.9.59 1.41.59.51 0 1.02-.2 1.41-.59l7.78-7.78 2.81-2.81c.8-.78.8-2.07 0-2.86zM5.41 20L4 18.59l7.72-7.72 1.47 1.35L5.41 20z\"/>\n",
       "  </svg>\n",
       "      </button>\n",
       "      \n",
       "  <style>\n",
       "    .colab-df-container {\n",
       "      display:flex;\n",
       "      flex-wrap:wrap;\n",
       "      gap: 12px;\n",
       "    }\n",
       "\n",
       "    .colab-df-convert {\n",
       "      background-color: #E8F0FE;\n",
       "      border: none;\n",
       "      border-radius: 50%;\n",
       "      cursor: pointer;\n",
       "      display: none;\n",
       "      fill: #1967D2;\n",
       "      height: 32px;\n",
       "      padding: 0 0 0 0;\n",
       "      width: 32px;\n",
       "    }\n",
       "\n",
       "    .colab-df-convert:hover {\n",
       "      background-color: #E2EBFA;\n",
       "      box-shadow: 0px 1px 2px rgba(60, 64, 67, 0.3), 0px 1px 3px 1px rgba(60, 64, 67, 0.15);\n",
       "      fill: #174EA6;\n",
       "    }\n",
       "\n",
       "    [theme=dark] .colab-df-convert {\n",
       "      background-color: #3B4455;\n",
       "      fill: #D2E3FC;\n",
       "    }\n",
       "\n",
       "    [theme=dark] .colab-df-convert:hover {\n",
       "      background-color: #434B5C;\n",
       "      box-shadow: 0px 1px 3px 1px rgba(0, 0, 0, 0.15);\n",
       "      filter: drop-shadow(0px 1px 2px rgba(0, 0, 0, 0.3));\n",
       "      fill: #FFFFFF;\n",
       "    }\n",
       "  </style>\n",
       "\n",
       "      <script>\n",
       "        const buttonEl =\n",
       "          document.querySelector('#df-efab64b9-d3f3-4202-a6b7-782aecf7a934 button.colab-df-convert');\n",
       "        buttonEl.style.display =\n",
       "          google.colab.kernel.accessAllowed ? 'block' : 'none';\n",
       "\n",
       "        async function convertToInteractive(key) {\n",
       "          const element = document.querySelector('#df-efab64b9-d3f3-4202-a6b7-782aecf7a934');\n",
       "          const dataTable =\n",
       "            await google.colab.kernel.invokeFunction('convertToInteractive',\n",
       "                                                     [key], {});\n",
       "          if (!dataTable) return;\n",
       "\n",
       "          const docLinkHtml = 'Like what you see? Visit the ' +\n",
       "            '<a target=\"_blank\" href=https://colab.research.google.com/notebooks/data_table.ipynb>data table notebook</a>'\n",
       "            + ' to learn more about interactive tables.';\n",
       "          element.innerHTML = '';\n",
       "          dataTable['output_type'] = 'display_data';\n",
       "          await google.colab.output.renderOutput(dataTable, element);\n",
       "          const docLink = document.createElement('div');\n",
       "          docLink.innerHTML = docLinkHtml;\n",
       "          element.appendChild(docLink);\n",
       "        }\n",
       "      </script>\n",
       "    </div>\n",
       "  </div>\n",
       "  "
      ],
      "text/plain": [
       "           prediction\n",
       "unique_id            \n",
       "9            0.448626\n",
       "18           0.447347\n",
       "21           0.455421\n",
       "25           0.426088\n",
       "31           0.383026\n",
       "...               ...\n",
       "7982         0.423181\n",
       "7990         0.132024\n",
       "7993         0.419750\n",
       "7994         0.394245\n",
       "7998         0.218907\n",
       "\n",
       "[2380 rows x 1 columns]"
      ]
     },
     "execution_count": 43,
     "metadata": {},
     "output_type": "execute_result"
    }
   ],
   "source": [
    "dff = pd.DataFrame(unique)\n",
    "dff['prediction'] = y_pred2\n",
    "last = dff.groupby('unique_id').mean()\n",
    "last"
   ]
  },
  {
   "cell_type": "code",
   "execution_count": null,
   "metadata": {
    "colab": {
     "base_uri": "https://localhost:8080/",
     "height": 455
    },
    "id": "R23Rd2sMIq06",
    "outputId": "9f5609f8-ee0f-4582-cf6e-0574702eae91"
   },
   "outputs": [
    {
     "data": {
      "text/html": [
       "\n",
       "  <div id=\"df-1db36947-5fd4-4d20-a1b8-c0d58208b1a7\">\n",
       "    <div class=\"colab-df-container\">\n",
       "      <div>\n",
       "<style scoped>\n",
       "    .dataframe tbody tr th:only-of-type {\n",
       "        vertical-align: middle;\n",
       "    }\n",
       "\n",
       "    .dataframe tbody tr th {\n",
       "        vertical-align: top;\n",
       "    }\n",
       "\n",
       "    .dataframe thead th {\n",
       "        text-align: right;\n",
       "    }\n",
       "</style>\n",
       "<table border=\"1\" class=\"dataframe\">\n",
       "  <thead>\n",
       "    <tr style=\"text-align: right;\">\n",
       "      <th></th>\n",
       "      <th>prediction</th>\n",
       "    </tr>\n",
       "    <tr>\n",
       "      <th>unique_id</th>\n",
       "      <th></th>\n",
       "    </tr>\n",
       "  </thead>\n",
       "  <tbody>\n",
       "    <tr>\n",
       "      <th>9</th>\n",
       "      <td>0.448626</td>\n",
       "    </tr>\n",
       "    <tr>\n",
       "      <th>18</th>\n",
       "      <td>0.447347</td>\n",
       "    </tr>\n",
       "    <tr>\n",
       "      <th>21</th>\n",
       "      <td>0.455421</td>\n",
       "    </tr>\n",
       "    <tr>\n",
       "      <th>25</th>\n",
       "      <td>0.426088</td>\n",
       "    </tr>\n",
       "    <tr>\n",
       "      <th>31</th>\n",
       "      <td>0.383026</td>\n",
       "    </tr>\n",
       "    <tr>\n",
       "      <th>...</th>\n",
       "      <td>...</td>\n",
       "    </tr>\n",
       "    <tr>\n",
       "      <th>7982</th>\n",
       "      <td>0.423181</td>\n",
       "    </tr>\n",
       "    <tr>\n",
       "      <th>7990</th>\n",
       "      <td>0.132024</td>\n",
       "    </tr>\n",
       "    <tr>\n",
       "      <th>7993</th>\n",
       "      <td>0.419750</td>\n",
       "    </tr>\n",
       "    <tr>\n",
       "      <th>7994</th>\n",
       "      <td>0.394245</td>\n",
       "    </tr>\n",
       "    <tr>\n",
       "      <th>7998</th>\n",
       "      <td>0.218907</td>\n",
       "    </tr>\n",
       "  </tbody>\n",
       "</table>\n",
       "<p>2380 rows × 1 columns</p>\n",
       "</div>\n",
       "      <button class=\"colab-df-convert\" onclick=\"convertToInteractive('df-1db36947-5fd4-4d20-a1b8-c0d58208b1a7')\"\n",
       "              title=\"Convert this dataframe to an interactive table.\"\n",
       "              style=\"display:none;\">\n",
       "        \n",
       "  <svg xmlns=\"http://www.w3.org/2000/svg\" height=\"24px\"viewBox=\"0 0 24 24\"\n",
       "       width=\"24px\">\n",
       "    <path d=\"M0 0h24v24H0V0z\" fill=\"none\"/>\n",
       "    <path d=\"M18.56 5.44l.94 2.06.94-2.06 2.06-.94-2.06-.94-.94-2.06-.94 2.06-2.06.94zm-11 1L8.5 8.5l.94-2.06 2.06-.94-2.06-.94L8.5 2.5l-.94 2.06-2.06.94zm10 10l.94 2.06.94-2.06 2.06-.94-2.06-.94-.94-2.06-.94 2.06-2.06.94z\"/><path d=\"M17.41 7.96l-1.37-1.37c-.4-.4-.92-.59-1.43-.59-.52 0-1.04.2-1.43.59L10.3 9.45l-7.72 7.72c-.78.78-.78 2.05 0 2.83L4 21.41c.39.39.9.59 1.41.59.51 0 1.02-.2 1.41-.59l7.78-7.78 2.81-2.81c.8-.78.8-2.07 0-2.86zM5.41 20L4 18.59l7.72-7.72 1.47 1.35L5.41 20z\"/>\n",
       "  </svg>\n",
       "      </button>\n",
       "      \n",
       "  <style>\n",
       "    .colab-df-container {\n",
       "      display:flex;\n",
       "      flex-wrap:wrap;\n",
       "      gap: 12px;\n",
       "    }\n",
       "\n",
       "    .colab-df-convert {\n",
       "      background-color: #E8F0FE;\n",
       "      border: none;\n",
       "      border-radius: 50%;\n",
       "      cursor: pointer;\n",
       "      display: none;\n",
       "      fill: #1967D2;\n",
       "      height: 32px;\n",
       "      padding: 0 0 0 0;\n",
       "      width: 32px;\n",
       "    }\n",
       "\n",
       "    .colab-df-convert:hover {\n",
       "      background-color: #E2EBFA;\n",
       "      box-shadow: 0px 1px 2px rgba(60, 64, 67, 0.3), 0px 1px 3px 1px rgba(60, 64, 67, 0.15);\n",
       "      fill: #174EA6;\n",
       "    }\n",
       "\n",
       "    [theme=dark] .colab-df-convert {\n",
       "      background-color: #3B4455;\n",
       "      fill: #D2E3FC;\n",
       "    }\n",
       "\n",
       "    [theme=dark] .colab-df-convert:hover {\n",
       "      background-color: #434B5C;\n",
       "      box-shadow: 0px 1px 3px 1px rgba(0, 0, 0, 0.15);\n",
       "      filter: drop-shadow(0px 1px 2px rgba(0, 0, 0, 0.3));\n",
       "      fill: #FFFFFF;\n",
       "    }\n",
       "  </style>\n",
       "\n",
       "      <script>\n",
       "        const buttonEl =\n",
       "          document.querySelector('#df-1db36947-5fd4-4d20-a1b8-c0d58208b1a7 button.colab-df-convert');\n",
       "        buttonEl.style.display =\n",
       "          google.colab.kernel.accessAllowed ? 'block' : 'none';\n",
       "\n",
       "        async function convertToInteractive(key) {\n",
       "          const element = document.querySelector('#df-1db36947-5fd4-4d20-a1b8-c0d58208b1a7');\n",
       "          const dataTable =\n",
       "            await google.colab.kernel.invokeFunction('convertToInteractive',\n",
       "                                                     [key], {});\n",
       "          if (!dataTable) return;\n",
       "\n",
       "          const docLinkHtml = 'Like what you see? Visit the ' +\n",
       "            '<a target=\"_blank\" href=https://colab.research.google.com/notebooks/data_table.ipynb>data table notebook</a>'\n",
       "            + ' to learn more about interactive tables.';\n",
       "          element.innerHTML = '';\n",
       "          dataTable['output_type'] = 'display_data';\n",
       "          await google.colab.output.renderOutput(dataTable, element);\n",
       "          const docLink = document.createElement('div');\n",
       "          docLink.innerHTML = docLinkHtml;\n",
       "          element.appendChild(docLink);\n",
       "        }\n",
       "      </script>\n",
       "    </div>\n",
       "  </div>\n",
       "  "
      ],
      "text/plain": [
       "           prediction\n",
       "unique_id            \n",
       "9            0.448626\n",
       "18           0.447347\n",
       "21           0.455421\n",
       "25           0.426088\n",
       "31           0.383026\n",
       "...               ...\n",
       "7982         0.423181\n",
       "7990         0.132024\n",
       "7993         0.419750\n",
       "7994         0.394245\n",
       "7998         0.218907\n",
       "\n",
       "[2380 rows x 1 columns]"
      ]
     },
     "execution_count": 44,
     "metadata": {},
     "output_type": "execute_result"
    }
   ],
   "source": [
    "last.sort_values(by='unique_id')"
   ]
  },
  {
   "cell_type": "code",
   "execution_count": null,
   "metadata": {
    "colab": {
     "base_uri": "https://localhost:8080/"
    },
    "id": "OppavPwrHsn7",
    "outputId": "0dbfc6b9-676d-4792-c047-ff8fb9bf3bed"
   },
   "outputs": [
    {
     "data": {
      "text/plain": [
       "0.4053821871058496"
      ]
     },
     "execution_count": 45,
     "metadata": {},
     "output_type": "execute_result"
    }
   ],
   "source": [
    "y_pred2.mean()"
   ]
  },
  {
   "cell_type": "code",
   "execution_count": null,
   "metadata": {
    "colab": {
     "base_uri": "https://localhost:8080/"
    },
    "id": "SdOiysceI3kk",
    "outputId": "301d5959-0476-41ce-80a8-5fa967cd704a"
   },
   "outputs": [
    {
     "data": {
      "text/plain": [
       "array([0.50511639, 0.50511639, 0.50511639, ..., 0.23370492, 0.42474393,\n",
       "       0.41821752])"
      ]
     },
     "execution_count": 46,
     "metadata": {},
     "output_type": "execute_result"
    }
   ],
   "source": [
    "y_pred2"
   ]
  },
  {
   "cell_type": "code",
   "execution_count": null,
   "metadata": {
    "id": "LIuAkg3-GJUZ"
   },
   "outputs": [],
   "source": [
    "np.savetxt(\"cikti4.txt\", last['prediction'],fmt='%.2f',delimiter=',',newline=',')"
   ]
  }
 ],
 "metadata": {
  "colab": {
   "collapsed_sections": [
    "8jGnkzmSCjnv",
    "4gT0NXk7Cnji",
    "YjAVFGW7E7my"
   ],
   "name": "project-worksheet",
   "provenance": [],
   "toc_visible": true
  },
  "kernelspec": {
   "display_name": "Python 3",
   "language": "python",
   "name": "python3"
  },
  "language_info": {
   "codemirror_mode": {
    "name": "ipython",
    "version": 3
   },
   "file_extension": ".py",
   "mimetype": "text/x-python",
   "name": "python",
   "nbconvert_exporter": "python",
   "pygments_lexer": "ipython3",
   "version": "3.8.8"
  }
 },
 "nbformat": 4,
 "nbformat_minor": 1
}
