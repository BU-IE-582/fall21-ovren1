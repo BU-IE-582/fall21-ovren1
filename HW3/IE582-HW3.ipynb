{
 "cells": [
  {
   "cell_type": "code",
   "execution_count": 27,
   "id": "ab2089c0",
   "metadata": {},
   "outputs": [],
   "source": [
    "import pandas as pd\n",
    "import numpy as np\n",
    "import seaborn as sns\n",
    "from sklearn.metrics import confusion_matrix\n",
    "from sklearn.neighbors import KNeighborsClassifier\n",
    "from sklearn.metrics import log_loss, make_scorer\n",
    "from scipy.spatial import distance_matrix\n",
    "import matplotlib.pyplot as plt\n",
    "import time\n",
    "from sklearn.model_selection import cross_val_score\n",
    "from sklearn.metrics import confusion_matrix, accuracy_score,log_loss"
   ]
  },
  {
   "cell_type": "markdown",
   "id": "032c1ad2",
   "metadata": {},
   "source": [
    "# 1"
   ]
  },
  {
   "cell_type": "code",
   "execution_count": 3,
   "id": "53a5818e",
   "metadata": {},
   "outputs": [],
   "source": [
    "df_x = pd.read_csv(\"Downloads/uWaveGestureLibrary_X_TRAIN\", delim_whitespace=True, header=None)\n",
    "df_y = pd.read_csv(\"Downloads/uWaveGestureLibrary_Y_TRAIN\", delim_whitespace=True, header=None)\n",
    "df_z = pd.read_csv(\"Downloads/uWaveGestureLibrary_Z_TRAIN\", delim_whitespace=True, header=None)"
   ]
  },
  {
   "cell_type": "code",
   "execution_count": 9,
   "id": "61599d5a",
   "metadata": {},
   "outputs": [
    {
     "data": {
      "text/html": [
       "<div>\n",
       "<style scoped>\n",
       "    .dataframe tbody tr th:only-of-type {\n",
       "        vertical-align: middle;\n",
       "    }\n",
       "\n",
       "    .dataframe tbody tr th {\n",
       "        vertical-align: top;\n",
       "    }\n",
       "\n",
       "    .dataframe thead th {\n",
       "        text-align: right;\n",
       "    }\n",
       "</style>\n",
       "<table border=\"1\" class=\"dataframe\">\n",
       "  <thead>\n",
       "    <tr style=\"text-align: right;\">\n",
       "      <th></th>\n",
       "      <th>1</th>\n",
       "      <th>2</th>\n",
       "      <th>3</th>\n",
       "      <th>4</th>\n",
       "      <th>5</th>\n",
       "      <th>6</th>\n",
       "      <th>7</th>\n",
       "      <th>8</th>\n",
       "      <th>9</th>\n",
       "      <th>10</th>\n",
       "      <th>...</th>\n",
       "      <th>306</th>\n",
       "      <th>307</th>\n",
       "      <th>308</th>\n",
       "      <th>309</th>\n",
       "      <th>310</th>\n",
       "      <th>311</th>\n",
       "      <th>312</th>\n",
       "      <th>313</th>\n",
       "      <th>314</th>\n",
       "      <th>315</th>\n",
       "    </tr>\n",
       "  </thead>\n",
       "  <tbody>\n",
       "    <tr>\n",
       "      <th>0</th>\n",
       "      <td>-0.304243</td>\n",
       "      <td>-0.304243</td>\n",
       "      <td>-0.304243</td>\n",
       "      <td>-0.304243</td>\n",
       "      <td>-0.304243</td>\n",
       "      <td>-0.304243</td>\n",
       "      <td>-0.304243</td>\n",
       "      <td>-0.304243</td>\n",
       "      <td>-0.304243</td>\n",
       "      <td>-0.304243</td>\n",
       "      <td>...</td>\n",
       "      <td>0.523217</td>\n",
       "      <td>0.513994</td>\n",
       "      <td>0.503481</td>\n",
       "      <td>0.492967</td>\n",
       "      <td>0.474522</td>\n",
       "      <td>0.456077</td>\n",
       "      <td>0.437632</td>\n",
       "      <td>0.419187</td>\n",
       "      <td>0.400743</td>\n",
       "      <td>0.382298</td>\n",
       "    </tr>\n",
       "    <tr>\n",
       "      <th>1</th>\n",
       "      <td>1.627311</td>\n",
       "      <td>1.627311</td>\n",
       "      <td>1.627311</td>\n",
       "      <td>1.627311</td>\n",
       "      <td>1.627311</td>\n",
       "      <td>1.627311</td>\n",
       "      <td>1.627311</td>\n",
       "      <td>1.627311</td>\n",
       "      <td>1.627311</td>\n",
       "      <td>1.627311</td>\n",
       "      <td>...</td>\n",
       "      <td>-0.427010</td>\n",
       "      <td>-0.427010</td>\n",
       "      <td>-0.427010</td>\n",
       "      <td>-0.427172</td>\n",
       "      <td>-0.428773</td>\n",
       "      <td>-0.440720</td>\n",
       "      <td>-0.452667</td>\n",
       "      <td>-0.464613</td>\n",
       "      <td>-0.476560</td>\n",
       "      <td>-0.488507</td>\n",
       "    </tr>\n",
       "    <tr>\n",
       "      <th>2</th>\n",
       "      <td>0.661277</td>\n",
       "      <td>0.661277</td>\n",
       "      <td>0.661277</td>\n",
       "      <td>0.661277</td>\n",
       "      <td>0.661277</td>\n",
       "      <td>0.661277</td>\n",
       "      <td>0.661277</td>\n",
       "      <td>0.661277</td>\n",
       "      <td>0.661277</td>\n",
       "      <td>0.661277</td>\n",
       "      <td>...</td>\n",
       "      <td>-0.862717</td>\n",
       "      <td>-0.862717</td>\n",
       "      <td>-0.862717</td>\n",
       "      <td>-0.862717</td>\n",
       "      <td>-0.862717</td>\n",
       "      <td>-0.862717</td>\n",
       "      <td>-0.862717</td>\n",
       "      <td>-0.862717</td>\n",
       "      <td>-0.862717</td>\n",
       "      <td>-0.862717</td>\n",
       "    </tr>\n",
       "    <tr>\n",
       "      <th>3</th>\n",
       "      <td>0.005185</td>\n",
       "      <td>0.005185</td>\n",
       "      <td>0.005185</td>\n",
       "      <td>0.005185</td>\n",
       "      <td>0.005185</td>\n",
       "      <td>0.005185</td>\n",
       "      <td>0.005185</td>\n",
       "      <td>0.005185</td>\n",
       "      <td>0.005185</td>\n",
       "      <td>0.005185</td>\n",
       "      <td>...</td>\n",
       "      <td>-0.187384</td>\n",
       "      <td>-0.123549</td>\n",
       "      <td>-0.055870</td>\n",
       "      <td>0.011808</td>\n",
       "      <td>0.079487</td>\n",
       "      <td>0.157056</td>\n",
       "      <td>0.253740</td>\n",
       "      <td>0.445503</td>\n",
       "      <td>0.648538</td>\n",
       "      <td>0.851573</td>\n",
       "    </tr>\n",
       "    <tr>\n",
       "      <th>4</th>\n",
       "      <td>1.286198</td>\n",
       "      <td>1.286198</td>\n",
       "      <td>1.286198</td>\n",
       "      <td>1.286198</td>\n",
       "      <td>1.286198</td>\n",
       "      <td>1.286198</td>\n",
       "      <td>1.286198</td>\n",
       "      <td>1.286198</td>\n",
       "      <td>1.286198</td>\n",
       "      <td>1.286198</td>\n",
       "      <td>...</td>\n",
       "      <td>1.867473</td>\n",
       "      <td>1.834319</td>\n",
       "      <td>1.756000</td>\n",
       "      <td>1.638582</td>\n",
       "      <td>1.521164</td>\n",
       "      <td>1.453266</td>\n",
       "      <td>1.515219</td>\n",
       "      <td>1.632637</td>\n",
       "      <td>1.750054</td>\n",
       "      <td>1.867473</td>\n",
       "    </tr>\n",
       "    <tr>\n",
       "      <th>...</th>\n",
       "      <td>...</td>\n",
       "      <td>...</td>\n",
       "      <td>...</td>\n",
       "      <td>...</td>\n",
       "      <td>...</td>\n",
       "      <td>...</td>\n",
       "      <td>...</td>\n",
       "      <td>...</td>\n",
       "      <td>...</td>\n",
       "      <td>...</td>\n",
       "      <td>...</td>\n",
       "      <td>...</td>\n",
       "      <td>...</td>\n",
       "      <td>...</td>\n",
       "      <td>...</td>\n",
       "      <td>...</td>\n",
       "      <td>...</td>\n",
       "      <td>...</td>\n",
       "      <td>...</td>\n",
       "      <td>...</td>\n",
       "      <td>...</td>\n",
       "    </tr>\n",
       "    <tr>\n",
       "      <th>891</th>\n",
       "      <td>0.117811</td>\n",
       "      <td>0.117811</td>\n",
       "      <td>0.117811</td>\n",
       "      <td>0.117811</td>\n",
       "      <td>0.117811</td>\n",
       "      <td>0.117811</td>\n",
       "      <td>0.117811</td>\n",
       "      <td>0.117811</td>\n",
       "      <td>0.117811</td>\n",
       "      <td>0.117811</td>\n",
       "      <td>...</td>\n",
       "      <td>-0.212484</td>\n",
       "      <td>-0.137582</td>\n",
       "      <td>-0.066376</td>\n",
       "      <td>-0.010642</td>\n",
       "      <td>0.026809</td>\n",
       "      <td>0.064260</td>\n",
       "      <td>0.101712</td>\n",
       "      <td>0.139163</td>\n",
       "      <td>0.176614</td>\n",
       "      <td>0.214065</td>\n",
       "    </tr>\n",
       "    <tr>\n",
       "      <th>892</th>\n",
       "      <td>-1.232590</td>\n",
       "      <td>-1.232590</td>\n",
       "      <td>-1.232590</td>\n",
       "      <td>-1.232590</td>\n",
       "      <td>-1.232590</td>\n",
       "      <td>-1.232590</td>\n",
       "      <td>-1.232590</td>\n",
       "      <td>-1.232590</td>\n",
       "      <td>-1.232590</td>\n",
       "      <td>-1.232590</td>\n",
       "      <td>...</td>\n",
       "      <td>0.222775</td>\n",
       "      <td>0.234980</td>\n",
       "      <td>0.247184</td>\n",
       "      <td>0.259389</td>\n",
       "      <td>0.271593</td>\n",
       "      <td>0.283798</td>\n",
       "      <td>0.296003</td>\n",
       "      <td>0.308207</td>\n",
       "      <td>0.320412</td>\n",
       "      <td>0.332617</td>\n",
       "    </tr>\n",
       "    <tr>\n",
       "      <th>893</th>\n",
       "      <td>0.282877</td>\n",
       "      <td>0.282877</td>\n",
       "      <td>0.282877</td>\n",
       "      <td>0.282877</td>\n",
       "      <td>0.282877</td>\n",
       "      <td>0.282877</td>\n",
       "      <td>0.282877</td>\n",
       "      <td>0.282877</td>\n",
       "      <td>0.282877</td>\n",
       "      <td>0.282877</td>\n",
       "      <td>...</td>\n",
       "      <td>-0.044573</td>\n",
       "      <td>-0.043387</td>\n",
       "      <td>-0.038164</td>\n",
       "      <td>0.000695</td>\n",
       "      <td>0.027133</td>\n",
       "      <td>0.039175</td>\n",
       "      <td>0.088921</td>\n",
       "      <td>0.158608</td>\n",
       "      <td>0.223306</td>\n",
       "      <td>0.267828</td>\n",
       "    </tr>\n",
       "    <tr>\n",
       "      <th>894</th>\n",
       "      <td>1.248704</td>\n",
       "      <td>1.248704</td>\n",
       "      <td>1.248704</td>\n",
       "      <td>1.248704</td>\n",
       "      <td>1.248704</td>\n",
       "      <td>1.248704</td>\n",
       "      <td>1.248704</td>\n",
       "      <td>1.248704</td>\n",
       "      <td>1.248704</td>\n",
       "      <td>1.248704</td>\n",
       "      <td>...</td>\n",
       "      <td>-0.160172</td>\n",
       "      <td>-0.162960</td>\n",
       "      <td>-0.190327</td>\n",
       "      <td>-0.296460</td>\n",
       "      <td>-0.407102</td>\n",
       "      <td>-0.504592</td>\n",
       "      <td>-0.559242</td>\n",
       "      <td>-0.549343</td>\n",
       "      <td>-0.505912</td>\n",
       "      <td>-0.433044</td>\n",
       "    </tr>\n",
       "    <tr>\n",
       "      <th>895</th>\n",
       "      <td>-0.168518</td>\n",
       "      <td>-0.168518</td>\n",
       "      <td>-0.168518</td>\n",
       "      <td>-0.168518</td>\n",
       "      <td>-0.168518</td>\n",
       "      <td>-0.168518</td>\n",
       "      <td>-0.168518</td>\n",
       "      <td>-0.168518</td>\n",
       "      <td>-0.168518</td>\n",
       "      <td>-0.168518</td>\n",
       "      <td>...</td>\n",
       "      <td>-0.875563</td>\n",
       "      <td>-0.875563</td>\n",
       "      <td>-0.874925</td>\n",
       "      <td>-0.869817</td>\n",
       "      <td>-0.859210</td>\n",
       "      <td>-0.848602</td>\n",
       "      <td>-0.828104</td>\n",
       "      <td>-0.800426</td>\n",
       "      <td>-0.768603</td>\n",
       "      <td>-0.736781</td>\n",
       "    </tr>\n",
       "  </tbody>\n",
       "</table>\n",
       "<p>896 rows × 945 columns</p>\n",
       "</div>"
      ],
      "text/plain": [
       "          1         2         3         4         5         6         7    \\\n",
       "0   -0.304243 -0.304243 -0.304243 -0.304243 -0.304243 -0.304243 -0.304243   \n",
       "1    1.627311  1.627311  1.627311  1.627311  1.627311  1.627311  1.627311   \n",
       "2    0.661277  0.661277  0.661277  0.661277  0.661277  0.661277  0.661277   \n",
       "3    0.005185  0.005185  0.005185  0.005185  0.005185  0.005185  0.005185   \n",
       "4    1.286198  1.286198  1.286198  1.286198  1.286198  1.286198  1.286198   \n",
       "..        ...       ...       ...       ...       ...       ...       ...   \n",
       "891  0.117811  0.117811  0.117811  0.117811  0.117811  0.117811  0.117811   \n",
       "892 -1.232590 -1.232590 -1.232590 -1.232590 -1.232590 -1.232590 -1.232590   \n",
       "893  0.282877  0.282877  0.282877  0.282877  0.282877  0.282877  0.282877   \n",
       "894  1.248704  1.248704  1.248704  1.248704  1.248704  1.248704  1.248704   \n",
       "895 -0.168518 -0.168518 -0.168518 -0.168518 -0.168518 -0.168518 -0.168518   \n",
       "\n",
       "          8         9         10   ...       306       307       308  \\\n",
       "0   -0.304243 -0.304243 -0.304243  ...  0.523217  0.513994  0.503481   \n",
       "1    1.627311  1.627311  1.627311  ... -0.427010 -0.427010 -0.427010   \n",
       "2    0.661277  0.661277  0.661277  ... -0.862717 -0.862717 -0.862717   \n",
       "3    0.005185  0.005185  0.005185  ... -0.187384 -0.123549 -0.055870   \n",
       "4    1.286198  1.286198  1.286198  ...  1.867473  1.834319  1.756000   \n",
       "..        ...       ...       ...  ...       ...       ...       ...   \n",
       "891  0.117811  0.117811  0.117811  ... -0.212484 -0.137582 -0.066376   \n",
       "892 -1.232590 -1.232590 -1.232590  ...  0.222775  0.234980  0.247184   \n",
       "893  0.282877  0.282877  0.282877  ... -0.044573 -0.043387 -0.038164   \n",
       "894  1.248704  1.248704  1.248704  ... -0.160172 -0.162960 -0.190327   \n",
       "895 -0.168518 -0.168518 -0.168518  ... -0.875563 -0.875563 -0.874925   \n",
       "\n",
       "          309       310       311       312       313       314       315  \n",
       "0    0.492967  0.474522  0.456077  0.437632  0.419187  0.400743  0.382298  \n",
       "1   -0.427172 -0.428773 -0.440720 -0.452667 -0.464613 -0.476560 -0.488507  \n",
       "2   -0.862717 -0.862717 -0.862717 -0.862717 -0.862717 -0.862717 -0.862717  \n",
       "3    0.011808  0.079487  0.157056  0.253740  0.445503  0.648538  0.851573  \n",
       "4    1.638582  1.521164  1.453266  1.515219  1.632637  1.750054  1.867473  \n",
       "..        ...       ...       ...       ...       ...       ...       ...  \n",
       "891 -0.010642  0.026809  0.064260  0.101712  0.139163  0.176614  0.214065  \n",
       "892  0.259389  0.271593  0.283798  0.296003  0.308207  0.320412  0.332617  \n",
       "893  0.000695  0.027133  0.039175  0.088921  0.158608  0.223306  0.267828  \n",
       "894 -0.296460 -0.407102 -0.504592 -0.559242 -0.549343 -0.505912 -0.433044  \n",
       "895 -0.869817 -0.859210 -0.848602 -0.828104 -0.800426 -0.768603 -0.736781  \n",
       "\n",
       "[896 rows x 945 columns]"
      ]
     },
     "execution_count": 9,
     "metadata": {},
     "output_type": "execute_result"
    }
   ],
   "source": [
    "con_train = pd.concat([df_x , df_y.iloc[:,1:]] , axis = 1)\n",
    "con_train = pd.concat([con_train , df_z.iloc[:,1:]] , axis = 1)\n",
    "classes1 = con_train.iloc[:,0]\n",
    "con_train = con_train.iloc[:,1:]\n",
    "con_train"
   ]
  },
  {
   "cell_type": "code",
   "execution_count": 10,
   "id": "dd35079b",
   "metadata": {},
   "outputs": [],
   "source": [
    "x_test = pd.read_csv(\"Downloads/uWaveGestureLibrary_X_TEST\", delim_whitespace=True, header=None)\n",
    "y_test = pd.read_csv(\"Downloads/uWaveGestureLibrary_Y_TEST\", delim_whitespace=True, header=None)\n",
    "z_test = pd.read_csv(\"Downloads/uWaveGestureLibrary_Z_TEST\", delim_whitespace=True, header=None)"
   ]
  },
  {
   "cell_type": "code",
   "execution_count": 11,
   "id": "8a5b55a6",
   "metadata": {},
   "outputs": [],
   "source": [
    "con_test = pd.concat([x_test , y_test.iloc[:,1:]] , axis = 1)\n",
    "con_test = pd.concat([con_test , z_test.iloc[:,1:]] , axis = 1)\n",
    "classes2 = con_test.iloc[:,0]\n",
    "con_test = con_test.iloc[:,1:]\n"
   ]
  },
  {
   "cell_type": "markdown",
   "id": "4525b26a",
   "metadata": {},
   "source": [
    "## A"
   ]
  },
  {
   "cell_type": "code",
   "execution_count": 17,
   "id": "8444a035",
   "metadata": {},
   "outputs": [],
   "source": [
    "scores= []\n",
    "for i in range(1,16):\n",
    "    knn = KNeighborsClassifier(n_neighbors=i,p=1) # p=1 so this is manhattan distance, weight = uniform by default\n",
    "    score = cross_val_score(knn, con_train, classes1, cv=10)\n",
    "    scores.append(np.mean(score))\n",
    "error =np.ones_like(scores)-scores\n",
    "ideal_k_1 = np.argmin(error) + 1"
   ]
  },
  {
   "cell_type": "code",
   "execution_count": 19,
   "id": "1d2824c3",
   "metadata": {
    "scrolled": true
   },
   "outputs": [
    {
     "name": "stdout",
     "output_type": "stream",
     "text": [
      "Minimum error:  0.04126092384519353 at K = 1\n"
     ]
    },
    {
     "data": {
      "image/png": "[encoded data removed]",
      "text/plain": [
       "<Figure size 720x432 with 1 Axes>"
      ]
     },
     "metadata": {
      "needs_background": "light"
     },
     "output_type": "display_data"
    }
   ],
   "source": [
    "plt.figure(figsize=(10,6))\n",
    "plt.plot(range(1,16),error)\n",
    "plt.title('Manhanttan distance error rate ')\n",
    "plt.xlabel('K')\n",
    "plt.ylabel('Error')\n",
    "print(\"Minimum error: \",min(error),\"at K =\", ideal_k_1)"
   ]
  },
  {
   "cell_type": "code",
   "execution_count": 20,
   "id": "b824a9c3",
   "metadata": {},
   "outputs": [],
   "source": [
    "scores2= []\n",
    "for i in range(1,16):\n",
    "    knn = KNeighborsClassifier(n_neighbors=i,p=2) # p=2 so this is euclidian distance\n",
    "    score = cross_val_score(knn, con_train, classes1, cv=10)\n",
    "    scores2.append(np.mean(score))\n",
    "error =np.ones_like(scores)-scores2\n",
    "ideal_k_2 = np.argmin(error) + 1"
   ]
  },
  {
   "cell_type": "code",
   "execution_count": 21,
   "id": "270be097",
   "metadata": {},
   "outputs": [
    {
     "name": "stdout",
     "output_type": "stream",
     "text": [
      "Minimum error:  0.05580524344569293 at K = 3\n"
     ]
    },
    {
     "data": {
      "image/png": "[encoded data removed]",
      "text/plain": [
       "<Figure size 720x432 with 1 Axes>"
      ]
     },
     "metadata": {
      "needs_background": "light"
     },
     "output_type": "display_data"
    }
   ],
   "source": [
    "plt.figure(figsize=(10,6))\n",
    "plt.plot(range(1,16),error)\n",
    "plt.title('Euclidian distance error rate')\n",
    "plt.xlabel('K')\n",
    "plt.ylabel('Error')\n",
    "print(\"Minimum error: \",min(error),\"at K =\", ideal_k_2)"
   ]
  },
  {
   "cell_type": "markdown",
   "id": "cb5133de",
   "metadata": {},
   "source": [
    "## B"
   ]
  },
  {
   "cell_type": "code",
   "execution_count": 67,
   "id": "978fa239",
   "metadata": {},
   "outputs": [
    {
     "name": "stdout",
     "output_type": "stream",
     "text": [
      "5.048490285873413\n"
     ]
    }
   ],
   "source": [
    "start = time.time()\n",
    "\n",
    "\n",
    "knn1 = KNeighborsClassifier(n_neighbors=1 ,p=1) # p=1 so this is manhattan distance\n",
    "\n",
    "knn1.fit(con_train,classes1)\n",
    "\n",
    "pred1 = knn1.predict(con_test)\n",
    "\n",
    "finish = time.time()\n",
    "print(finish- start)\n",
    "\n",
    "\n"
   ]
  },
  {
   "cell_type": "code",
   "execution_count": 68,
   "id": "5ffdf729",
   "metadata": {},
   "outputs": [
    {
     "name": "stdout",
     "output_type": "stream",
     "text": [
      "accuracy value of manhattan distance is 0.954215522054718\n"
     ]
    },
    {
     "data": {
      "text/html": [
       "<div>\n",
       "<style scoped>\n",
       "    .dataframe tbody tr th:only-of-type {\n",
       "        vertical-align: middle;\n",
       "    }\n",
       "\n",
       "    .dataframe tbody tr th {\n",
       "        vertical-align: top;\n",
       "    }\n",
       "\n",
       "    .dataframe thead th {\n",
       "        text-align: right;\n",
       "    }\n",
       "</style>\n",
       "<table border=\"1\" class=\"dataframe\">\n",
       "  <thead>\n",
       "    <tr style=\"text-align: right;\">\n",
       "      <th>predicted</th>\n",
       "      <th>1.0</th>\n",
       "      <th>2.0</th>\n",
       "      <th>3.0</th>\n",
       "      <th>4.0</th>\n",
       "      <th>5.0</th>\n",
       "      <th>6.0</th>\n",
       "      <th>7.0</th>\n",
       "      <th>8.0</th>\n",
       "    </tr>\n",
       "    <tr>\n",
       "      <th>actual</th>\n",
       "      <th></th>\n",
       "      <th></th>\n",
       "      <th></th>\n",
       "      <th></th>\n",
       "      <th></th>\n",
       "      <th></th>\n",
       "      <th></th>\n",
       "      <th></th>\n",
       "    </tr>\n",
       "  </thead>\n",
       "  <tbody>\n",
       "    <tr>\n",
       "      <th>1.0</th>\n",
       "      <td>430</td>\n",
       "      <td>0</td>\n",
       "      <td>0</td>\n",
       "      <td>2</td>\n",
       "      <td>0</td>\n",
       "      <td>5</td>\n",
       "      <td>0</td>\n",
       "      <td>0</td>\n",
       "    </tr>\n",
       "    <tr>\n",
       "      <th>2.0</th>\n",
       "      <td>1</td>\n",
       "      <td>451</td>\n",
       "      <td>0</td>\n",
       "      <td>0</td>\n",
       "      <td>0</td>\n",
       "      <td>0</td>\n",
       "      <td>0</td>\n",
       "      <td>0</td>\n",
       "    </tr>\n",
       "    <tr>\n",
       "      <th>3.0</th>\n",
       "      <td>2</td>\n",
       "      <td>0</td>\n",
       "      <td>418</td>\n",
       "      <td>0</td>\n",
       "      <td>16</td>\n",
       "      <td>14</td>\n",
       "      <td>4</td>\n",
       "      <td>0</td>\n",
       "    </tr>\n",
       "    <tr>\n",
       "      <th>4.0</th>\n",
       "      <td>3</td>\n",
       "      <td>0</td>\n",
       "      <td>0</td>\n",
       "      <td>392</td>\n",
       "      <td>40</td>\n",
       "      <td>11</td>\n",
       "      <td>0</td>\n",
       "      <td>4</td>\n",
       "    </tr>\n",
       "    <tr>\n",
       "      <th>5.0</th>\n",
       "      <td>3</td>\n",
       "      <td>0</td>\n",
       "      <td>9</td>\n",
       "      <td>5</td>\n",
       "      <td>415</td>\n",
       "      <td>1</td>\n",
       "      <td>0</td>\n",
       "      <td>0</td>\n",
       "    </tr>\n",
       "    <tr>\n",
       "      <th>6.0</th>\n",
       "      <td>3</td>\n",
       "      <td>0</td>\n",
       "      <td>5</td>\n",
       "      <td>13</td>\n",
       "      <td>16</td>\n",
       "      <td>411</td>\n",
       "      <td>0</td>\n",
       "      <td>1</td>\n",
       "    </tr>\n",
       "    <tr>\n",
       "      <th>7.0</th>\n",
       "      <td>0</td>\n",
       "      <td>0</td>\n",
       "      <td>2</td>\n",
       "      <td>0</td>\n",
       "      <td>0</td>\n",
       "      <td>0</td>\n",
       "      <td>445</td>\n",
       "      <td>0</td>\n",
       "    </tr>\n",
       "    <tr>\n",
       "      <th>8.0</th>\n",
       "      <td>0</td>\n",
       "      <td>0</td>\n",
       "      <td>0</td>\n",
       "      <td>3</td>\n",
       "      <td>1</td>\n",
       "      <td>0</td>\n",
       "      <td>0</td>\n",
       "      <td>456</td>\n",
       "    </tr>\n",
       "  </tbody>\n",
       "</table>\n",
       "</div>"
      ],
      "text/plain": [
       "predicted  1.0  2.0  3.0  4.0  5.0  6.0  7.0  8.0\n",
       "actual                                           \n",
       "1.0        430    0    0    2    0    5    0    0\n",
       "2.0          1  451    0    0    0    0    0    0\n",
       "3.0          2    0  418    0   16   14    4    0\n",
       "4.0          3    0    0  392   40   11    0    4\n",
       "5.0          3    0    9    5  415    1    0    0\n",
       "6.0          3    0    5   13   16  411    0    1\n",
       "7.0          0    0    2    0    0    0  445    0\n",
       "8.0          0    0    0    3    1    0    0  456"
      ]
     },
     "execution_count": 68,
     "metadata": {},
     "output_type": "execute_result"
    }
   ],
   "source": [
    "knn_1_acc = accuracy_score(classes2,pred1)\n",
    "print('accuracy value of manhattan distance is', knn_1_acc)\n",
    "\n",
    "confusion1 = pd.crosstab(classes2, pred1 , colnames=['predicted'],rownames=['actual'])\n",
    "confusion1"
   ]
  },
  {
   "cell_type": "code",
   "execution_count": 69,
   "id": "bbeca759",
   "metadata": {},
   "outputs": [
    {
     "name": "stdout",
     "output_type": "stream",
     "text": [
      "0.3570404052734375\n"
     ]
    }
   ],
   "source": [
    "start = time.time()\n",
    "\n",
    "\n",
    "knn2 = KNeighborsClassifier(n_neighbors=ideal_k_2 ,p=2) # p=2 so this is euclidian distance\n",
    "\n",
    "knn2.fit(con_train,classes1)\n",
    "\n",
    "pred2 = knn2.predict(con_test)\n",
    "\n",
    "finish = time.time()\n",
    "print(finish- start)\n"
   ]
  },
  {
   "cell_type": "code",
   "execution_count": 70,
   "id": "81418ddc",
   "metadata": {},
   "outputs": [
    {
     "name": "stdout",
     "output_type": "stream",
     "text": [
      "accuracy value of euclidian distance is 0.9438860971524288\n"
     ]
    },
    {
     "data": {
      "text/html": [
       "<div>\n",
       "<style scoped>\n",
       "    .dataframe tbody tr th:only-of-type {\n",
       "        vertical-align: middle;\n",
       "    }\n",
       "\n",
       "    .dataframe tbody tr th {\n",
       "        vertical-align: top;\n",
       "    }\n",
       "\n",
       "    .dataframe thead th {\n",
       "        text-align: right;\n",
       "    }\n",
       "</style>\n",
       "<table border=\"1\" class=\"dataframe\">\n",
       "  <thead>\n",
       "    <tr style=\"text-align: right;\">\n",
       "      <th>predicted</th>\n",
       "      <th>1.0</th>\n",
       "      <th>2.0</th>\n",
       "      <th>3.0</th>\n",
       "      <th>4.0</th>\n",
       "      <th>5.0</th>\n",
       "      <th>6.0</th>\n",
       "      <th>7.0</th>\n",
       "      <th>8.0</th>\n",
       "    </tr>\n",
       "    <tr>\n",
       "      <th>actual</th>\n",
       "      <th></th>\n",
       "      <th></th>\n",
       "      <th></th>\n",
       "      <th></th>\n",
       "      <th></th>\n",
       "      <th></th>\n",
       "      <th></th>\n",
       "      <th></th>\n",
       "    </tr>\n",
       "  </thead>\n",
       "  <tbody>\n",
       "    <tr>\n",
       "      <th>1.0</th>\n",
       "      <td>431</td>\n",
       "      <td>0</td>\n",
       "      <td>0</td>\n",
       "      <td>2</td>\n",
       "      <td>0</td>\n",
       "      <td>4</td>\n",
       "      <td>0</td>\n",
       "      <td>0</td>\n",
       "    </tr>\n",
       "    <tr>\n",
       "      <th>2.0</th>\n",
       "      <td>1</td>\n",
       "      <td>449</td>\n",
       "      <td>0</td>\n",
       "      <td>0</td>\n",
       "      <td>0</td>\n",
       "      <td>0</td>\n",
       "      <td>2</td>\n",
       "      <td>0</td>\n",
       "    </tr>\n",
       "    <tr>\n",
       "      <th>3.0</th>\n",
       "      <td>2</td>\n",
       "      <td>0</td>\n",
       "      <td>413</td>\n",
       "      <td>0</td>\n",
       "      <td>15</td>\n",
       "      <td>20</td>\n",
       "      <td>4</td>\n",
       "      <td>0</td>\n",
       "    </tr>\n",
       "    <tr>\n",
       "      <th>4.0</th>\n",
       "      <td>7</td>\n",
       "      <td>0</td>\n",
       "      <td>0</td>\n",
       "      <td>370</td>\n",
       "      <td>60</td>\n",
       "      <td>6</td>\n",
       "      <td>0</td>\n",
       "      <td>7</td>\n",
       "    </tr>\n",
       "    <tr>\n",
       "      <th>5.0</th>\n",
       "      <td>3</td>\n",
       "      <td>0</td>\n",
       "      <td>6</td>\n",
       "      <td>1</td>\n",
       "      <td>422</td>\n",
       "      <td>1</td>\n",
       "      <td>0</td>\n",
       "      <td>0</td>\n",
       "    </tr>\n",
       "    <tr>\n",
       "      <th>6.0</th>\n",
       "      <td>6</td>\n",
       "      <td>0</td>\n",
       "      <td>7</td>\n",
       "      <td>15</td>\n",
       "      <td>28</td>\n",
       "      <td>392</td>\n",
       "      <td>1</td>\n",
       "      <td>0</td>\n",
       "    </tr>\n",
       "    <tr>\n",
       "      <th>7.0</th>\n",
       "      <td>0</td>\n",
       "      <td>0</td>\n",
       "      <td>1</td>\n",
       "      <td>0</td>\n",
       "      <td>0</td>\n",
       "      <td>0</td>\n",
       "      <td>446</td>\n",
       "      <td>0</td>\n",
       "    </tr>\n",
       "    <tr>\n",
       "      <th>8.0</th>\n",
       "      <td>0</td>\n",
       "      <td>0</td>\n",
       "      <td>0</td>\n",
       "      <td>1</td>\n",
       "      <td>1</td>\n",
       "      <td>0</td>\n",
       "      <td>0</td>\n",
       "      <td>458</td>\n",
       "    </tr>\n",
       "  </tbody>\n",
       "</table>\n",
       "</div>"
      ],
      "text/plain": [
       "predicted  1.0  2.0  3.0  4.0  5.0  6.0  7.0  8.0\n",
       "actual                                           \n",
       "1.0        431    0    0    2    0    4    0    0\n",
       "2.0          1  449    0    0    0    0    2    0\n",
       "3.0          2    0  413    0   15   20    4    0\n",
       "4.0          7    0    0  370   60    6    0    7\n",
       "5.0          3    0    6    1  422    1    0    0\n",
       "6.0          6    0    7   15   28  392    1    0\n",
       "7.0          0    0    1    0    0    0  446    0\n",
       "8.0          0    0    0    1    1    0    0  458"
      ]
     },
     "execution_count": 70,
     "metadata": {},
     "output_type": "execute_result"
    }
   ],
   "source": [
    "knn_2_acc = accuracy_score(classes2,pred2)\n",
    "print('accuracy value of euclidian distance is', knn_2_acc)\n",
    "\n",
    "confusion2 = pd.crosstab(classes2, pred2 , colnames=['predicted'],rownames=['actual'])\n",
    "confusion2"
   ]
  },
  {
   "cell_type": "markdown",
   "id": "99d16b49",
   "metadata": {},
   "source": [
    "##### somehow time spent on manhattan distance is longer than euclidian distance in my model. However, manhanttan distance model has higher accuracy than euclidian model. The reason for this result is may be curse of dimensinality. From confusion matrices, class 6 is tend to mispredicted as class 5 and 4; and the model tend to predict as class 5. The reasons for these cases may be the number examples for the classes."
   ]
  },
  {
   "cell_type": "markdown",
   "id": "bc617ac7",
   "metadata": {},
   "source": [
    "## C"
   ]
  },
  {
   "cell_type": "markdown",
   "id": "96f37d25",
   "metadata": {},
   "source": [
    "###### Yes, it does make sense because while concataneting axes we reduced the into 2-d; however, our actual data is 3-d, so the weight of some dimension may be obscure with current model."
   ]
  },
  {
   "cell_type": "markdown",
   "id": "73d37ef8",
   "metadata": {},
   "source": [
    "# 2"
   ]
  },
  {
   "cell_type": "markdown",
   "id": "1ee7f209",
   "metadata": {},
   "source": [
    "## A"
   ]
  },
  {
   "cell_type": "code",
   "execution_count": 79,
   "id": "bf74f5fd",
   "metadata": {},
   "outputs": [
    {
     "name": "stdout",
     "output_type": "stream",
     "text": [
      "0.11830357142857142\n"
     ]
    }
   ],
   "source": [
    "ratio = classes1[classes1 == 3].size / classes1.size\n",
    "print(ratio)"
   ]
  },
  {
   "cell_type": "code",
   "execution_count": 87,
   "id": "196e1d54",
   "metadata": {},
   "outputs": [
    {
     "name": "stdout",
     "output_type": "stream",
     "text": [
      "[0 0 0 1 0 0 0 0 0 0 0 0 1 0 0 0 0 0 0 0]\n"
     ]
    }
   ],
   "source": [
    "from sklearn.linear_model import LogisticRegression\n",
    "classes1_ = np.where(classes1==3, 1, 0)\n",
    "print(classes1_[:20])"
   ]
  },
  {
   "cell_type": "code",
   "execution_count": 99,
   "id": "1813648d",
   "metadata": {},
   "outputs": [
    {
     "name": "stderr",
     "output_type": "stream",
     "text": [
      "C:\\Users\\T460s\\anaconda3\\lib\\site-packages\\sklearn\\linear_model\\_logistic.py:763: ConvergenceWarning: lbfgs failed to converge (status=1):\n",
      "STOP: TOTAL NO. of ITERATIONS REACHED LIMIT.\n",
      "\n",
      "Increase the number of iterations (max_iter) or scale the data as shown in:\n",
      "    https://scikit-learn.org/stable/modules/preprocessing.html\n",
      "Please also refer to the documentation for alternative solver options:\n",
      "    https://scikit-learn.org/stable/modules/linear_model.html#logistic-regression\n",
      "  n_iter_i = _check_optimize_result(\n"
     ]
    },
    {
     "data": {
      "text/plain": [
       "LogisticRegression(class_weight={0: 0.8816964285714286, 1: 0.11830357142857142})"
      ]
     },
     "execution_count": 99,
     "metadata": {},
     "output_type": "execute_result"
    }
   ],
   "source": [
    "logistic= LogisticRegression(class_weight = {1: ratio, 0: 1-ratio}) # instead of interpreting probabilities I am passing class_weights to the predictor \n",
    "logistic.fit(con_train,classes1_)"
   ]
  },
  {
   "cell_type": "code",
   "execution_count": 98,
   "id": "a150ebe6",
   "metadata": {},
   "outputs": [
    {
     "name": "stdout",
     "output_type": "stream",
     "text": [
      "Accuracy :  0.9438860971524288\n"
     ]
    },
    {
     "data": {
      "text/html": [
       "<div>\n",
       "<style scoped>\n",
       "    .dataframe tbody tr th:only-of-type {\n",
       "        vertical-align: middle;\n",
       "    }\n",
       "\n",
       "    .dataframe tbody tr th {\n",
       "        vertical-align: top;\n",
       "    }\n",
       "\n",
       "    .dataframe thead th {\n",
       "        text-align: right;\n",
       "    }\n",
       "</style>\n",
       "<table border=\"1\" class=\"dataframe\">\n",
       "  <thead>\n",
       "    <tr style=\"text-align: right;\">\n",
       "      <th>predicted</th>\n",
       "      <th>0</th>\n",
       "      <th>1</th>\n",
       "    </tr>\n",
       "    <tr>\n",
       "      <th>actual</th>\n",
       "      <th></th>\n",
       "      <th></th>\n",
       "    </tr>\n",
       "  </thead>\n",
       "  <tbody>\n",
       "    <tr>\n",
       "      <th>0</th>\n",
       "      <td>3096</td>\n",
       "      <td>32</td>\n",
       "    </tr>\n",
       "    <tr>\n",
       "      <th>1</th>\n",
       "      <td>169</td>\n",
       "      <td>285</td>\n",
       "    </tr>\n",
       "  </tbody>\n",
       "</table>\n",
       "</div>"
      ],
      "text/plain": [
       "predicted     0    1\n",
       "actual              \n",
       "0          3096   32\n",
       "1           169  285"
      ]
     },
     "execution_count": 98,
     "metadata": {},
     "output_type": "execute_result"
    }
   ],
   "source": [
    "classes2_ = np.where(classes2==3, 1, 0)\n",
    "pred_ = logistic.predict(con_test)\n",
    "print(\"Accuracy : \", accuracy_score(classes2_,pred_))\n",
    "\n",
    "confusion2 = pd.crosstab(classes2_, pred_ , colnames=['predicted'],rownames=['actual'])\n",
    "confusion2"
   ]
  },
  {
   "cell_type": "markdown",
   "id": "c2abe3a9",
   "metadata": {},
   "source": [
    "## B"
   ]
  },
  {
   "cell_type": "code",
   "execution_count": 100,
   "id": "d1602173",
   "metadata": {},
   "outputs": [],
   "source": [
    "from sklearn.linear_model import LogisticRegressionCV\n",
    "from sklearn.metrics import log_loss\n",
    "\n",
    "scores = []\n",
    "lamb = np.arange(1,15,0.4)\n",
    "\n",
    "log_cv = LogisticRegressionCV(Cs = lamb, cv = 10 ,class_weight = {1: ratio, 0: 1-ratio}, penalty='l1',solver='liblinear', \n",
    "                                 scoring = 'neg_log_loss',random_state = 42)"
   ]
  },
  {
   "cell_type": "code",
   "execution_count": 101,
   "id": "338da4a5",
   "metadata": {},
   "outputs": [
    {
     "data": {
      "text/plain": [
       "-0.10352229345452732"
      ]
     },
     "execution_count": 101,
     "metadata": {},
     "output_type": "execute_result"
    }
   ],
   "source": [
    "log_cv.fit(con_train,classes1_)"
   ]
  },
  {
   "cell_type": "code",
   "execution_count": 107,
   "id": "27ed9208",
   "metadata": {},
   "outputs": [
    {
     "name": "stdout",
     "output_type": "stream",
     "text": [
      "best regulization parameter is  [2.6]\n"
     ]
    }
   ],
   "source": [
    "print('best regulization parameter is ', log_cv.C_)"
   ]
  },
  {
   "cell_type": "code",
   "execution_count": 109,
   "id": "18c491b5",
   "metadata": {},
   "outputs": [
    {
     "name": "stdout",
     "output_type": "stream",
     "text": [
      "Accuracy :  0.9422110552763819\n"
     ]
    }
   ],
   "source": [
    "pred_lg = log_cv.predict(con_test)\n",
    "print(\"Accuracy : \", accuracy_score(classes2_,pred_lg))"
   ]
  },
  {
   "cell_type": "code",
   "execution_count": 140,
   "id": "2cec2c8f",
   "metadata": {},
   "outputs": [
    {
     "name": "stdout",
     "output_type": "stream",
     "text": [
      "877 feature weight reduced to zero with the lambda value of  [2.6] with the total number of feature of 945 . The ratio is  92.8 %\n"
     ]
    }
   ],
   "source": [
    "print(len(log_cv.coef_[log_cv.coef_== 0]), \"feature weight reduced to zero with the lambda value of \", log_cv.C_, \"with the total number of feature of\",\n",
    "      len(log_cv.coef_[0]), \". The ratio is \",round(len(log_cv.coef_[log_cv.coef_== 0])/len(log_cv.coef_[0])*100,2), \"%\")"
   ]
  },
  {
   "cell_type": "code",
   "execution_count": 135,
   "id": "c45f37fa",
   "metadata": {},
   "outputs": [
    {
     "name": "stdout",
     "output_type": "stream",
     "text": [
      "first 5 number of features with the highest weight [ 42 812 144 885 803]\n",
      "first 5 number of features with the lowest weight [237 258 506 280 480]\n"
     ]
    }
   ],
   "source": [
    "print(\"first 5 number of features with the highest weight\",np.argsort(log_cv.coef_.flatten())[:5])\n",
    "print(\"first 5 number of features with the lowest weight\",np.argsort(log_cv.coef_.flatten())[-5:])"
   ]
  },
  {
   "cell_type": "markdown",
   "id": "83fef6aa",
   "metadata": {},
   "source": [
    "##### In case where we have larger number of features than the number of data points, regulalation methods are useful. In our data, we have so much unimportant so using Lasso penalties so we reduce the weight of unimportant features to 0 more helpful rather than using Ridge penalty, where the weights converge to zero but never reaches. In our data, 92% of feature's weighr reduced to zero, which makes sense."
   ]
  },
  {
   "cell_type": "markdown",
   "id": "af8efeed",
   "metadata": {},
   "source": [
    "## C"
   ]
  },
  {
   "cell_type": "code",
   "execution_count": null,
   "id": "91d7c813",
   "metadata": {},
   "outputs": [],
   "source": [
    "??"
   ]
  }
 ],
 "metadata": {
  "kernelspec": {
   "display_name": "Python 3",
   "language": "python",
   "name": "python3"
  },
  "language_info": {
   "codemirror_mode": {
    "name": "ipython",
    "version": 3
   },
   "file_extension": ".py",
   "mimetype": "text/x-python",
   "name": "python",
   "nbconvert_exporter": "python",
   "pygments_lexer": "ipython3",
   "version": "3.8.8"
  }
 },
 "nbformat": 4,
 "nbformat_minor": 5
}
